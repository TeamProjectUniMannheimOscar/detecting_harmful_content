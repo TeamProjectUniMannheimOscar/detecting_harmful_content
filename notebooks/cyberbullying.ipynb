{
  "cells": [
    {
      "cell_type": "markdown",
      "metadata": {
        "id": "pdIoGVy0dLFJ"
      },
      "source": [
        "# Set up"
      ]
    },
    {
      "cell_type": "markdown",
      "metadata": {
        "id": "dAbpqgiYZQTw"
      },
      "source": [
        "## Package Loading"
      ]
    },
    {
      "cell_type": "code",
      "execution_count": 1,
      "metadata": {
        "colab": {
          "base_uri": "https://localhost:8080/"
        },
        "id": "pkuSpTlmZZ17",
        "outputId": "99838f26-3e03-4971-e3f3-b943e42736c0"
      },
      "outputs": [
        {
          "output_type": "stream",
          "name": "stdout",
          "text": [
            "Collecting emoji\n",
            "  Downloading emoji-1.7.0.tar.gz (175 kB)\n",
            "\u001b[?25l\r\u001b[K     |█▉                              | 10 kB 26.1 MB/s eta 0:00:01\r\u001b[K     |███▊                            | 20 kB 10.3 MB/s eta 0:00:01\r\u001b[K     |█████▋                          | 30 kB 8.7 MB/s eta 0:00:01\r\u001b[K     |███████▌                        | 40 kB 7.1 MB/s eta 0:00:01\r\u001b[K     |█████████▍                      | 51 kB 3.6 MB/s eta 0:00:01\r\u001b[K     |███████████▏                    | 61 kB 4.3 MB/s eta 0:00:01\r\u001b[K     |█████████████                   | 71 kB 4.4 MB/s eta 0:00:01\r\u001b[K     |███████████████                 | 81 kB 4.3 MB/s eta 0:00:01\r\u001b[K     |████████████████▉               | 92 kB 4.8 MB/s eta 0:00:01\r\u001b[K     |██████████████████▊             | 102 kB 4.3 MB/s eta 0:00:01\r\u001b[K     |████████████████████▌           | 112 kB 4.3 MB/s eta 0:00:01\r\u001b[K     |██████████████████████▍         | 122 kB 4.3 MB/s eta 0:00:01\r\u001b[K     |████████████████████████▎       | 133 kB 4.3 MB/s eta 0:00:01\r\u001b[K     |██████████████████████████▏     | 143 kB 4.3 MB/s eta 0:00:01\r\u001b[K     |████████████████████████████    | 153 kB 4.3 MB/s eta 0:00:01\r\u001b[K     |█████████████████████████████▉  | 163 kB 4.3 MB/s eta 0:00:01\r\u001b[K     |███████████████████████████████▊| 174 kB 4.3 MB/s eta 0:00:01\r\u001b[K     |████████████████████████████████| 175 kB 4.3 MB/s \n",
            "\u001b[?25hBuilding wheels for collected packages: emoji\n",
            "  Building wheel for emoji (setup.py) ... \u001b[?25l\u001b[?25hdone\n",
            "  Created wheel for emoji: filename=emoji-1.7.0-py3-none-any.whl size=171046 sha256=4a932d6e6ed4d8894badc68d0c5e17ff1f142e130431af179390e42367016fb1\n",
            "  Stored in directory: /root/.cache/pip/wheels/8a/4e/b6/57b01db010d17ef6ea9b40300af725ef3e210cb1acfb7ac8b6\n",
            "Successfully built emoji\n",
            "Installing collected packages: emoji\n",
            "Successfully installed emoji-1.7.0\n",
            "Requirement already satisfied: nltk in /usr/local/lib/python3.7/dist-packages (3.2.5)\n",
            "Requirement already satisfied: six in /usr/local/lib/python3.7/dist-packages (from nltk) (1.15.0)\n",
            "[nltk_data] Downloading package punkt to /root/nltk_data...\n",
            "[nltk_data]   Unzipping tokenizers/punkt.zip.\n",
            "[nltk_data] Downloading package stopwords to /root/nltk_data...\n",
            "[nltk_data]   Unzipping corpora/stopwords.zip.\n",
            "Mounted at /content/drive\n"
          ]
        }
      ],
      "source": [
        "import pandas as pd\n",
        "import numpy as np\n",
        "import itertools\n",
        "!pip install emoji\n",
        "import emoji\n",
        "import re\n",
        "!pip install nltk\n",
        "import nltk\n",
        "nltk.download('punkt')\n",
        "nltk.download('stopwords')\n",
        "from nltk.corpus import stopwords \n",
        "from nltk.tokenize import word_tokenize \n",
        "from sklearn.utils.multiclass import unique_labels\n",
        "from sklearn.feature_extraction.text import TfidfVectorizer, CountVectorizer\n",
        "from imblearn.pipeline import Pipeline\n",
        "from imblearn.over_sampling import RandomOverSampler, ADASYN, SMOTE\n",
        "from imblearn.under_sampling import RandomUnderSampler, NearMiss\n",
        "from sklearn.pipeline import make_pipeline\n",
        "from sklearn.model_selection import train_test_split, StratifiedKFold, cross_val_predict, GridSearchCV\n",
        "from sklearn.svm import LinearSVC\n",
        "from sklearn.linear_model import SGDClassifier\n",
        "from sklearn.ensemble import ExtraTreesClassifier, RandomForestClassifier\n",
        "from sklearn.tree import DecisionTreeClassifier\n",
        "from sklearn.linear_model import LogisticRegression\n",
        "from sklearn.metrics import classification_report, accuracy_score, confusion_matrix, f1_score, make_scorer\n",
        "import matplotlib.pyplot as plt\n",
        "import time\n",
        "import joblib\n",
        "\n",
        "from google.colab import drive\n",
        "drive.mount('/content/drive')"
      ]
    },
    {
      "cell_type": "markdown",
      "metadata": {
        "id": "bhhHbBWheQb-"
      },
      "source": [
        "## Set Up paths"
      ]
    },
    {
      "cell_type": "code",
      "execution_count": 2,
      "metadata": {
        "id": "frFeRDORe2DQ"
      },
      "outputs": [],
      "source": [
        "# Parent paths\n",
        "google_path = '/content/drive/My Drive/'\n",
        "local_path = '/home/v.zevallosm/'\n",
        "parent_path = google_path\n",
        "folder_path = 'team project/codes/models/cyberbullying/'\n",
        "\n",
        "#Specific paths\n",
        "path_train = parent_path+\"team project/data set/dataset search/Cyberbullying Data/cyberbullying_tweets.csv\" \n",
        "path_proprocessed = parent_path+\"team project/data set/dataset search/Cyberbullying Data/text_without_sw.csv\" \n",
        "\n",
        "path_hyperparameters_sgd = parent_path+ folder_path + \"best_parameters/sgd.csv\"\n",
        "path_hyperparameters_svm = parent_path+folder_path +\"best_parameters/svm.csv\"\n",
        "path_hyperparameters_et = parent_path+folder_path +\"best_parameters/et.csv\"\n",
        "path_hyperparameters_rf = parent_path+folder_path +\"best_parameters/rf.csv\"\n",
        "path_hyperparameters_nb = parent_path+folder_path +\"best_parameters/nb.csv\"\n",
        "path_hyperparameters_knn = parent_path+folder_path +\"best_parameters/knn.csv\"\n",
        "path_hyperparameters_lr = parent_path+folder_path +\"best_parameters/lr.csv\"\n",
        "path_hyperparameters_dt = parent_path+folder_path +\"best_parameters/dt.csv\"\n",
        "\n",
        "path_best_parameters_sgd = parent_path+folder_path +\"/sgd.pkl\"\n",
        "path_best_parameters_svm = parent_path+folder_path +\"/svm.pkl\"\n",
        "path_best_parameters_et = parent_path+folder_path +\"/et.pkl\"\n",
        "path_best_parameters_rf = parent_path+folder_path +\"/rf.pkl\"\n",
        "path_best_parameters_nb = parent_path+folder_path +\"/nb.pkl\"\n",
        "path_best_parameters_knn = parent_path+folder_path +\"/knn.pkl\"\n",
        "path_best_parameters_lr = parent_path+folder_path +\"/lr.pkl\"\n",
        "path_best_parameters_dt = parent_path+folder_path +\"/dt.pkl\""
      ]
    },
    {
      "cell_type": "markdown",
      "metadata": {
        "id": "ghQeUaKCgx2L"
      },
      "source": [
        "## Set Up Functions"
      ]
    },
    {
      "cell_type": "code",
      "execution_count": 3,
      "metadata": {
        "id": "_IgovWRmgwRa"
      },
      "outputs": [],
      "source": [
        "def plot_confusion_matrix(cm, classes,\n",
        "                          normalize=False,\n",
        "                          title='Confusion matrix',\n",
        "                          cmap=plt.cm.Blues):\n",
        "    \"\"\"\n",
        "    This function prints and plots the confusion matrix.\n",
        "    Normalization can be applied by setting `normalize=True`.\n",
        "    \"\"\"\n",
        "    if normalize:\n",
        "        cm = cm.astype('float') / cm.sum(axis=1)[:, np.newaxis]\n",
        "\n",
        "    plt.imshow(cm, interpolation='nearest', cmap=cmap)\n",
        "    plt.title(title)\n",
        "    plt.colorbar()\n",
        "    tick_marks = np.arange(len(classes))\n",
        "    plt.xticks(tick_marks, classes, rotation=45)\n",
        "    plt.yticks(tick_marks, classes)\n",
        "\n",
        "    fmt = '.2f' if normalize else 'd'\n",
        "    thresh = cm.max() / 2.\n",
        "    for i, j in itertools.product(range(cm.shape[0]), range(cm.shape[1])):\n",
        "        plt.text(j, i, format(cm[i, j], fmt),\n",
        "                 horizontalalignment=\"center\",\n",
        "                 color=\"white\" if cm[i, j] > thresh else \"black\")\n",
        "\n",
        "    plt.ylabel('True label')\n",
        "    plt.xlabel('Predicted label')\n",
        "    plt.tight_layout()"
      ]
    },
    {
      "cell_type": "markdown",
      "metadata": {
        "id": "2psw4oRk5UQu"
      },
      "source": [
        "# Data Exploration"
      ]
    },
    {
      "cell_type": "code",
      "execution_count": 4,
      "metadata": {
        "id": "QVdrZ0Sf5cJP"
      },
      "outputs": [],
      "source": [
        "train = pd.read_csv(path_train)"
      ]
    },
    {
      "cell_type": "code",
      "execution_count": 5,
      "metadata": {
        "colab": {
          "base_uri": "https://localhost:8080/"
        },
        "id": "G_CWaKAg6ceh",
        "outputId": "f2e981b8-a4a8-43d0-c13a-209539f33558"
      },
      "outputs": [
        {
          "output_type": "stream",
          "name": "stdout",
          "text": [
            "(47692, 2)\n",
            "                                          tweet_text cyberbullying_type\n",
            "0  In other words #katandandre, your food was cra...  not_cyberbullying\n",
            "1  Why is #aussietv so white? #MKR #theblock #ImA...  not_cyberbullying\n",
            "2  @XochitlSuckkks a classy whore? Or more red ve...  not_cyberbullying\n",
            "3  @Jason_Gio meh. :P  thanks for the heads up, b...  not_cyberbullying\n",
            "4  @RudhoeEnglish This is an ISIS account pretend...  not_cyberbullying\n",
            "['not_cyberbullying' 'gender' 'religion' 'other_cyberbullying' 'age'\n",
            " 'ethnicity']\n",
            "tweet_text            False\n",
            "cyberbullying_type    False\n",
            "dtype: bool\n",
            "Index(['text', 'label'], dtype='object')\n"
          ]
        }
      ],
      "source": [
        "print(train.shape)\n",
        "print(train.head())\n",
        "print(train.cyberbullying_type.unique())\n",
        "print(train.isnull().any())\n",
        "train.rename(columns = {'tweet_text':'text', 'cyberbullying_type':'label'}, inplace = True)\n",
        "print(train.columns)"
      ]
    },
    {
      "cell_type": "markdown",
      "metadata": {
        "id": "Ub4lefsY5XwW"
      },
      "source": [
        "# Data Preprocessing"
      ]
    },
    {
      "cell_type": "markdown",
      "source": [
        "# Emoji Detection"
      ],
      "metadata": {
        "id": "p1R3oIqWu1Uj"
      }
    },
    {
      "cell_type": "code",
      "execution_count": 6,
      "metadata": {
        "colab": {
          "base_uri": "https://localhost:8080/"
        },
        "id": "nK24ESI17CYA",
        "outputId": "06409e7c-4647-4b6e-c806-d2cbb198b823"
      },
      "outputs": [
        {
          "output_type": "stream",
          "name": "stdout",
          "text": [
            "Supported languages: ['en', 'es', 'pt', 'it', 'fr', 'de']\n",
            "First five emoticons in English: [('🥇', ':1st_place_medal:'), ('🥈', ':2nd_place_medal:'), ('🥉', ':3rd_place_medal:'), ('🆎', ':AB_button_(blood_type):'), ('🏧', ':ATM_sign:')]\n"
          ]
        }
      ],
      "source": [
        "print('Supported languages: {}'.format(list(emoji.UNICODE_EMOJI.keys())))\n",
        "print('First five emoticons in English: {}'.format(list(emoji.UNICODE_EMOJI['en'].items())[0:5]))"
      ]
    },
    {
      "cell_type": "code",
      "execution_count": 7,
      "metadata": {
        "id": "v2Itjg7W7Xpl"
      },
      "outputs": [],
      "source": [
        "content = train['text']\n",
        "label = train['label']\n",
        "list_texts = list(content)\n",
        "\n",
        "list_only_texts = []\n",
        "for text in list_texts:\n",
        "  pure_text = emoji.demojize(text, language='en')\n",
        "  list_only_texts.append(pure_text)"
      ]
    },
    {
      "cell_type": "markdown",
      "metadata": {
        "id": "XAvccEqX8n4R"
      },
      "source": [
        "## Data Cleansing"
      ]
    },
    {
      "cell_type": "code",
      "execution_count": 8,
      "metadata": {
        "colab": {
          "base_uri": "https://localhost:8080/"
        },
        "id": "-Fr79gog8nVJ",
        "outputId": "a76be91b-9579-40c4-e301-3c99c29a0a68"
      },
      "outputs": [
        {
          "output_type": "execute_result",
          "data": {
            "text/plain": [
              "['in other words katandandre your food was crapilicious mkr',\n",
              " 'why is aussietv so white mkr theblock imacelebrityau today sunrise studio neighbours wonderlandten etc',\n",
              " ' xochitlsuckkks a classy whore or more red velvet cupcakes ',\n",
              " ' jason gio meh p thanks for the heads up but not too concerned about another angry dude on twitter ',\n",
              " ' rudhoeenglish this is an isis account pretending to be a kurdish account like islam it is all lies ']"
            ]
          },
          "metadata": {},
          "execution_count": 8
        }
      ],
      "source": [
        "def dataCleansing(data):\n",
        "\n",
        "    # Convert text to lowercase\n",
        "    data = data.lower()\n",
        "    \n",
        "    #Removing URLs\n",
        "    url_pattern = re.compile(r'https?://\\S+|www\\.\\S+')\n",
        "    data = url_pattern.sub(r'', data)\n",
        "\n",
        "    #Remove non-english words\n",
        "    data =  re.sub(\"[^a-z]+\", \" \",data)\n",
        "        \n",
        "    return data\n",
        "\n",
        "preprocessed_text = []\n",
        "for i in range(len(list_only_texts)):\n",
        "    preprocessed_text.append(dataCleansing(list_only_texts[i]))\n",
        "preprocessed_text[:5]"
      ]
    },
    {
      "cell_type": "markdown",
      "metadata": {
        "id": "pocsiti49v2l"
      },
      "source": [
        "## Tokenization "
      ]
    },
    {
      "cell_type": "code",
      "execution_count": 9,
      "metadata": {
        "id": "oTmKj13a90tG"
      },
      "outputs": [],
      "source": [
        "stop_words = set(stopwords.words('english')) \n",
        "\n",
        "list_tokens = []\n",
        "# for every tweet tokenize\n",
        "for text in preprocessed_text:\n",
        "  word_tokens = word_tokenize(text) \n",
        "  list_tokens.append(word_tokens)\n",
        "\n",
        "list_all_filtered = []\n",
        "for tokens in list_tokens: \n",
        "  list_filtered = [] \n",
        "  for word in tokens: \n",
        "      if word not in stop_words: \n",
        "          list_filtered.append(word) \n",
        "  list_all_filtered.append(list_filtered)\n"
      ]
    },
    {
      "cell_type": "code",
      "execution_count": 10,
      "metadata": {
        "colab": {
          "base_uri": "https://localhost:8080/",
          "height": 223
        },
        "id": "oilt1QAz-vcz",
        "outputId": "83d88a79-5963-4e13-bfdc-64b2b8f3c9e0"
      },
      "outputs": [
        {
          "output_type": "stream",
          "name": "stdout",
          "text": [
            "aussietv white mkr theblock imacelebrityau today sunrise studio neighbours wonderlandten etc\n"
          ]
        },
        {
          "output_type": "execute_result",
          "data": {
            "text/plain": [
              "               label                                               text\n",
              "0  not_cyberbullying            words katandandre food crapilicious mkr\n",
              "1  not_cyberbullying  aussietv white mkr theblock imacelebrityau tod...\n",
              "2  not_cyberbullying    xochitlsuckkks classy whore red velvet cupcakes\n",
              "3  not_cyberbullying  jason gio meh p thanks heads concerned another...\n",
              "4  not_cyberbullying  rudhoeenglish isis account pretending kurdish ..."
            ],
            "text/html": [
              "\n",
              "  <div id=\"df-86e84f39-6447-4032-a8ed-b49f61871604\">\n",
              "    <div class=\"colab-df-container\">\n",
              "      <div>\n",
              "<style scoped>\n",
              "    .dataframe tbody tr th:only-of-type {\n",
              "        vertical-align: middle;\n",
              "    }\n",
              "\n",
              "    .dataframe tbody tr th {\n",
              "        vertical-align: top;\n",
              "    }\n",
              "\n",
              "    .dataframe thead th {\n",
              "        text-align: right;\n",
              "    }\n",
              "</style>\n",
              "<table border=\"1\" class=\"dataframe\">\n",
              "  <thead>\n",
              "    <tr style=\"text-align: right;\">\n",
              "      <th></th>\n",
              "      <th>label</th>\n",
              "      <th>text</th>\n",
              "    </tr>\n",
              "  </thead>\n",
              "  <tbody>\n",
              "    <tr>\n",
              "      <th>0</th>\n",
              "      <td>not_cyberbullying</td>\n",
              "      <td>words katandandre food crapilicious mkr</td>\n",
              "    </tr>\n",
              "    <tr>\n",
              "      <th>1</th>\n",
              "      <td>not_cyberbullying</td>\n",
              "      <td>aussietv white mkr theblock imacelebrityau tod...</td>\n",
              "    </tr>\n",
              "    <tr>\n",
              "      <th>2</th>\n",
              "      <td>not_cyberbullying</td>\n",
              "      <td>xochitlsuckkks classy whore red velvet cupcakes</td>\n",
              "    </tr>\n",
              "    <tr>\n",
              "      <th>3</th>\n",
              "      <td>not_cyberbullying</td>\n",
              "      <td>jason gio meh p thanks heads concerned another...</td>\n",
              "    </tr>\n",
              "    <tr>\n",
              "      <th>4</th>\n",
              "      <td>not_cyberbullying</td>\n",
              "      <td>rudhoeenglish isis account pretending kurdish ...</td>\n",
              "    </tr>\n",
              "  </tbody>\n",
              "</table>\n",
              "</div>\n",
              "      <button class=\"colab-df-convert\" onclick=\"convertToInteractive('df-86e84f39-6447-4032-a8ed-b49f61871604')\"\n",
              "              title=\"Convert this dataframe to an interactive table.\"\n",
              "              style=\"display:none;\">\n",
              "        \n",
              "  <svg xmlns=\"http://www.w3.org/2000/svg\" height=\"24px\"viewBox=\"0 0 24 24\"\n",
              "       width=\"24px\">\n",
              "    <path d=\"M0 0h24v24H0V0z\" fill=\"none\"/>\n",
              "    <path d=\"M18.56 5.44l.94 2.06.94-2.06 2.06-.94-2.06-.94-.94-2.06-.94 2.06-2.06.94zm-11 1L8.5 8.5l.94-2.06 2.06-.94-2.06-.94L8.5 2.5l-.94 2.06-2.06.94zm10 10l.94 2.06.94-2.06 2.06-.94-2.06-.94-.94-2.06-.94 2.06-2.06.94z\"/><path d=\"M17.41 7.96l-1.37-1.37c-.4-.4-.92-.59-1.43-.59-.52 0-1.04.2-1.43.59L10.3 9.45l-7.72 7.72c-.78.78-.78 2.05 0 2.83L4 21.41c.39.39.9.59 1.41.59.51 0 1.02-.2 1.41-.59l7.78-7.78 2.81-2.81c.8-.78.8-2.07 0-2.86zM5.41 20L4 18.59l7.72-7.72 1.47 1.35L5.41 20z\"/>\n",
              "  </svg>\n",
              "      </button>\n",
              "      \n",
              "  <style>\n",
              "    .colab-df-container {\n",
              "      display:flex;\n",
              "      flex-wrap:wrap;\n",
              "      gap: 12px;\n",
              "    }\n",
              "\n",
              "    .colab-df-convert {\n",
              "      background-color: #E8F0FE;\n",
              "      border: none;\n",
              "      border-radius: 50%;\n",
              "      cursor: pointer;\n",
              "      display: none;\n",
              "      fill: #1967D2;\n",
              "      height: 32px;\n",
              "      padding: 0 0 0 0;\n",
              "      width: 32px;\n",
              "    }\n",
              "\n",
              "    .colab-df-convert:hover {\n",
              "      background-color: #E2EBFA;\n",
              "      box-shadow: 0px 1px 2px rgba(60, 64, 67, 0.3), 0px 1px 3px 1px rgba(60, 64, 67, 0.15);\n",
              "      fill: #174EA6;\n",
              "    }\n",
              "\n",
              "    [theme=dark] .colab-df-convert {\n",
              "      background-color: #3B4455;\n",
              "      fill: #D2E3FC;\n",
              "    }\n",
              "\n",
              "    [theme=dark] .colab-df-convert:hover {\n",
              "      background-color: #434B5C;\n",
              "      box-shadow: 0px 1px 3px 1px rgba(0, 0, 0, 0.15);\n",
              "      filter: drop-shadow(0px 1px 2px rgba(0, 0, 0, 0.3));\n",
              "      fill: #FFFFFF;\n",
              "    }\n",
              "  </style>\n",
              "\n",
              "      <script>\n",
              "        const buttonEl =\n",
              "          document.querySelector('#df-86e84f39-6447-4032-a8ed-b49f61871604 button.colab-df-convert');\n",
              "        buttonEl.style.display =\n",
              "          google.colab.kernel.accessAllowed ? 'block' : 'none';\n",
              "\n",
              "        async function convertToInteractive(key) {\n",
              "          const element = document.querySelector('#df-86e84f39-6447-4032-a8ed-b49f61871604');\n",
              "          const dataTable =\n",
              "            await google.colab.kernel.invokeFunction('convertToInteractive',\n",
              "                                                     [key], {});\n",
              "          if (!dataTable) return;\n",
              "\n",
              "          const docLinkHtml = 'Like what you see? Visit the ' +\n",
              "            '<a target=\"_blank\" href=https://colab.research.google.com/notebooks/data_table.ipynb>data table notebook</a>'\n",
              "            + ' to learn more about interactive tables.';\n",
              "          element.innerHTML = '';\n",
              "          dataTable['output_type'] = 'display_data';\n",
              "          await google.colab.output.renderOutput(dataTable, element);\n",
              "          const docLink = document.createElement('div');\n",
              "          docLink.innerHTML = docLinkHtml;\n",
              "          element.appendChild(docLink);\n",
              "        }\n",
              "      </script>\n",
              "    </div>\n",
              "  </div>\n",
              "  "
            ]
          },
          "metadata": {},
          "execution_count": 10
        }
      ],
      "source": [
        "# preprocessed text without stopwords saved in csv\n",
        "list_text_without_sw = []\n",
        "for tokens in list_all_filtered:\n",
        "  sentence = ' '.join(tokens)\n",
        "  list_text_without_sw.append(sentence)\n",
        "print(list_text_without_sw[1])\n",
        "\n",
        "\n",
        "text_without_sw = pd.DataFrame(list_text_without_sw,columns=['text'])\n",
        "text_without_sw = pd.concat([label,text_without_sw], axis=1)\n",
        "text_without_sw.to_csv(path_proprocessed,index=False)\n",
        "text_without_sw.head()"
      ]
    },
    {
      "cell_type": "code",
      "execution_count": null,
      "metadata": {
        "id": "YmoSAqAPIXJX"
      },
      "outputs": [],
      "source": [
        ""
      ]
    },
    {
      "cell_type": "markdown",
      "metadata": {
        "id": "j51km29XVw17"
      },
      "source": [
        "# Balance Dataset"
      ]
    },
    {
      "cell_type": "code",
      "execution_count": 11,
      "metadata": {
        "id": "YkrT1MgvV1to"
      },
      "outputs": [],
      "source": [
        "# loading preprocessd data\n",
        "df = pd.read_csv(path_proprocessed)\n",
        "df = df[df['text'].apply(lambda x: isinstance(x, str))] # Temporal solution"
      ]
    },
    {
      "cell_type": "code",
      "execution_count": 12,
      "metadata": {
        "colab": {
          "base_uri": "https://localhost:8080/",
          "height": 372
        },
        "id": "JOvUmRnzV31z",
        "outputId": "f26d8a8f-7352-4bac-ea67-3cbe54c5ab0f"
      },
      "outputs": [
        {
          "output_type": "execute_result",
          "data": {
            "text/plain": [
              "<matplotlib.axes._subplots.AxesSubplot at 0x7fb99201a810>"
            ]
          },
          "metadata": {},
          "execution_count": 12
        },
        {
          "output_type": "display_data",
          "data": {
            "text/plain": [
              "<Figure size 432x288 with 1 Axes>"
            ],
            "image/png": "[encoded data removed]"
          },
          "metadata": {
            "needs_background": "light"
          }
        }
      ],
      "source": [
        "df['label'].value_counts().plot.bar(color = 'pink', figsize = (6, 4))"
      ]
    },
    {
      "cell_type": "markdown",
      "metadata": {
        "id": "916Toca8YQtG"
      },
      "source": [
        "## Train, Validation, Test Split"
      ]
    },
    {
      "cell_type": "code",
      "execution_count": 13,
      "metadata": {
        "colab": {
          "base_uri": "https://localhost:8080/",
          "height": 278
        },
        "id": "Z39Z5-FjV8x7",
        "outputId": "f19244b7-b443-4cb0-ed01-50c8ce758bc6",
        "scrolled": true
      },
      "outputs": [
        {
          "output_type": "stream",
          "name": "stdout",
          "text": [
            "(38047,)\n",
            "(4756,)\n",
            "(4756,)\n"
          ]
        },
        {
          "output_type": "display_data",
          "data": {
            "text/plain": [
              "38621    girl mankhurd region mumbai bullied muslim res...\n",
              "43698    done girl naive dumb fuck white people think t...\n",
              "38061    chapter far trump dad vile step anyone anythin...\n",
              "3373                                           wtf mkr mkr\n",
              "8972                               feministlah tag founder\n",
              "                               ...                        \n",
              "4014     kat andre reaction annie lloyd disgusting dese...\n",
              "47416      tosh fuck u nigger asshole fat ass dumb shit ok\n",
              "10173    reminder gay jokes prison rape jokes never fun...\n",
              "23192    islam respect religions verse quran show juziy...\n",
              "38941                           jimmy wilkins school bully\n",
              "Name: text, Length: 38047, dtype: object"
            ]
          },
          "metadata": {}
        }
      ],
      "source": [
        "# split\n",
        "x_train, x_test = train_test_split(df, test_size=0.2, random_state = 453, stratify=df['label'])\n",
        "x_test, x_valid = train_test_split(x_test, test_size=0.5 , random_state = 453, stratify= x_test['label'])\n",
        "\n",
        "y_train = x_train['label']\n",
        "x_train = x_train['text']\n",
        "#del x_train['label']\n",
        "\n",
        "y_test = x_test['label']\n",
        "x_test = x_test['text']\n",
        "#del x_test['label']\n",
        "\n",
        "y_valid = x_valid['label']\n",
        "x_valid = x_valid['text']\n",
        "#del x_valid['label']\n",
        "\n",
        "print(y_train.shape)\n",
        "print(y_valid.shape)\n",
        "print(y_test.shape)\n",
        "display(x_train)"
      ]
    },
    {
      "cell_type": "markdown",
      "metadata": {
        "id": "-c_g4TzPQt8_"
      },
      "source": [
        "# Training Models in a Pipeline"
      ]
    },
    {
      "cell_type": "markdown",
      "metadata": {
        "id": "hTCfxyjHohj8"
      },
      "source": [
        "## Pipeline Set Up"
      ]
    },
    {
      "cell_type": "code",
      "execution_count": 17,
      "metadata": {
        "id": "da4hsNzPog0r"
      },
      "outputs": [],
      "source": [
        "# define transforms\n",
        "vectorizer = TfidfVectorizer()\n",
        "sampling = RandomUnderSampler(random_state=453)\n",
        "\n",
        "# define the scoring function\n",
        "f1 = make_scorer(f1_score, average='weighted')\n",
        "\n",
        "# set up cross validation configuration\n",
        "cv = StratifiedKFold(n_splits=8, shuffle=True, random_state=42)\n"
      ]
    },
    {
      "cell_type": "markdown",
      "metadata": {
        "id": "GjcsWovnRMvl"
      },
      "source": [
        "## Naïve Bayes"
      ]
    },
    {
      "cell_type": "code",
      "execution_count": 18,
      "metadata": {
        "colab": {
          "base_uri": "https://localhost:8080/"
        },
        "id": "kJvXgDr9qutk",
        "outputId": "f9c98787-f469-4137-82ae-48d5597776f5"
      },
      "outputs": [
        {
          "output_type": "stream",
          "name": "stdout",
          "text": [
            "Pipeline(steps=[('vectorizer', TfidfVectorizer()),\n",
            "                ('balancing', RandomUnderSampler(random_state=453)),\n",
            "                ('estimator', MultinomialNB())])\n",
            "Fitting 8 folds for each of 144 candidates, totalling 1152 fits\n",
            "--- 861.3408532142639 seconds ---\n",
            "Multinomial NBClassifier: 76.77974655173023% F1-score for class 'hate-speech' with parameters {'estimator__alpha': 1, 'vectorizer__max_df': 0.25, 'vectorizer__norm': 'l1', 'vectorizer__smooth_idf': True}\n"
          ]
        },
        {
          "output_type": "execute_result",
          "data": {
            "text/plain": [
              "['/content/drive/My Drive/team project/codes/models/cyberbullying//nb.pkl']"
            ]
          },
          "metadata": {},
          "execution_count": 18
        }
      ],
      "source": [
        "# Optimize parameters for NB Classifier\n",
        "from sklearn.naive_bayes import MultinomialNB\n",
        "estimator = MultinomialNB()\n",
        "\n",
        "# Define grid of posible hyperparamters values \n",
        "parameters = {\n",
        "    'vectorizer__max_df': [0.25, 0.5, 0.75, 1.0],\n",
        "    'vectorizer__smooth_idf': (True, False),\n",
        "    'vectorizer__norm': ('l1', 'l2', None),\n",
        "    'estimator__alpha': [ 0.0001, 0.001, 0.01, 0.1, 1, 10],\n",
        "}\n",
        "\n",
        "# Create a pipeline\n",
        "pipeline = Pipeline([ ('vectorizer', vectorizer), ('balancing', sampling), ('estimator', estimator) ])\n",
        "print(pipeline)\n",
        "\n",
        "# Hyperparameter optimization with Grid Search\n",
        "start_time = time.time()\n",
        "grid_search_estimator = GridSearchCV(pipeline, parameters, scoring=f1, cv=cv, return_train_score=False, n_jobs=-1, verbose=2)\n",
        "grid_search_estimator.fit(x_train, y_train)\n",
        "\n",
        "print(\"--- %s seconds ---\" % (time.time() - start_time))\n",
        "print(\"Multinomial NBClassifier: {}% F1-score for class 'hate-speech' with parameters {}\".format(grid_search_estimator.best_score_ * 100, grid_search_estimator.best_params_))\n",
        "\n",
        "# Save hyperparameter optmization results\n",
        "df_hyper = pd.DataFrame(grid_search_estimator.cv_results_)\n",
        "df_hyper.to_csv(path_hyperparameters_nb, index=False)\n",
        "\n",
        "# Save best hyperparameters values\n",
        "joblib.dump(grid_search_estimator.best_params_, path_best_parameters_nb, compress = 1) # Only best parameters\n"
      ]
    },
    {
      "cell_type": "code",
      "execution_count": 19,
      "metadata": {
        "colab": {
          "base_uri": "https://localhost:8080/",
          "height": 522
        },
        "id": "GZuCTfkb-TFF",
        "outputId": "3c083d0d-5edf-4e91-b225-ed90641f96e4"
      },
      "outputs": [
        {
          "output_type": "stream",
          "name": "stdout",
          "text": [
            "                     precision    recall  f1-score   support\n",
            "\n",
            "                age       0.75      0.99      0.85       799\n",
            "          ethnicity       0.88      0.95      0.92       796\n",
            "             gender       0.84      0.88      0.86       797\n",
            "  not_cyberbullying       0.69      0.38      0.49       792\n",
            "other_cyberbullying       0.63      0.53      0.57       772\n",
            "           religion       0.83      0.97      0.90       800\n",
            "\n",
            "           accuracy                           0.78      4756\n",
            "          macro avg       0.77      0.78      0.76      4756\n",
            "       weighted avg       0.77      0.78      0.77      4756\n",
            "\n"
          ]
        },
        {
          "output_type": "display_data",
          "data": {
            "text/plain": [
              "<Figure size 432x288 with 2 Axes>"
            ],
            "image/png": "[encoded data removed]"
          },
          "metadata": {
            "needs_background": "light"
          }
        }
      ],
      "source": [
        "prediction = grid_search_estimator.predict(x_test)\n",
        "cm = confusion_matrix(y_test, prediction)\n",
        "plot_confusion_matrix(cm, classes = unique_labels(y_test), title = \"NB Classifier on Test Set\")\n",
        "print(classification_report(y_test, prediction))"
      ]
    },
    {
      "cell_type": "markdown",
      "metadata": {
        "id": "t6jXSQ7hRF8Z"
      },
      "source": [
        "## KNN - estimators downwoards not used yet "
      ]
    },
    {
      "cell_type": "code",
      "execution_count": null,
      "metadata": {
        "colab": {
          "base_uri": "https://localhost:8080/"
        },
        "id": "na2m4xIGw5Hn",
        "outputId": "1538256e-7ac3-4d0c-fd8c-3c7017fc5752"
      },
      "outputs": [
        {
          "output_type": "stream",
          "name": "stdout",
          "text": [
            "Pipeline(steps=[('vectorizer', TfidfVectorizer()),\n",
            "                ('balancing', RandomUnderSampler(random_state=453)),\n",
            "                ('estimator', KNeighborsClassifier())])\n",
            "Fitting 8 folds for each of 960 candidates, totalling 7680 fits\n",
            "--- 3711.2523951530457 seconds ---\n",
            "KNN : 45.52498185215394% F1-score for class 'hate-speech' with parameters {'estimator__algorithm': 'auto', 'estimator__n_neighbors': 10, 'estimator__weights': 'uniform', 'vectorizer__max_df': 0.25, 'vectorizer__norm': 'l2', 'vectorizer__smooth_idf': True}\n"
          ]
        },
        {
          "output_type": "execute_result",
          "data": {
            "text/plain": [
              "['/content/drive/My Drive/team project/codes/models/knn.pkl']"
            ]
          },
          "metadata": {},
          "execution_count": 7
        }
      ],
      "source": [
        "# Optimize parameters for KNN Classifier\n",
        "from sklearn.neighbors import KNeighborsClassifier\n",
        "estimator = KNeighborsClassifier()\n",
        "\n",
        "# Define grid of posible hyperparamters values \n",
        "parameters = {\n",
        "    'vectorizer__max_df': [0.25, 0.5, 0.75, 1.0],\n",
        "    'vectorizer__smooth_idf': (True, False),\n",
        "    'vectorizer__norm': ('l1', 'l2', None),\n",
        "    'estimator__n_neighbors': [5, 10, 15, 20, 25],\n",
        "    'estimator__weights': ['uniform','distance'],\n",
        "    'estimator__algorithm':['auto', 'ball_tree', 'kd_tree', 'brute'],\n",
        "       }\n",
        "\n",
        "# Create a pipeline\n",
        "pipeline = Pipeline([ ('vectorizer', vectorizer), ('balancing', sampling), ('estimator', estimator) ])\n",
        "print(pipeline)\n",
        "\n",
        "# Hyperparameter optimization with Grid Search\n",
        "start_time = time.time()\n",
        "grid_search_estimator = GridSearchCV(pipeline, parameters, scoring=f1, cv=cv, return_train_score=False, n_jobs=-1, verbose=2)\n",
        "grid_search_estimator.fit(x_train, y_train)\n",
        "\n",
        "print(\"--- %s seconds ---\" % (time.time() - start_time))\n",
        "print(\"KNN : {}% F1-score for class 'hate-speech' with parameters {}\".format(grid_search_estimator.best_score_ * 100, grid_search_estimator.best_params_))\n",
        "\n",
        "# Save hyperparameter optmization results\n",
        "df_hyper = pd.DataFrame(grid_search_estimator.cv_results_)\n",
        "df_hyper.to_csv(path_hyperparameters_knn, index=False)\n",
        "\n",
        "# Save best hyperparameters values\n",
        "joblib.dump(grid_search_estimator.best_params_, path_best_parameters_knn, compress = 1) # Only best parameters\n"
      ]
    },
    {
      "cell_type": "code",
      "execution_count": null,
      "metadata": {
        "id": "A1od31yPtNaJ",
        "colab": {
          "base_uri": "https://localhost:8080/",
          "height": 462
        },
        "outputId": "a5b78c60-a0ef-48b0-d3ea-ae9986d8bb18"
      },
      "outputs": [
        {
          "output_type": "stream",
          "name": "stdout",
          "text": [
            "              precision    recall  f1-score   support\n",
            "\n",
            "           0       0.98      0.82      0.90      2971\n",
            "           1       0.26      0.83      0.39       224\n",
            "\n",
            "    accuracy                           0.82      3195\n",
            "   macro avg       0.62      0.82      0.64      3195\n",
            "weighted avg       0.93      0.82      0.86      3195\n",
            "\n"
          ]
        },
        {
          "output_type": "display_data",
          "data": {
            "text/plain": [
              "<Figure size 432x288 with 2 Axes>"
            ],
            "image/png": "[encoded data removed]"
          },
          "metadata": {
            "needs_background": "light"
          }
        }
      ],
      "source": [
        "prediction = grid_search_estimator.predict(x_test)\n",
        "cm = confusion_matrix(y_test, prediction)\n",
        "plot_confusion_matrix(cm, classes = unique_labels(y_test), title = \"KNN Classifier on Test Set\")\n",
        "print(classification_report(y_test, prediction))"
      ]
    },
    {
      "cell_type": "markdown",
      "metadata": {
        "id": "HcLlUbW0Rec0"
      },
      "source": [
        "## Random Forest"
      ]
    },
    {
      "cell_type": "code",
      "execution_count": null,
      "metadata": {
        "colab": {
          "base_uri": "https://localhost:8080/"
        },
        "id": "HBEr2mgPEzg1",
        "outputId": "0787f8a9-6931-4955-cacc-a65d221a27cb"
      },
      "outputs": [
        {
          "name": "stdout",
          "output_type": "stream",
          "text": [
            "Pipeline(steps=[('vectorizer', TfidfVectorizer()),\n",
            "                ('balancing', RandomUnderSampler(random_state=453)),\n",
            "                ('estimator', RandomForestClassifier(random_state=42))])\n",
            "Fitting 8 folds for each of 5184 candidates, totalling 41472 fits\n"
          ]
        },
        {
          "name": "stderr",
          "output_type": "stream",
          "text": [
            "/home/v.zevallosm/.local/lib/python3.6/site-packages/sklearn/model_selection/_search.py:925: UserWarning: One or more of the test scores are non-finite: [0.4639124  0.46547152 0.46023681 ...        nan        nan        nan]\n",
            "  category=UserWarning\n"
          ]
        },
        {
          "name": "stdout",
          "output_type": "stream",
          "text": [
            "--- 2344.0287425518036 seconds ---\n",
            "Random Forest Classifier: 53.37193506504465% F1-score for class 'hate-speech' with parameters {'estimator__criterion': 'gini', 'estimator__max_depth': 25, 'estimator__min_samples_leaf': 2, 'estimator__min_samples_split': 5, 'estimator__n_estimators': 800, 'vectorizer__max_df': 0.25, 'vectorizer__norm': None, 'vectorizer__smooth_idf': True}\n"
          ]
        },
        {
          "data": {
            "text/plain": [
              "['/home/v.zevallosm/team project/codes/models/rf.pkl']"
            ]
          },
          "execution_count": 24,
          "metadata": {},
          "output_type": "execute_result"
        }
      ],
      "source": [
        "# Optimize parameters for Random Forest\n",
        "estimator = RandomForestClassifier( random_state=42)\n",
        "\n",
        "# Define grid of posible hyperparamters values \n",
        "parameters = {\n",
        "    'vectorizer__max_df': [0.25, 0.5, 0.75, 1.0],\n",
        "    'vectorizer__smooth_idf': (True, False),\n",
        "    'vectorizer__norm': ('l1', 'l2', None),\n",
        "    'estimator__criterion': ['gini', ' entropy'],\n",
        "    'estimator__n_estimators': [100, 300, 500, 800],\n",
        "    'estimator__max_depth': [5, 15, 25],\n",
        "    'estimator__min_samples_split': [5, 25, 100],\n",
        "    'estimator__min_samples_leaf': [ 2, 5, 10]\n",
        "}\n",
        "\n",
        "# Create a pipeline\n",
        "pipeline = Pipeline([ ('vectorizer', vectorizer), ('balancing', sampling), ('estimator', estimator) ])\n",
        "print(pipeline)\n",
        "\n",
        "# Hyperparameter optimization with Grid Search\n",
        "start_time = time.time()\n",
        "grid_search_estimator = GridSearchCV(pipeline, parameters, scoring=f1, cv=cv, return_train_score=False, n_jobs=-1, verbose=2)\n",
        "grid_search_estimator.fit(x_train, y_train)\n",
        "\n",
        "print(\"--- %s seconds ---\" % (time.time() - start_time))\n",
        "print(\"Random Forest Classifier: {}% F1-score for class 'hate-speech' with parameters {}\".format(grid_search_estimator.best_score_ * 100, grid_search_estimator.best_params_))\n",
        "\n",
        "# Save hyperparameter optmization results\n",
        "df_hyper = pd.DataFrame(grid_search_estimator.cv_results_)\n",
        "df_hyper.to_csv(path_hyperparameters_rf, index=False)\n",
        "\n",
        "# Save best hyperparameters values\n",
        "joblib.dump(grid_search_estimator.best_params_, path_best_parameters_rf, compress = 1) # Only best parameters\n"
      ]
    },
    {
      "cell_type": "code",
      "execution_count": null,
      "metadata": {
        "id": "Sw2WzIPO5XsR",
        "outputId": "7e61ed60-ad9b-4650-c834-19da017e6cfb"
      },
      "outputs": [
        {
          "name": "stdout",
          "output_type": "stream",
          "text": [
            "              precision    recall  f1-score   support\n",
            "\n",
            "           0       0.98      0.92      0.95      2971\n",
            "           1       0.41      0.71      0.52       224\n",
            "\n",
            "    accuracy                           0.91      3195\n",
            "   macro avg       0.69      0.81      0.73      3195\n",
            "weighted avg       0.94      0.91      0.92      3195\n",
            "\n"
          ]
        },
        {
          "data": {
            "image/png": "[encoded data removed]",
            "text/plain": [
              "<Figure size 432x288 with 2 Axes>"
            ]
          },
          "metadata": {
            "needs_background": "light"
          },
          "output_type": "display_data"
        }
      ],
      "source": [
        "# Evaluate the pipeline on the test set \n",
        "prediction = grid_search_estimator.predict(x_test)\n",
        "cm = confusion_matrix(y_test, prediction)\n",
        "plot_confusion_matrix(cm, classes = unique_labels(y_test), title = \"Random Forest Classifier on Test Set\")\n",
        "print(classification_report(y_test, prediction))\n"
      ]
    },
    {
      "cell_type": "markdown",
      "metadata": {
        "id": "dSnxBCyT6CuD"
      },
      "source": [
        "## Extra Trees"
      ]
    },
    {
      "cell_type": "code",
      "execution_count": null,
      "metadata": {
        "id": "sKy77dNK6GbU",
        "outputId": "ef7500b1-f108-40fc-a445-ff8d834930c9"
      },
      "outputs": [
        {
          "name": "stdout",
          "output_type": "stream",
          "text": [
            "Pipeline(steps=[('vectorizer', TfidfVectorizer()),\n",
            "                ('balancing', RandomUnderSampler(random_state=453)),\n",
            "                ('estimator', ExtraTreesClassifier(random_state=42))])\n",
            "Fitting 8 folds for each of 5184 candidates, totalling 41472 fits\n"
          ]
        },
        {
          "name": "stderr",
          "output_type": "stream",
          "text": [
            "/home/v.zevallosm/.local/lib/python3.6/site-packages/sklearn/model_selection/_search.py:925: UserWarning: One or more of the test scores are non-finite: [0.45371934 0.44843191 0.46492321 ...        nan        nan        nan]\n",
            "  category=UserWarning\n"
          ]
        },
        {
          "name": "stdout",
          "output_type": "stream",
          "text": [
            "--- 2749.808964729309 seconds ---\n",
            "Extra Trees Classifier: 56.88402752771815% F1-score for class 'hate-speech' with parameters {'estimator__criterion': 'gini', 'estimator__max_depth': 15, 'estimator__min_samples_leaf': 2, 'estimator__min_samples_split': 5, 'estimator__n_estimators': 800, 'vectorizer__max_df': 0.25, 'vectorizer__norm': 'l2', 'vectorizer__smooth_idf': False}\n"
          ]
        },
        {
          "data": {
            "text/plain": [
              "['/home/v.zevallosm/team project/codes/models/et.pkl']"
            ]
          },
          "execution_count": 22,
          "metadata": {},
          "output_type": "execute_result"
        }
      ],
      "source": [
        "# Optimize parameters for Extra Trees\n",
        "estimator = ExtraTreesClassifier( random_state=42)\n",
        "\n",
        "# Define grid of posible hyperparamters values \n",
        "parameters = {\n",
        "    'vectorizer__max_df': [0.25, 0.5, 0.75, 1.0],\n",
        "    'vectorizer__smooth_idf': (True, False),\n",
        "    'vectorizer__norm': ('l1', 'l2', None),\n",
        "    'estimator__criterion': ['gini', ' entropy'],\n",
        "    'estimator__n_estimators': [100, 300, 500, 800],\n",
        "    'estimator__max_depth': [5, 15, 25],\n",
        "    'estimator__min_samples_split': [5, 25, 100],\n",
        "    'estimator__min_samples_leaf': [ 2, 5, 10]\n",
        "}\n",
        "\n",
        "# Create a pipeline\n",
        "pipeline = Pipeline([ ('vectorizer', vectorizer), ('balancing', sampling), ('estimator', estimator) ])\n",
        "print(pipeline)\n",
        "\n",
        "# Hyperparameter optimization with Grid Search\n",
        "start_time = time.time()\n",
        "grid_search_estimator = GridSearchCV(pipeline, parameters, scoring=f1, cv=cv, return_train_score=False, n_jobs=-1, verbose=2)\n",
        "grid_search_estimator.fit(x_train, y_train)\n",
        "\n",
        "print(\"--- %s seconds ---\" % (time.time() - start_time))\n",
        "print(\"Extra Trees Classifier: {}% F1-score for class 'hate-speech' with parameters {}\".format(grid_search_estimator.best_score_ * 100, grid_search_estimator.best_params_))\n",
        "\n",
        "# Save hyperparameter optmization results\n",
        "df_hyper = pd.DataFrame(grid_search_estimator.cv_results_)\n",
        "df_hyper.to_csv(path_hyperparameters_et, index=False)\n",
        "\n",
        "# Save best hyperparameters values\n",
        "joblib.dump(grid_search_estimator.best_params_, path_best_parameters_et, compress = 1) # Only best parameters\n"
      ]
    },
    {
      "cell_type": "code",
      "execution_count": null,
      "metadata": {
        "id": "QtD3HBb_8GzP",
        "outputId": "cc440e03-66a7-4276-add5-e2ccfc30b09f"
      },
      "outputs": [
        {
          "name": "stdout",
          "output_type": "stream",
          "text": [
            "              precision    recall  f1-score   support\n",
            "\n",
            "           0       0.98      0.95      0.96      2971\n",
            "           1       0.50      0.69      0.58       224\n",
            "\n",
            "    accuracy                           0.93      3195\n",
            "   macro avg       0.74      0.82      0.77      3195\n",
            "weighted avg       0.94      0.93      0.94      3195\n",
            "\n"
          ]
        },
        {
          "data": {
            "image/png": "[encoded data removed]",
            "text/plain": [
              "<Figure size 432x288 with 2 Axes>"
            ]
          },
          "metadata": {
            "needs_background": "light"
          },
          "output_type": "display_data"
        }
      ],
      "source": [
        "# Evaluate the pipeline on the test set \n",
        "prediction = grid_search_estimator.predict(x_test)\n",
        "cm = confusion_matrix(y_test, prediction)\n",
        "plot_confusion_matrix(cm, classes = unique_labels(y_test), title = \"Extra Trees Classifier on Test Set\")\n",
        "print(classification_report(y_test, prediction))\n"
      ]
    },
    {
      "cell_type": "markdown",
      "metadata": {
        "id": "9mWJZfk9RIIn"
      },
      "source": [
        "## SGD"
      ]
    },
    {
      "cell_type": "code",
      "execution_count": null,
      "metadata": {
        "colab": {
          "base_uri": "https://localhost:8080/"
        },
        "id": "xi3H7KfLw4UT",
        "outputId": "45b695b5-c898-4d9e-8b0b-3b649741c4a2"
      },
      "outputs": [
        {
          "name": "stdout",
          "output_type": "stream",
          "text": [
            "Pipeline(steps=[('vectorizer', TfidfVectorizer()),\n",
            "                ('balancing', RandomUnderSampler(random_state=453)),\n",
            "                ('estimator', SGDClassifier(max_iter=5000, random_state=42))])\n",
            "Fitting 8 folds for each of 4608 candidates, totalling 36864 fits\n",
            "--- 11506.218701601028 seconds ---\n",
            "SGDClassifier: 58.36113514801878% F1-score for class 'hate-speech' with parameters {'estimator__alpha': 0.001, 'estimator__loss': 'hinge', 'estimator__tol': 0.01, 'vectorizer__max_df': 0.25, 'vectorizer__norm': 'l2', 'vectorizer__smooth_idf': False}\n"
          ]
        },
        {
          "data": {
            "text/plain": [
              "['/content/drive/My Drive/team project/codes/models/sgd.pkl']"
            ]
          },
          "execution_count": 78,
          "metadata": {},
          "output_type": "execute_result"
        }
      ],
      "source": [
        "# Optimize parameters for SGDClassifier\n",
        "estimator = SGDClassifier(max_iter=5000, random_state=42)\n",
        "\n",
        "# Define grid of posible hyperparamters values \n",
        "parameters = {\n",
        "    'vectorizer__max_df': [0.25, 0.5, 0.75, 1.0],\n",
        "    'vectorizer__smooth_idf': (True, False),\n",
        "    'vectorizer__norm': ('l1', 'l2', None),\n",
        "    'estimator__loss': ['hinge','modified_huber','perceptron','squared_hinge'],\n",
        "    'estimator__alpha': [0.000001, 0.00001, 0.0001, 0.001, 0.01, 0.1, 1, 10],\n",
        "    'estimator__tol': [1e-1, 1e-2, 1e-3, 1e-4, 1e-5, 1e-6]\n",
        "}\n",
        "\n",
        "# Create a pipeline\n",
        "pipeline = Pipeline([ ('vectorizer', vectorizer), ('balancing', sampling), ('estimator', estimator) ])\n",
        "print(pipeline)\n",
        "\n",
        "# Hyperparameter optimization with Grid Search\n",
        "start_time = time.time()\n",
        "grid_search_estimator = GridSearchCV(pipeline, parameters, scoring=f1, cv=cv, return_train_score=False, n_jobs=-1, verbose=2)\n",
        "grid_search_estimator.fit(x_train, y_train)\n",
        "\n",
        "print(\"--- %s seconds ---\" % (time.time() - start_time))\n",
        "print(\"SGDClassifier: {}% F1-score for class 'hate-speech' with parameters {}\".format(grid_search_estimator.best_score_ * 100, grid_search_estimator.best_params_))\n",
        "\n",
        "# Save hyperparameter optmization results\n",
        "df_hyper = pd.DataFrame(grid_search_estimator.cv_results_)\n",
        "df_hyper.to_csv(path_hyperparameters_sgd, index=False)\n",
        "\n",
        "# Save best hyperparameters values\n",
        "joblib.dump(grid_search_estimator.best_params_, path_best_parameters_sgd, compress = 1) # Only best parameters\n"
      ]
    },
    {
      "cell_type": "code",
      "execution_count": null,
      "metadata": {
        "colab": {
          "base_uri": "https://localhost:8080/",
          "height": 450
        },
        "id": "It2CtGS-q_AH",
        "outputId": "f094ea65-6f6d-4786-d6b4-db057196a246"
      },
      "outputs": [
        {
          "name": "stdout",
          "output_type": "stream",
          "text": [
            "              precision    recall  f1-score   support\n",
            "\n",
            "           0       0.98      0.94      0.96      2971\n",
            "           1       0.47      0.75      0.57       224\n",
            "\n",
            "    accuracy                           0.92      3195\n",
            "   macro avg       0.72      0.84      0.77      3195\n",
            "weighted avg       0.94      0.92      0.93      3195\n",
            "\n"
          ]
        },
        {
          "data": {
            "image/png": "[encoded data removed]",
            "text/plain": [
              "<Figure size 432x288 with 2 Axes>"
            ]
          },
          "metadata": {},
          "output_type": "display_data"
        }
      ],
      "source": [
        "# Evaluate the pipeline on the test set \n",
        "prediction = grid_search_estimator.predict(x_test)\n",
        "cm = confusion_matrix(y_test, prediction)\n",
        "plot_confusion_matrix(cm, classes = unique_labels(y_test), title = \"SGD Classifier on Test Set\")\n",
        "print(classification_report(y_test, prediction))\n"
      ]
    },
    {
      "cell_type": "markdown",
      "metadata": {
        "id": "4nBhqcRZRT4N"
      },
      "source": [
        "## SVM"
      ]
    },
    {
      "cell_type": "code",
      "execution_count": null,
      "metadata": {
        "colab": {
          "base_uri": "https://localhost:8080/"
        },
        "id": "M43mxmXMQ58M",
        "outputId": "aa628522-2b0e-4046-df3b-bf0d13ce26dd"
      },
      "outputs": [
        {
          "name": "stdout",
          "output_type": "stream",
          "text": [
            "Pipeline(steps=[('vectorizer', TfidfVectorizer()),\n",
            "                ('balancing', RandomUnderSampler(random_state=453)),\n",
            "                ('estimator', LinearSVC(max_iter=5000, random_state=42))])\n",
            "Fitting 8 folds for each of 1680 candidates, totalling 13440 fits\n",
            "--- 6578.054311037064 seconds ---\n",
            "LSVM Classifier: 59.11648971569943% F1-score for class 'hate-speech' with parameters {'estimator__C': 0.1, 'estimator__loss': 'hinge', 'estimator__tol': 0.001, 'vectorizer__max_df': 0.25, 'vectorizer__norm': 'l2', 'vectorizer__smooth_idf': False}\n"
          ]
        },
        {
          "data": {
            "text/plain": [
              "['/content/drive/My Drive/team project/codes/models/svm.pkl']"
            ]
          },
          "execution_count": 8,
          "metadata": {},
          "output_type": "execute_result"
        }
      ],
      "source": [
        "# Optimize parameters for LSVM Classifier\n",
        "estimator = LinearSVC(max_iter=5000, random_state=42, dual = True)\n",
        "\n",
        "# Define grid of posible hyperparamters values \n",
        "parameters = {\n",
        "    'vectorizer__max_df': [0.25, 0.5, 0.75, 1.0],\n",
        "    'vectorizer__smooth_idf': (True, False),\n",
        "    'vectorizer__norm': ('l1', 'l2', None),\n",
        "    'estimator__loss': ['hinge', 'squared_hinge'],\n",
        "    'estimator__tol': [1e-2, 1e-3, 1e-4, 1e-5, 1e-6],\n",
        "    'estimator__C': [0.01, 0.1, 1, 10, 100, 1000, 10000],\n",
        "}\n",
        "\n",
        "# Create a pipeline\n",
        "pipeline = Pipeline([ ('vectorizer', vectorizer), ('balancing', sampling), ('estimator', estimator) ])\n",
        "print(pipeline)\n",
        "\n",
        "# Hyperparameter optimization with Grid Search\n",
        "start_time = time.time()\n",
        "grid_search_estimator = GridSearchCV(pipeline, parameters, scoring=f1, cv=cv, return_train_score=False, n_jobs=-1, verbose=2)\n",
        "grid_search_estimator.fit(x_train, y_train)\n",
        "\n",
        "print(\"--- %s seconds ---\" % (time.time() - start_time))\n",
        "print(\"LSVM Classifier: {}% F1-score for class 'hate-speech' with parameters {}\".format(grid_search_estimator.best_score_ * 100, grid_search_estimator.best_params_))\n",
        "\n",
        "# Save hyperparameter optmization results\n",
        "df_hyper = pd.DataFrame(grid_search_estimator.cv_results_)\n",
        "df_hyper.to_csv(path_hyperparameters_svm, index=False)\n",
        "\n",
        "# Save best hyperparameters values\n",
        "joblib.dump(grid_search_estimator.best_params_, path_best_parameters_svm, compress = 1) # Only best parameters\n"
      ]
    },
    {
      "cell_type": "code",
      "execution_count": null,
      "metadata": {
        "colab": {
          "base_uri": "https://localhost:8080/",
          "height": 450
        },
        "id": "BG02vOFYyNcS",
        "outputId": "0c45c0fe-7510-4871-eddc-d70c81476df2"
      },
      "outputs": [
        {
          "name": "stdout",
          "output_type": "stream",
          "text": [
            "              precision    recall  f1-score   support\n",
            "\n",
            "           0       0.97      0.97      0.97      2971\n",
            "           1       0.57      0.60      0.59       224\n",
            "\n",
            "    accuracy                           0.94      3195\n",
            "   macro avg       0.77      0.78      0.78      3195\n",
            "weighted avg       0.94      0.94      0.94      3195\n",
            "\n"
          ]
        },
        {
          "data": {
            "image/png": "[encoded data removed]",
            "text/plain": [
              "<Figure size 432x288 with 2 Axes>"
            ]
          },
          "metadata": {},
          "output_type": "display_data"
        }
      ],
      "source": [
        "# Evaluate the pipeline on the test set \n",
        "prediction = grid_search_estimator.predict(x_test)\n",
        "cm = confusion_matrix(y_test, prediction)\n",
        "plot_confusion_matrix(cm, classes = unique_labels(y_test), title = \"Linear SVM Classifier on Test Set\")\n",
        "print(classification_report(y_test, prediction))\n"
      ]
    },
    {
      "cell_type": "markdown",
      "source": [
        "## Logistic Regression"
      ],
      "metadata": {
        "id": "wVQbv5Y7R8x5"
      }
    },
    {
      "cell_type": "code",
      "source": [
        "# Optimize parameters for Logistic Regression\n",
        "estimator = LogisticRegression()\n",
        "\n",
        "# Define grid of posible hyperparamters values \n",
        "parameters = {\n",
        "    'vectorizer__max_df': [0.25, 0.5, 0.75, 1.0],\n",
        "    'vectorizer__smooth_idf': (True, False),\n",
        "    'vectorizer__norm': ('l1', 'l2', None),\n",
        "    'estimator__penalty': [ 'l2', 'none'],\n",
        "    'estimator__solver': ['newton-cg', 'lbfgs', 'liblinear', 'sag', 'saga'],\n",
        "    'estimator__C': [100, 10, 1.0, 0.1, 0.01]\n",
        "}\n",
        "\n",
        "# Create a pipeline\n",
        "pipeline = Pipeline([ ('vectorizer', vectorizer), ('balancing', sampling), ('estimator', estimator) ])\n",
        "print(pipeline)\n",
        "\n",
        "# Hyperparameter optimization with Grid Search\n",
        "start_time = time.time()\n",
        "grid_search_estimator = GridSearchCV(pipeline, parameters, scoring=f1, cv=cv, return_train_score=False, n_jobs=-1, verbose=2)\n",
        "grid_search_estimator.fit(x_train, y_train)\n",
        "\n",
        "print(\"--- %s seconds ---\" % (time.time() - start_time))\n",
        "print(\"Logistic Regression Classifier: {}% F1-score for class 'hate-speech' with parameters {}\".format(grid_search_estimator.best_score_ * 100, grid_search_estimator.best_params_))\n",
        "\n",
        "# Save hyperparameter optmization results\n",
        "df_hyper = pd.DataFrame(grid_search_estimator.cv_results_)\n",
        "df_hyper.to_csv(path_hyperparameters_lr, index=False)\n",
        "\n",
        "# Save best hyperparameters values\n",
        "joblib.dump(grid_search_estimator.best_params_, path_best_parameters_lr, compress = 1) # Only best parameters"
      ],
      "metadata": {
        "id": "eftaZJYDR2ON",
        "colab": {
          "base_uri": "https://localhost:8080/"
        },
        "outputId": "fa5307de-41c4-4f6a-da37-f2c1d938e2e3"
      },
      "execution_count": null,
      "outputs": [
        {
          "output_type": "stream",
          "name": "stdout",
          "text": [
            "Pipeline(steps=[('vectorizer', TfidfVectorizer()),\n",
            "                ('balancing', RandomUnderSampler(random_state=453)),\n",
            "                ('estimator', LogisticRegression())])\n",
            "Fitting 8 folds for each of 1200 candidates, totalling 9600 fits\n"
          ]
        },
        {
          "output_type": "stream",
          "name": "stderr",
          "text": [
            "/usr/local/lib/python3.7/dist-packages/sklearn/model_selection/_validation.py:372: FitFailedWarning: \n",
            "960 fits failed out of a total of 9600.\n",
            "The score on these train-test partitions for these parameters will be set to nan.\n",
            "If these failures are not expected, you can try to debug them by setting error_score='raise'.\n",
            "\n",
            "Below are more details about the failures:\n",
            "--------------------------------------------------------------------------------\n",
            "960 fits failed with the following error:\n",
            "Traceback (most recent call last):\n",
            "  File \"/usr/local/lib/python3.7/dist-packages/sklearn/model_selection/_validation.py\", line 680, in _fit_and_score\n",
            "    estimator.fit(X_train, y_train, **fit_params)\n",
            "  File \"/usr/local/lib/python3.7/dist-packages/imblearn/pipeline.py\", line 266, in fit\n",
            "    self._final_estimator.fit(Xt, yt, **fit_params_last_step)\n",
            "  File \"/usr/local/lib/python3.7/dist-packages/sklearn/linear_model/_logistic.py\", line 1461, in fit\n",
            "    solver = _check_solver(self.solver, self.penalty, self.dual)\n",
            "  File \"/usr/local/lib/python3.7/dist-packages/sklearn/linear_model/_logistic.py\", line 464, in _check_solver\n",
            "    raise ValueError(\"penalty='none' is not supported for the liblinear solver\")\n",
            "ValueError: penalty='none' is not supported for the liblinear solver\n",
            "\n",
            "  warnings.warn(some_fits_failed_message, FitFailedWarning)\n",
            "/usr/local/lib/python3.7/dist-packages/sklearn/model_selection/_search.py:972: UserWarning: One or more of the test scores are non-finite: [0.49013517 0.48970961 0.49073875 ... 0.48356887 0.46789812 0.46965063]\n",
            "  category=UserWarning,\n"
          ]
        },
        {
          "output_type": "stream",
          "name": "stdout",
          "text": [
            "--- 3418.477582216263 seconds ---\n",
            "Logistic Regression Classifier: 56.512767626947344% F1-score for class 'hate-speech' with parameters {'estimator__C': 0.01, 'estimator__penalty': 'l2', 'estimator__solver': 'newton-cg', 'vectorizer__max_df': 0.25, 'vectorizer__norm': None, 'vectorizer__smooth_idf': False}\n"
          ]
        },
        {
          "output_type": "execute_result",
          "data": {
            "text/plain": [
              "['/content/drive/My Drive/team project/codes/models/lr.pkl']"
            ]
          },
          "metadata": {},
          "execution_count": 21
        }
      ]
    },
    {
      "cell_type": "code",
      "source": [
        "# Evaluate the pipeline on the test set \n",
        "prediction = grid_search_estimator.predict(x_test)\n",
        "cm = confusion_matrix(y_test, prediction)\n",
        "plot_confusion_matrix(cm, classes = unique_labels(y_test), title = \"Logistic Regression Classifier on Test Set\")\n",
        "print(classification_report(y_test, prediction))"
      ],
      "metadata": {
        "id": "7f91S78qSVP1",
        "colab": {
          "base_uri": "https://localhost:8080/",
          "height": 453
        },
        "outputId": "654994d2-e542-401e-ce77-e73b42f0d16e"
      },
      "execution_count": null,
      "outputs": [
        {
          "output_type": "stream",
          "name": "stdout",
          "text": [
            "              precision    recall  f1-score   support\n",
            "\n",
            "           0       0.98      0.92      0.95      2971\n",
            "           1       0.41      0.79      0.54       224\n",
            "\n",
            "    accuracy                           0.91      3195\n",
            "   macro avg       0.70      0.85      0.75      3195\n",
            "weighted avg       0.94      0.91      0.92      3195\n",
            "\n"
          ]
        },
        {
          "output_type": "display_data",
          "data": {
            "text/plain": [
              "<Figure size 432x288 with 2 Axes>"
            ],
            "image/png": "[encoded data removed]"
          },
          "metadata": {
            "needs_background": "light"
          }
        }
      ]
    },
    {
      "cell_type": "markdown",
      "source": [
        "## Decision Tree"
      ],
      "metadata": {
        "id": "2_9e2hfxSY6I"
      }
    },
    {
      "cell_type": "code",
      "source": [
        "# Optimize parameters for simple Decision Tree\n",
        "estimator = DecisionTreeClassifier(random_state=101)\n",
        "\n",
        "# Define grid of posible hyperparamters values \n",
        "parameters = {\n",
        "    'vectorizer__max_df': [0.3, 0.6, 1.0],\n",
        "    'vectorizer__smooth_idf': (True, False),\n",
        "    'vectorizer__norm': ('l1', 'l2', None),\n",
        "    'estimator__splitter' : ['best', 'random'],\n",
        "    'estimator__max_depth': [5, 15, 25],\n",
        "    'estimator__min_samples_split': [5, 25, 100],\n",
        "    'estimator__min_samples_leaf': [ 2, 5, 10]\n",
        "}\n",
        "\n",
        "# Create a pipeline\n",
        "pipeline = Pipeline([ ('vectorizer', vectorizer), ('balancing', sampling), ('estimator', estimator) ])\n",
        "print(pipeline)\n",
        "\n",
        "# Hyperparameter optimization with Grid Search\n",
        "start_time = time.time()\n",
        "grid_search_estimator = GridSearchCV(pipeline, parameters, scoring=f1, cv=cv, return_train_score=False, n_jobs=-1, verbose=2)\n",
        "grid_search_estimator.fit(x_train, y_train)\n",
        "\n",
        "print(\"--- %s seconds ---\" % (time.time() - start_time))\n",
        "print(\"Decision Tree Classifier: {}% F1-score for class 'hate-speech' with parameters {}\".format(grid_search_estimator.best_score_ * 100, grid_search_estimator.best_params_))\n",
        "\n",
        "# Save hyperparameter optmization results\n",
        "df_hyper = pd.DataFrame(grid_search_estimator.cv_results_)\n",
        "df_hyper.to_csv(path_hyperparameters_dt, index=False)\n",
        "\n",
        "# Save best hyperparameters values\n",
        "joblib.dump(grid_search_estimator.best_params_, path_best_parameters_dt, compress = 1) # Only best parameters"
      ],
      "metadata": {
        "id": "0CmzGgO7Scn5",
        "colab": {
          "base_uri": "https://localhost:8080/"
        },
        "outputId": "15386ef3-3409-4eac-d6c2-8cfa96251119"
      },
      "execution_count": null,
      "outputs": [
        {
          "output_type": "stream",
          "name": "stdout",
          "text": [
            "Pipeline(steps=[('vectorizer', TfidfVectorizer()),\n",
            "                ('balancing', RandomUnderSampler(random_state=453)),\n",
            "                ('estimator', DecisionTreeClassifier(random_state=101))])\n",
            "Fitting 8 folds for each of 972 candidates, totalling 7776 fits\n",
            "--- 2684.384980916977 seconds ---\n",
            "Decision Tree Classifier: 47.275311076294436% F1-score for class 'hate-speech' with parameters {'estimator__max_depth': 25, 'estimator__min_samples_leaf': 5, 'estimator__min_samples_split': 25, 'estimator__splitter': 'best', 'vectorizer__max_df': 0.3, 'vectorizer__norm': 'l1', 'vectorizer__smooth_idf': False}\n"
          ]
        },
        {
          "output_type": "execute_result",
          "data": {
            "text/plain": [
              "['/content/drive/My Drive/team project/codes/models/dt.pkl']"
            ]
          },
          "metadata": {},
          "execution_count": 25
        }
      ]
    },
    {
      "cell_type": "code",
      "source": [
        "# Evaluate the pipeline on the test set \n",
        "prediction = grid_search_estimator.predict(x_test)\n",
        "cm = confusion_matrix(y_test, prediction)\n",
        "plot_confusion_matrix(cm, classes = unique_labels(y_test), title = \"Decision Tree Classifier on Test Set\")\n",
        "print(classification_report(y_test, prediction))"
      ],
      "metadata": {
        "id": "u8VB1iQKSlFQ",
        "colab": {
          "base_uri": "https://localhost:8080/",
          "height": 453
        },
        "outputId": "c79b7bf0-8313-4d4f-ba6a-40c176c220b8"
      },
      "execution_count": null,
      "outputs": [
        {
          "output_type": "stream",
          "name": "stdout",
          "text": [
            "              precision    recall  f1-score   support\n",
            "\n",
            "           0       0.96      0.95      0.95      2971\n",
            "           1       0.41      0.50      0.45       224\n",
            "\n",
            "    accuracy                           0.91      3195\n",
            "   macro avg       0.69      0.72      0.70      3195\n",
            "weighted avg       0.92      0.91      0.92      3195\n",
            "\n"
          ]
        },
        {
          "output_type": "display_data",
          "data": {
            "text/plain": [
              "<Figure size 432x288 with 2 Axes>"
            ],
            "image/png": "[encoded data removed]"
          },
          "metadata": {
            "needs_background": "light"
          }
        }
      ]
    }
  ],
  "metadata": {
    "accelerator": "GPU",
    "colab": {
      "collapsed_sections": [
        "2psw4oRk5UQu",
        "V5PDua9Y6-KF",
        "XAvccEqX8n4R",
        "pocsiti49v2l"
      ],
      "name": "cyberbullying.ipynb",
      "toc_visible": true,
      "provenance": []
    },
    "kernelspec": {
      "display_name": "Python 3",
      "language": "python",
      "name": "python3"
    },
    "language_info": {
      "codemirror_mode": {
        "name": "ipython",
        "version": 3
      },
      "file_extension": ".py",
      "mimetype": "text/x-python",
      "name": "python",
      "nbconvert_exporter": "python",
      "pygments_lexer": "ipython3",
      "version": "3.6.9"
    }
  },
  "nbformat": 4,
  "nbformat_minor": 0
}
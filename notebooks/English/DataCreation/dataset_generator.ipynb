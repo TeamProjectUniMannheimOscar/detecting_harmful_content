{
 "cells": [
  {
   "cell_type": "code",
   "execution_count": 1,
   "metadata": {},
   "outputs": [],
   "source": [
    "import gzip\n",
    "import json\n",
    "import pandas as pd\n",
    "from csv import writer"
   ]
  },
  {
   "cell_type": "code",
   "execution_count": 2,
   "metadata": {},
   "outputs": [],
   "source": [
    "# Parent paths\n",
    "google_path = '/content/drive/My Drive/'\n",
    "#local_path = '/Users/victoriazevallos/Desktop/Exercises & Records MSDS/FSS 2022/Projects/Group Project/Oscar_Project/detecting_harmful_content/'\n",
    "local_path = 'D:/TP/'\n",
    "parent_path = local_path"
   ]
  },
  {
   "cell_type": "code",
   "execution_count": 3,
   "metadata": {},
   "outputs": [],
   "source": [
    "def adult_extraction(path):\n",
    "    df_en = pd.read_json(path, lines=True, orient='records', compression='gzip')\n",
    "    df_en = pd.concat([df_en, df_en[\"warc_headers\"].apply(pd.Series)], axis=1)\n",
    "    df_en = pd.concat([df_en, df_en[\"metadata\"].apply(pd.Series)], axis=1)\n",
    "    df_en.drop(columns=\"warc_headers\")\n",
    "    df_en.drop(columns=\"metadata\")\n",
    "    df = df_en[['content','annotation']]\n",
    "    df = df.dropna()\n",
    "    df[\"annotation\"] = [x[0] for x in df[\"annotation\"]]\n",
    "    df_adult = df[df['annotation'].str.contains('adult')]\n",
    "    df_adult = df_adult[['content']]\n",
    "    df_dict = df_adult.to_dict('list')\n",
    "    return df_dict"
   ]
  },
  {
   "cell_type": "code",
   "execution_count": 4,
   "metadata": {},
   "outputs": [],
   "source": [
    "def file_update(df_dict):\n",
    "    with open('D:/TP/data/raw/oscar_adult_test.json', 'r') as f:\n",
    "        data = json.load(f)\n",
    "    for dd in df_dict.values():\n",
    "        for d in dd:\n",
    "            data['content'].append(d)\n",
    "    with open('D:/TP/data/raw/oscar_adult_test.json', 'w') as f:\n",
    "        json.dump(data, f)\n",
    "        \n",
    "    f.close()"
   ]
  },
  {
   "cell_type": "code",
   "execution_count": 5,
   "metadata": {},
   "outputs": [
    {
     "name": "stdout",
     "output_type": "stream",
     "text": [
      "102\n",
      "103\n",
      "104\n",
      "105\n",
      "106\n",
      "107\n",
      "108\n",
      "109\n",
      "110\n",
      "111\n",
      "112\n",
      "113\n",
      "114\n",
      "115\n",
      "116\n",
      "117\n",
      "118\n",
      "119\n",
      "120\n",
      "121\n",
      "122\n",
      "123\n",
      "124\n",
      "125\n",
      "126\n",
      "127\n",
      "128\n",
      "129\n",
      "130\n",
      "131\n"
     ]
    }
   ],
   "source": [
    "for i in range(102,132):\n",
    "    path =  parent_path+\"data/raw/Oscar_data/en_meta_part_\"+ str(i) +\".jsonl.gz\"\n",
    "    data = adult_extraction(path)\n",
    "    file_update(data)\n",
    "    print(i)\n"
   ]
  },
  {
   "cell_type": "code",
   "execution_count": 6,
   "metadata": {},
   "outputs": [],
   "source": [
    "adult = pd.read_json('D:/TP/data/raw/oscar_adult_test.json')\n",
    "adult['annotation'] = 'adult'\n",
    "adult.to_json('D:/TP/data/raw/Oscar_data/oscar_adult_2470_test.json')"
   ]
  },
  {
   "cell_type": "code",
   "execution_count": 5,
   "metadata": {},
   "outputs": [],
   "source": [
    "a = pd.read_json('D:/TP/data/raw/Oscar_data/oscar_adult_2470_train.json')\n",
    "b = pd.read_json('D:/TP/data/raw/Oscar_data/oscar_adult_2470_test.json')"
   ]
  },
  {
   "cell_type": "code",
   "execution_count": 10,
   "metadata": {},
   "outputs": [
    {
     "data": {
      "text/html": [
       "<div>\n",
       "<style scoped>\n",
       "    .dataframe tbody tr th:only-of-type {\n",
       "        vertical-align: middle;\n",
       "    }\n",
       "\n",
       "    .dataframe tbody tr th {\n",
       "        vertical-align: top;\n",
       "    }\n",
       "\n",
       "    .dataframe thead th {\n",
       "        text-align: right;\n",
       "    }\n",
       "</style>\n",
       "<table border=\"1\" class=\"dataframe\">\n",
       "  <thead>\n",
       "    <tr style=\"text-align: right;\">\n",
       "      <th></th>\n",
       "      <th>index</th>\n",
       "      <th>content</th>\n",
       "      <th>annotation</th>\n",
       "    </tr>\n",
       "  </thead>\n",
       "  <tbody>\n",
       "    <tr>\n",
       "      <th>0</th>\n",
       "      <td>0</td>\n",
       "      <td>Also known as: Stahl-Justiz, La vengeance de J...</td>\n",
       "      <td>adult</td>\n",
       "    </tr>\n",
       "    <tr>\n",
       "      <th>1</th>\n",
       "      <td>1</td>\n",
       "      <td>Description: The film Delirium is about a madm...</td>\n",
       "      <td>adult</td>\n",
       "    </tr>\n",
       "    <tr>\n",
       "      <th>2</th>\n",
       "      <td>2</td>\n",
       "      <td>The Chicago Public Library's flagship teen pro...</td>\n",
       "      <td>adult</td>\n",
       "    </tr>\n",
       "    <tr>\n",
       "      <th>3</th>\n",
       "      <td>3</td>\n",
       "      <td>This policy explains in detail how “The Realm”...</td>\n",
       "      <td>adult</td>\n",
       "    </tr>\n",
       "    <tr>\n",
       "      <th>4</th>\n",
       "      <td>4</td>\n",
       "      <td>The versatile design of Sir Richard's Command ...</td>\n",
       "      <td>adult</td>\n",
       "    </tr>\n",
       "    <tr>\n",
       "      <th>...</th>\n",
       "      <td>...</td>\n",
       "      <td>...</td>\n",
       "      <td>...</td>\n",
       "    </tr>\n",
       "    <tr>\n",
       "      <th>3287</th>\n",
       "      <td>817</td>\n",
       "      <td>Troubling video has surfaced online that shows...</td>\n",
       "      <td>adult</td>\n",
       "    </tr>\n",
       "    <tr>\n",
       "      <th>3288</th>\n",
       "      <td>818</td>\n",
       "      <td>Me and my husband have been married for over 5...</td>\n",
       "      <td>adult</td>\n",
       "    </tr>\n",
       "    <tr>\n",
       "      <th>3289</th>\n",
       "      <td>819</td>\n",
       "      <td>Call girls in Dubai with Sexy Indian Girls for...</td>\n",
       "      <td>adult</td>\n",
       "    </tr>\n",
       "    <tr>\n",
       "      <th>3290</th>\n",
       "      <td>820</td>\n",
       "      <td>Drink grand more and i slack me either earn ye...</td>\n",
       "      <td>adult</td>\n",
       "    </tr>\n",
       "    <tr>\n",
       "      <th>3291</th>\n",
       "      <td>821</td>\n",
       "      <td>The new feminism means freedom to enjoy the th...</td>\n",
       "      <td>adult</td>\n",
       "    </tr>\n",
       "  </tbody>\n",
       "</table>\n",
       "<p>3292 rows × 3 columns</p>\n",
       "</div>"
      ],
      "text/plain": [
       "      index                                            content annotation\n",
       "0         0  Also known as: Stahl-Justiz, La vengeance de J...      adult\n",
       "1         1  Description: The film Delirium is about a madm...      adult\n",
       "2         2  The Chicago Public Library's flagship teen pro...      adult\n",
       "3         3  This policy explains in detail how “The Realm”...      adult\n",
       "4         4  The versatile design of Sir Richard's Command ...      adult\n",
       "...     ...                                                ...        ...\n",
       "3287    817  Troubling video has surfaced online that shows...      adult\n",
       "3288    818  Me and my husband have been married for over 5...      adult\n",
       "3289    819  Call girls in Dubai with Sexy Indian Girls for...      adult\n",
       "3290    820  Drink grand more and i slack me either earn ye...      adult\n",
       "3291    821  The new feminism means freedom to enjoy the th...      adult\n",
       "\n",
       "[3292 rows x 3 columns]"
      ]
     },
     "execution_count": 10,
     "metadata": {},
     "output_type": "execute_result"
    }
   ],
   "source": [
    "c = pd.concat([a,b],axis= 0)\n",
    "c = c.reset_index()\n",
    "c"
   ]
  },
  {
   "cell_type": "code",
   "execution_count": 11,
   "metadata": {},
   "outputs": [],
   "source": [
    "c.to_json('D:/TP/data/raw/Oscar_data/oscar_adult_3292.json')"
   ]
  },
  {
   "cell_type": "code",
   "execution_count": null,
   "metadata": {},
   "outputs": [],
   "source": []
  }
 ],
 "metadata": {
  "kernelspec": {
   "display_name": "Python 3.9.7 ('base')",
   "language": "python",
   "name": "python3"
  },
  "language_info": {
   "codemirror_mode": {
    "name": "ipython",
    "version": 3
   },
   "file_extension": ".py",
   "mimetype": "text/x-python",
   "name": "python",
   "nbconvert_exporter": "python",
   "pygments_lexer": "ipython3",
   "version": "3.9.7"
  },
  "orig_nbformat": 4,
  "vscode": {
   "interpreter": {
    "hash": "3038a2a91555d9fd4baeaba25fee6f032fb73f72c3627c46bf2b011bc838ec3b"
   }
  }
 },
 "nbformat": 4,
 "nbformat_minor": 2
}

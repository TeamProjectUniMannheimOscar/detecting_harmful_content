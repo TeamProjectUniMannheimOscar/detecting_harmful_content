{
 "cells": [
  {
   "cell_type": "code",
   "execution_count": 15,
   "metadata": {},
   "outputs": [],
   "source": [
    "# first download the chromdriver with the same version of your google chrome\n",
    "from selenium import webdriver\n",
    "from selenium.webdriver.common.by import By\n",
    "options = webdriver.ChromeOptions()\n",
    "from selenium.webdriver.chrome.service import Service\n",
    "download_dir = r'D:\\TP\\data\\raw\\kit\\kit1'\n",
    "#options.binary_location=r\"C:\\Program Files\\Google\\Chrome Beta\\Application\\chrome.exe\"\n",
    "prefs = {'download.prompt_for_download': False,\n",
    "        'download.default_directory': download_dir,\n",
    "        'download.directory_upgrage': True,\n",
    "        'profile.default_content_settings.popups': 0,\n",
    "        }\n",
    "\n",
    "options.add_experimental_option('prefs', prefs)\n",
    "# change the path where your chromedriver.exe is\n",
    "path = Service(r'D:\\TP\\notebooks\\English\\test\\chromedriver_win32\\chromedriver.exe')\n",
    "#path = Service('D:\\software\\chromedriver_win32\\chromedriver.exe')\n",
    "driver = webdriver.Chrome(options=options, service = path)"
   ]
  },
  {
   "cell_type": "code",
   "execution_count": 17,
   "metadata": {},
   "outputs": [
    {
     "name": "stdout",
     "output_type": "stream",
     "text": [
      "614\n",
      "615\n",
      "616\n",
      "617\n",
      "618\n"
     ]
    },
    {
     "ename": "TimeoutException",
     "evalue": "Message: timeout: Timed out receiving message from renderer: -0.000\n  (Session info: chrome=104.0.5112.81)\nStacktrace:\nBacktrace:\n\tOrdinal0 [0x00635FD3+2187219]\n\tOrdinal0 [0x005CE6D1+1763025]\n\tOrdinal0 [0x004E3E78+802424]\n\tOrdinal0 [0x004D5E3A+745018]\n\tOrdinal0 [0x004D4C28+740392]\n\tOrdinal0 [0x004D5228+741928]\n\tOrdinal0 [0x004DF00F+782351]\n\tOrdinal0 [0x004EA09B+827547]\n\tOrdinal0 [0x004ED3F0+840688]\n\tOrdinal0 [0x004D54F6+742646]\n\tOrdinal0 [0x004E9EE9+827113]\n\tOrdinal0 [0x0053CEE7+1167079]\n\tOrdinal0 [0x0052C9A6+1100198]\n\tOrdinal0 [0x00506F80+946048]\n\tOrdinal0 [0x00507E76+949878]\n\tGetHandleVerifier [0x008D90C2+2721218]\n\tGetHandleVerifier [0x008CAAF0+2662384]\n\tGetHandleVerifier [0x006C137A+526458]\n\tGetHandleVerifier [0x006C0416+522518]\n\tOrdinal0 [0x005D4EAB+1789611]\n\tOrdinal0 [0x005D97A8+1808296]\n\tOrdinal0 [0x005D9895+1808533]\n\tOrdinal0 [0x005E26C1+1844929]\n\tBaseThreadInitThunk [0x76706739+25]\n\tRtlGetFullPathName_UEx [0x776C90AF+1215]\n\tRtlGetFullPathName_UEx [0x776C907D+1165]\n",
     "output_type": "error",
     "traceback": [
      "\u001b[1;31m---------------------------------------------------------------------------\u001b[0m",
      "\u001b[1;31mTimeoutException\u001b[0m                          Traceback (most recent call last)",
      "\u001b[1;32m~\\AppData\\Local\\Temp/ipykernel_11200/3070961991.py\u001b[0m in \u001b[0;36m<module>\u001b[1;34m\u001b[0m\n\u001b[0;32m      5\u001b[0m \u001b[1;31m#for i in [215,217,219]:\u001b[0m\u001b[1;33m\u001b[0m\u001b[1;33m\u001b[0m\u001b[0m\n\u001b[0;32m      6\u001b[0m     \u001b[0murl\u001b[0m \u001b[1;33m=\u001b[0m \u001b[1;34m'https://oscar-prive.huma-num.fr/2201/packaged/en_meta/en_meta_part_'\u001b[0m\u001b[1;33m+\u001b[0m\u001b[0mstr\u001b[0m\u001b[1;33m(\u001b[0m\u001b[0mi\u001b[0m\u001b[1;33m)\u001b[0m\u001b[1;33m+\u001b[0m\u001b[1;34m'.jsonl.gz'\u001b[0m\u001b[1;33m\u001b[0m\u001b[1;33m\u001b[0m\u001b[0m\n\u001b[1;32m----> 7\u001b[1;33m     \u001b[0mdriver\u001b[0m\u001b[1;33m.\u001b[0m\u001b[0mget\u001b[0m\u001b[1;33m(\u001b[0m\u001b[0murl\u001b[0m\u001b[1;33m)\u001b[0m\u001b[1;33m\u001b[0m\u001b[1;33m\u001b[0m\u001b[0m\n\u001b[0m\u001b[0;32m      8\u001b[0m     \u001b[0mprint\u001b[0m\u001b[1;33m(\u001b[0m\u001b[0mi\u001b[0m\u001b[1;33m)\u001b[0m\u001b[1;33m\u001b[0m\u001b[1;33m\u001b[0m\u001b[0m\n",
      "\u001b[1;32md:\\software\\empty\\lib\\site-packages\\selenium\\webdriver\\remote\\webdriver.py\u001b[0m in \u001b[0;36mget\u001b[1;34m(self, url)\u001b[0m\n\u001b[0;32m    435\u001b[0m         \u001b[0mLoads\u001b[0m \u001b[0ma\u001b[0m \u001b[0mweb\u001b[0m \u001b[0mpage\u001b[0m \u001b[1;32min\u001b[0m \u001b[0mthe\u001b[0m \u001b[0mcurrent\u001b[0m \u001b[0mbrowser\u001b[0m \u001b[0msession\u001b[0m\u001b[1;33m.\u001b[0m\u001b[1;33m\u001b[0m\u001b[1;33m\u001b[0m\u001b[0m\n\u001b[0;32m    436\u001b[0m         \"\"\"\n\u001b[1;32m--> 437\u001b[1;33m         \u001b[0mself\u001b[0m\u001b[1;33m.\u001b[0m\u001b[0mexecute\u001b[0m\u001b[1;33m(\u001b[0m\u001b[0mCommand\u001b[0m\u001b[1;33m.\u001b[0m\u001b[0mGET\u001b[0m\u001b[1;33m,\u001b[0m \u001b[1;33m{\u001b[0m\u001b[1;34m'url'\u001b[0m\u001b[1;33m:\u001b[0m \u001b[0murl\u001b[0m\u001b[1;33m}\u001b[0m\u001b[1;33m)\u001b[0m\u001b[1;33m\u001b[0m\u001b[1;33m\u001b[0m\u001b[0m\n\u001b[0m\u001b[0;32m    438\u001b[0m \u001b[1;33m\u001b[0m\u001b[0m\n\u001b[0;32m    439\u001b[0m     \u001b[1;33m@\u001b[0m\u001b[0mproperty\u001b[0m\u001b[1;33m\u001b[0m\u001b[1;33m\u001b[0m\u001b[0m\n",
      "\u001b[1;32md:\\software\\empty\\lib\\site-packages\\selenium\\webdriver\\remote\\webdriver.py\u001b[0m in \u001b[0;36mexecute\u001b[1;34m(self, driver_command, params)\u001b[0m\n\u001b[0;32m    423\u001b[0m         \u001b[0mresponse\u001b[0m \u001b[1;33m=\u001b[0m \u001b[0mself\u001b[0m\u001b[1;33m.\u001b[0m\u001b[0mcommand_executor\u001b[0m\u001b[1;33m.\u001b[0m\u001b[0mexecute\u001b[0m\u001b[1;33m(\u001b[0m\u001b[0mdriver_command\u001b[0m\u001b[1;33m,\u001b[0m \u001b[0mparams\u001b[0m\u001b[1;33m)\u001b[0m\u001b[1;33m\u001b[0m\u001b[1;33m\u001b[0m\u001b[0m\n\u001b[0;32m    424\u001b[0m         \u001b[1;32mif\u001b[0m \u001b[0mresponse\u001b[0m\u001b[1;33m:\u001b[0m\u001b[1;33m\u001b[0m\u001b[1;33m\u001b[0m\u001b[0m\n\u001b[1;32m--> 425\u001b[1;33m             \u001b[0mself\u001b[0m\u001b[1;33m.\u001b[0m\u001b[0merror_handler\u001b[0m\u001b[1;33m.\u001b[0m\u001b[0mcheck_response\u001b[0m\u001b[1;33m(\u001b[0m\u001b[0mresponse\u001b[0m\u001b[1;33m)\u001b[0m\u001b[1;33m\u001b[0m\u001b[1;33m\u001b[0m\u001b[0m\n\u001b[0m\u001b[0;32m    426\u001b[0m             response['value'] = self._unwrap_value(\n\u001b[0;32m    427\u001b[0m                 response.get('value', None))\n",
      "\u001b[1;32md:\\software\\empty\\lib\\site-packages\\selenium\\webdriver\\remote\\errorhandler.py\u001b[0m in \u001b[0;36mcheck_response\u001b[1;34m(self, response)\u001b[0m\n\u001b[0;32m    245\u001b[0m                 \u001b[0malert_text\u001b[0m \u001b[1;33m=\u001b[0m \u001b[0mvalue\u001b[0m\u001b[1;33m[\u001b[0m\u001b[1;34m'alert'\u001b[0m\u001b[1;33m]\u001b[0m\u001b[1;33m.\u001b[0m\u001b[0mget\u001b[0m\u001b[1;33m(\u001b[0m\u001b[1;34m'text'\u001b[0m\u001b[1;33m)\u001b[0m\u001b[1;33m\u001b[0m\u001b[1;33m\u001b[0m\u001b[0m\n\u001b[0;32m    246\u001b[0m             \u001b[1;32mraise\u001b[0m \u001b[0mexception_class\u001b[0m\u001b[1;33m(\u001b[0m\u001b[0mmessage\u001b[0m\u001b[1;33m,\u001b[0m \u001b[0mscreen\u001b[0m\u001b[1;33m,\u001b[0m \u001b[0mstacktrace\u001b[0m\u001b[1;33m,\u001b[0m \u001b[0malert_text\u001b[0m\u001b[1;33m)\u001b[0m  \u001b[1;31m# type: ignore[call-arg]  # mypy is not smart enough here\u001b[0m\u001b[1;33m\u001b[0m\u001b[1;33m\u001b[0m\u001b[0m\n\u001b[1;32m--> 247\u001b[1;33m         \u001b[1;32mraise\u001b[0m \u001b[0mexception_class\u001b[0m\u001b[1;33m(\u001b[0m\u001b[0mmessage\u001b[0m\u001b[1;33m,\u001b[0m \u001b[0mscreen\u001b[0m\u001b[1;33m,\u001b[0m \u001b[0mstacktrace\u001b[0m\u001b[1;33m)\u001b[0m\u001b[1;33m\u001b[0m\u001b[1;33m\u001b[0m\u001b[0m\n\u001b[0m\u001b[0;32m    248\u001b[0m \u001b[1;33m\u001b[0m\u001b[0m\n\u001b[0;32m    249\u001b[0m     \u001b[1;32mdef\u001b[0m \u001b[0m_value_or_default\u001b[0m\u001b[1;33m(\u001b[0m\u001b[0mself\u001b[0m\u001b[1;33m,\u001b[0m \u001b[0mobj\u001b[0m\u001b[1;33m:\u001b[0m \u001b[0mMapping\u001b[0m\u001b[1;33m[\u001b[0m\u001b[0m_KT\u001b[0m\u001b[1;33m,\u001b[0m \u001b[0m_VT\u001b[0m\u001b[1;33m]\u001b[0m\u001b[1;33m,\u001b[0m \u001b[0mkey\u001b[0m\u001b[1;33m:\u001b[0m \u001b[0m_KT\u001b[0m\u001b[1;33m,\u001b[0m \u001b[0mdefault\u001b[0m\u001b[1;33m:\u001b[0m \u001b[0m_VT\u001b[0m\u001b[1;33m)\u001b[0m \u001b[1;33m->\u001b[0m \u001b[0m_VT\u001b[0m\u001b[1;33m:\u001b[0m\u001b[1;33m\u001b[0m\u001b[1;33m\u001b[0m\u001b[0m\n",
      "\u001b[1;31mTimeoutException\u001b[0m: Message: timeout: Timed out receiving message from renderer: -0.000\n  (Session info: chrome=104.0.5112.81)\nStacktrace:\nBacktrace:\n\tOrdinal0 [0x00635FD3+2187219]\n\tOrdinal0 [0x005CE6D1+1763025]\n\tOrdinal0 [0x004E3E78+802424]\n\tOrdinal0 [0x004D5E3A+745018]\n\tOrdinal0 [0x004D4C28+740392]\n\tOrdinal0 [0x004D5228+741928]\n\tOrdinal0 [0x004DF00F+782351]\n\tOrdinal0 [0x004EA09B+827547]\n\tOrdinal0 [0x004ED3F0+840688]\n\tOrdinal0 [0x004D54F6+742646]\n\tOrdinal0 [0x004E9EE9+827113]\n\tOrdinal0 [0x0053CEE7+1167079]\n\tOrdinal0 [0x0052C9A6+1100198]\n\tOrdinal0 [0x00506F80+946048]\n\tOrdinal0 [0x00507E76+949878]\n\tGetHandleVerifier [0x008D90C2+2721218]\n\tGetHandleVerifier [0x008CAAF0+2662384]\n\tGetHandleVerifier [0x006C137A+526458]\n\tGetHandleVerifier [0x006C0416+522518]\n\tOrdinal0 [0x005D4EAB+1789611]\n\tOrdinal0 [0x005D97A8+1808296]\n\tOrdinal0 [0x005D9895+1808533]\n\tOrdinal0 [0x005E26C1+1844929]\n\tBaseThreadInitThunk [0x76706739+25]\n\tRtlGetFullPathName_UEx [0x776C90AF+1215]\n\tRtlGetFullPathName_UEx [0x776C907D+1165]\n"
     ]
    }
   ],
   "source": [
    "# change the range \n",
    "# was in 131\n",
    "#215， 217， 219，220\n",
    "for i in range(614,700):\n",
    "#for i in [215,217,219]:\n",
    "    url = 'https://oscar-prive.huma-num.fr/2201/packaged/en_meta/en_meta_part_'+str(i)+'.jsonl.gz'\n",
    "    driver.get(url)\n",
    "    print(i)\n"
   ]
  },
  {
   "cell_type": "code",
   "execution_count": null,
   "metadata": {},
   "outputs": [],
   "source": []
  }
 ],
 "metadata": {
  "kernelspec": {
   "display_name": "Python 3.9.7 ('base')",
   "language": "python",
   "name": "python3"
  },
  "language_info": {
   "codemirror_mode": {
    "name": "ipython",
    "version": 3
   },
   "file_extension": ".py",
   "mimetype": "text/x-python",
   "name": "python",
   "nbconvert_exporter": "python",
   "pygments_lexer": "ipython3",
   "version": "3.9.7"
  },
  "orig_nbformat": 4,
  "vscode": {
   "interpreter": {
    "hash": "3038a2a91555d9fd4baeaba25fee6f032fb73f72c3627c46bf2b011bc838ec3b"
   }
  }
 },
 "nbformat": 4,
 "nbformat_minor": 2
}

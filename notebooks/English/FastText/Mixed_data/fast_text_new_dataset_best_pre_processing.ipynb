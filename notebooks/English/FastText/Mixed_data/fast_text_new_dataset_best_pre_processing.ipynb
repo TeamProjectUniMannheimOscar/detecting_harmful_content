{
 "cells": [
  {
   "cell_type": "markdown",
   "metadata": {
    "id": "yXCk_7VHtiZA"
   },
   "source": [
    "# Set up"
   ]
  },
  {
   "cell_type": "markdown",
   "metadata": {
    "id": "OO6_d3Ultq4x"
   },
   "source": [
    "## Package Loading"
   ]
  },
  {
   "cell_type": "code",
   "execution_count": 1,
   "metadata": {
    "colab": {
     "base_uri": "https://localhost:8080/"
    },
    "id": "Yoxwdo6UtmQs",
    "outputId": "c14c170c-47a7-4754-8dc7-864d990e7ad7"
   },
   "outputs": [
    {
     "name": "stdout",
     "output_type": "stream",
     "text": [
      "Requirement already satisfied: fasttext in c:\\users\\timja\\anaconda32\\lib\\site-packages (0.9.2)\n",
      "Requirement already satisfied: numpy in c:\\users\\timja\\anaconda32\\lib\\site-packages (from fasttext) (1.20.1)\n",
      "Requirement already satisfied: setuptools>=0.7.0 in c:\\users\\timja\\anaconda32\\lib\\site-packages (from fasttext) (63.1.0)\n",
      "Requirement already satisfied: pybind11>=2.2 in c:\\users\\timja\\anaconda32\\lib\\site-packages (from fasttext) (2.9.2)\n",
      "\n",
      "[notice] A new release of pip available: 22.1.2 -> 22.2.2\n",
      "[notice] To update, run: python.exe -m pip install --upgrade pip\n"
     ]
    }
   ],
   "source": [
    "import numpy as np \n",
    "import pandas as pd \n",
    "!pip install fasttext\n",
    "import fasttext\n",
    "import bz2\n",
    "import csv\n",
    "from sklearn.metrics import roc_auc_score, f1_score\n",
    "from sklearn.model_selection import train_test_split\n",
    "import time\n",
    "import seaborn as sns\n",
    "import nltk\n",
    "from nltk.stem import WordNetLemmatizer\n",
    "#nltk.download('punkt')\n",
    "#nltk.download('stopwords')\n",
    "from nltk.corpus import stopwords \n",
    "from nltk.tokenize import word_tokenize"
   ]
  },
  {
   "cell_type": "markdown",
   "metadata": {
    "id": "SxAWWWFXuEvd"
   },
   "source": [
    "## Set up paths"
   ]
  },
  {
   "cell_type": "code",
   "execution_count": 2,
   "metadata": {
    "id": "PAmnBOwxuHmS"
   },
   "outputs": [],
   "source": [
    "path_data = '../../../../data/raw/mixed/mixed_oscar_6712.json'\n",
    "path_train = 'train_text.txt'\n",
    "path_test = 'test_text.txt'\n",
    "path_valid = 'valid_text.txt'"
   ]
  },
  {
   "cell_type": "markdown",
   "metadata": {
    "id": "hLuVlcpZz88y"
   },
   "source": [
    "## Set up functions"
   ]
  },
  {
   "cell_type": "code",
   "execution_count": 3,
   "metadata": {
    "id": "ks4SIl7gz_Ly"
   },
   "outputs": [],
   "source": [
    "def convert_labels(label):\n",
    "  label = int(label)\n",
    "  if label == 1:\n",
    "    return '__label__1'\n",
    "  else:\n",
    "    return '__label__0'"
   ]
  },
  {
   "cell_type": "markdown",
   "metadata": {
    "id": "lRsP-vLlxXcV"
   },
   "source": [
    "#  Train Test split and Data Preparation"
   ]
  },
  {
   "cell_type": "code",
   "execution_count": 4,
   "metadata": {},
   "outputs": [
    {
     "data": {
      "text/html": [
       "<div>\n",
       "<style scoped>\n",
       "    .dataframe tbody tr th:only-of-type {\n",
       "        vertical-align: middle;\n",
       "    }\n",
       "\n",
       "    .dataframe tbody tr th {\n",
       "        vertical-align: top;\n",
       "    }\n",
       "\n",
       "    .dataframe thead th {\n",
       "        text-align: right;\n",
       "    }\n",
       "</style>\n",
       "<table border=\"1\" class=\"dataframe\">\n",
       "  <thead>\n",
       "    <tr style=\"text-align: right;\">\n",
       "      <th></th>\n",
       "      <th>text</th>\n",
       "      <th>annotation</th>\n",
       "    </tr>\n",
       "  </thead>\n",
       "  <tbody>\n",
       "    <tr>\n",
       "      <th>0</th>\n",
       "      <td>, 4*s = -3*g - 3. Suppose -s*x - 7 = -7. Let u...</td>\n",
       "      <td>0</td>\n",
       "    </tr>\n",
       "    <tr>\n",
       "      <th>1</th>\n",
       "      <td>\"HAZMA T team to Cargo Bay 7.\" \"HAZMA T team t...</td>\n",
       "      <td>0</td>\n",
       "    </tr>\n",
       "    <tr>\n",
       "      <th>2</th>\n",
       "      <td>Chinless Gumby McConnell stands in front of re...</td>\n",
       "      <td>1</td>\n",
       "    </tr>\n",
       "    <tr>\n",
       "      <th>3</th>\n",
       "      <td>This site contains explicit writings on kink p...</td>\n",
       "      <td>1</td>\n",
       "    </tr>\n",
       "    <tr>\n",
       "      <th>4</th>\n",
       "      <td>This policy explains in detail how “GIMP Forum...</td>\n",
       "      <td>1</td>\n",
       "    </tr>\n",
       "    <tr>\n",
       "      <th>...</th>\n",
       "      <td>...</td>\n",
       "      <td>...</td>\n",
       "    </tr>\n",
       "    <tr>\n",
       "      <th>6707</th>\n",
       "      <td>Cardi B. American rapper Cardi B accidentally ...</td>\n",
       "      <td>1</td>\n",
       "    </tr>\n",
       "    <tr>\n",
       "      <th>6708</th>\n",
       "      <td>#ubuntukylin-devel 2013-12-02\\n&lt;maclin&gt; Hi jzh...</td>\n",
       "      <td>0</td>\n",
       "    </tr>\n",
       "    <tr>\n",
       "      <th>6709</th>\n",
       "      <td>Are you or someone you know homebound? Whether...</td>\n",
       "      <td>1</td>\n",
       "    </tr>\n",
       "    <tr>\n",
       "      <th>6710</th>\n",
       "      <td>Meistens ist es nГmlich so, muss er basierend ...</td>\n",
       "      <td>1</td>\n",
       "    </tr>\n",
       "    <tr>\n",
       "      <th>6711</th>\n",
       "      <td>BCSIR JOB CIRCULAR 2019, www.bcsir.gov.bd, BCS...</td>\n",
       "      <td>1</td>\n",
       "    </tr>\n",
       "  </tbody>\n",
       "</table>\n",
       "<p>6712 rows × 2 columns</p>\n",
       "</div>"
      ],
      "text/plain": [
       "                                                   text  annotation\n",
       "0     , 4*s = -3*g - 3. Suppose -s*x - 7 = -7. Let u...           0\n",
       "1     \"HAZMA T team to Cargo Bay 7.\" \"HAZMA T team t...           0\n",
       "2     Chinless Gumby McConnell stands in front of re...           1\n",
       "3     This site contains explicit writings on kink p...           1\n",
       "4     This policy explains in detail how “GIMP Forum...           1\n",
       "...                                                 ...         ...\n",
       "6707  Cardi B. American rapper Cardi B accidentally ...           1\n",
       "6708  #ubuntukylin-devel 2013-12-02\\n<maclin> Hi jzh...           0\n",
       "6709  Are you or someone you know homebound? Whether...           1\n",
       "6710  Meistens ist es nГmlich so, muss er basierend ...           1\n",
       "6711  BCSIR JOB CIRCULAR 2019, www.bcsir.gov.bd, BCS...           1\n",
       "\n",
       "[6712 rows x 2 columns]"
      ]
     },
     "execution_count": 4,
     "metadata": {},
     "output_type": "execute_result"
    }
   ],
   "source": [
    "df = pd.read_json(path_data)\n",
    "df"
   ]
  },
  {
   "cell_type": "code",
   "execution_count": 5,
   "metadata": {
    "colab": {
     "base_uri": "https://localhost:8080/"
    },
    "id": "_GBkfqdtxbmp",
    "outputId": "0fc51c29-8b7d-40a3-a401-890f425a7f55"
   },
   "outputs": [
    {
     "name": "stderr",
     "output_type": "stream",
     "text": [
      "[nltk_data] Downloading package wordnet to\n",
      "[nltk_data]     C:\\Users\\timja\\AppData\\Roaming\\nltk_data...\n",
      "[nltk_data]   Package wordnet is already up-to-date!\n",
      "[nltk_data] Downloading package omw-1.4 to\n",
      "[nltk_data]     C:\\Users\\timja\\AppData\\Roaming\\nltk_data...\n",
      "[nltk_data]   Package omw-1.4 is already up-to-date!\n"
     ]
    },
    {
     "name": "stdout",
     "output_type": "stream",
     "text": [
      "                                                text       label\n",
      "0  , 4 * s = -3 * g - 3 . Suppose -s * x - 7 = -7...  __label__0\n",
      "1  `` HAZMA T team to Cargo Bay 7 . '' `` HAZMA T...  __label__0\n",
      "2  Chinless Gumby McConnell stand in front of rep...  __label__1\n",
      "3  This site contains explicit writing on kink pr...  __label__1\n",
      "4  This policy explains in detail how “ GIMP Foru...  __label__1\n"
     ]
    }
   ],
   "source": [
    "df['label'] = df['annotation']\n",
    "df.drop(columns=['annotation'], inplace = True)\n",
    "df['label'] = df['label'].apply(convert_labels)\n",
    "\n",
    "#pre processing \n",
    "from nltk.stem import WordNetLemmatizer\n",
    "nltk.download('wordnet')\n",
    "nltk.download('omw-1.4')\n",
    "\n",
    "lemmatizer = WordNetLemmatizer()\n",
    "\n",
    "df['text'] = df['text'].apply(lambda x: ' '.join([lemmatizer.lemmatize(word) for word in word_tokenize(x)]))\n",
    "print(df.head())\n",
    "\n",
    "train, test = train_test_split(df, test_size=0.2, random_state = 453, stratify=df['label'])\n",
    "test, valid = train_test_split(test, test_size=0.5 , random_state = 453, stratify= test['label'])"
   ]
  },
  {
   "cell_type": "markdown",
   "metadata": {
    "id": "ilXjc79O1lD0"
   },
   "source": [
    "# Transformation to txt"
   ]
  },
  {
   "cell_type": "code",
   "execution_count": 6,
   "metadata": {
    "id": "iJoeqznI1pYp"
   },
   "outputs": [],
   "source": [
    "train.to_csv(path_train, index=False, sep=' ', header=False, quoting=csv.QUOTE_NONE, quotechar=\"\", escapechar=\" \")\n",
    "valid.to_csv(path_valid, index=False, sep=' ', header=False, quoting=csv.QUOTE_NONE, quotechar=\"\", escapechar=\" \")\n",
    "test_labels = []\n",
    "test_list = []\n",
    "for index, row in test.iterrows():\n",
    "    test_list.append(row['text'])\n",
    "    test_labels.append(row['label'])"
   ]
  },
  {
   "cell_type": "markdown",
   "metadata": {
    "id": "Plx6C6wH2Tcj"
   },
   "source": [
    "# Modeling"
   ]
  },
  {
   "cell_type": "code",
   "execution_count": 7,
   "metadata": {
    "colab": {
     "base_uri": "https://localhost:8080/"
    },
    "id": "OBSca5m02VHz",
    "outputId": "fa25fc9b-2388-46b4-e5da-8cc3ac43c169"
   },
   "outputs": [
    {
     "name": "stdout",
     "output_type": "stream",
     "text": [
      "--- The predicting took: 48.67281651496887 seconds ---\n",
      "['__label__0', '__label__1'] are the labels or targets the model is predicting\n"
     ]
    }
   ],
   "source": [
    "\n",
    "start_time = time.time()\n",
    "\n",
    "\n",
    "\n",
    "model = fasttext.train_supervised(path_train, label_prefix='__label__', thread=4, epoch = 10)\n",
    "#model = fasttext.train_supervised(input=path_train, autotuneValidationFile=path_valid, autotuneDuration=600)\n",
    "\n",
    "# measure time \n",
    "end_time = time.time()\n",
    "measured_time = end_time - start_time\n",
    "print(\"--- The predicting took: %s seconds ---\" % (measured_time))\n",
    "print(model.labels, 'are the labels or targets the model is predicting')"
   ]
  },
  {
   "cell_type": "markdown",
   "metadata": {
    "id": "yYODOnfp9ru2"
   },
   "source": [
    "# Prediction"
   ]
  },
  {
   "cell_type": "code",
   "execution_count": 8,
   "metadata": {
    "colab": {
     "base_uri": "https://localhost:8080/"
    },
    "id": "I8VMGzYo93jH",
    "outputId": "627833c6-5005-43ce-a2b6-0dcc17e540a7"
   },
   "outputs": [
    {
     "name": "stdout",
     "output_type": "stream",
     "text": [
      "['__label__0'] is the predicted label\n"
     ]
    }
   ],
   "source": [
    "test_list = [w.replace('\\n', '') for w in test_list]\n",
    "\n",
    "# Use the predict function \n",
    "pred = model.predict(test_list)\n",
    "\n",
    "# check the first record outputs\n",
    "print(pred[0][0], 'is the predicted label')"
   ]
  },
  {
   "cell_type": "code",
   "execution_count": 9,
   "metadata": {
    "colab": {
     "base_uri": "https://localhost:8080/"
    },
    "id": "muxReMDr-WuI",
    "outputId": "57c905cc-bd31-4d49-96c5-215fb7b77d09"
   },
   "outputs": [
    {
     "name": "stdout",
     "output_type": "stream",
     "text": [
      "0.9066416040100251\n",
      "0.9071831438413622\n"
     ]
    }
   ],
   "source": [
    "labels = [0 if x.split(' ')[0] == '__label__0' else 1 for x in test_labels]\n",
    "pred_labels = [0 if x == ['__label__0'] else 1 for x in pred[0]]\n",
    "\n",
    "# run the accuracy measure. \n",
    "print(roc_auc_score(labels, pred_labels))\n",
    "print(f1_score(labels, pred_labels, average= 'macro'))"
   ]
  },
  {
   "cell_type": "markdown",
   "metadata": {},
   "source": [
    "## Predict oscar data "
   ]
  },
  {
   "cell_type": "code",
   "execution_count": 10,
   "metadata": {},
   "outputs": [],
   "source": [
    "path_oscar_en_1gb = path_oscar_1gb_eng = '../../../../data/raw/Oscar_data/en_meta_part_1.jsonl'"
   ]
  },
  {
   "cell_type": "code",
   "execution_count": 11,
   "metadata": {},
   "outputs": [
    {
     "data": {
      "text/html": [
       "<div>\n",
       "<style scoped>\n",
       "    .dataframe tbody tr th:only-of-type {\n",
       "        vertical-align: middle;\n",
       "    }\n",
       "\n",
       "    .dataframe tbody tr th {\n",
       "        vertical-align: top;\n",
       "    }\n",
       "\n",
       "    .dataframe thead th {\n",
       "        text-align: right;\n",
       "    }\n",
       "</style>\n",
       "<table border=\"1\" class=\"dataframe\">\n",
       "  <thead>\n",
       "    <tr style=\"text-align: right;\">\n",
       "      <th></th>\n",
       "      <th>content</th>\n",
       "      <th>warc_headers</th>\n",
       "      <th>metadata</th>\n",
       "    </tr>\n",
       "  </thead>\n",
       "  <tbody>\n",
       "    <tr>\n",
       "      <th>0</th>\n",
       "      <td>Botany 2013 - Phylogenetic relationships in Br...</td>\n",
       "      <td>{'content-length': '3090', 'warc-record-id': '...</td>\n",
       "      <td>{'identification': {'label': 'en', 'prob': 0.6...</td>\n",
       "    </tr>\n",
       "    <tr>\n",
       "      <th>1</th>\n",
       "      <td>HOW EXACTLY TO MEET SHEMALES Meeting shemales ...</td>\n",
       "      <td>{'warc-refers-to': '&lt;urn:uuid:0244a561-2fe4-40...</td>\n",
       "      <td>{'identification': {'label': 'en', 'prob': 0.7...</td>\n",
       "    </tr>\n",
       "    <tr>\n",
       "      <th>2</th>\n",
       "      <td>Message (778) 294-7737Call (778) 294-7737Get d...</td>\n",
       "      <td>{'content-length': '1498', 'warc-block-digest'...</td>\n",
       "      <td>{'identification': {'label': 'en', 'prob': 0.6...</td>\n",
       "    </tr>\n",
       "    <tr>\n",
       "      <th>3</th>\n",
       "      <td>Aarambh India FX is a premier name in the real...</td>\n",
       "      <td>{'content-length': '1397', 'warc-type': 'conve...</td>\n",
       "      <td>{'identification': {'label': 'en', 'prob': 0.9...</td>\n",
       "    </tr>\n",
       "    <tr>\n",
       "      <th>4</th>\n",
       "      <td>First described over 100 years ago, B. megater...</td>\n",
       "      <td>{'warc-block-digest': 'sha1:GOX4ZR3A4AO56LTX2X...</td>\n",
       "      <td>{'identification': {'label': 'en', 'prob': 0.6...</td>\n",
       "    </tr>\n",
       "    <tr>\n",
       "      <th>...</th>\n",
       "      <td>...</td>\n",
       "      <td>...</td>\n",
       "      <td>...</td>\n",
       "    </tr>\n",
       "    <tr>\n",
       "      <th>137116</th>\n",
       "      <td>In order to take full advantage of the feature...</td>\n",
       "      <td>{'warc-target-uri': 'https://www.chevytalk.org...</td>\n",
       "      <td>{'identification': {'label': 'en', 'prob': 0.9...</td>\n",
       "    </tr>\n",
       "    <tr>\n",
       "      <th>137117</th>\n",
       "      <td>Cookies are used for measurement, ads and opti...</td>\n",
       "      <td>{'warc-target-uri': 'https://www.cheyenne.org/...</td>\n",
       "      <td>{'identification': {'label': 'en', 'prob': 0.9...</td>\n",
       "    </tr>\n",
       "    <tr>\n",
       "      <th>137118</th>\n",
       "      <td>Pediatric dentists practice cosmetic dentistry...</td>\n",
       "      <td>{'content-type': 'text/plain', 'content-length...</td>\n",
       "      <td>{'identification': {'label': 'en', 'prob': 0.9...</td>\n",
       "    </tr>\n",
       "    <tr>\n",
       "      <th>137119</th>\n",
       "      <td>Local and national studies demonstrate the nee...</td>\n",
       "      <td>{'warc-target-uri': 'https://www.chicagosfoodb...</td>\n",
       "      <td>{'identification': {'label': 'en', 'prob': 0.8...</td>\n",
       "    </tr>\n",
       "    <tr>\n",
       "      <th>137120</th>\n",
       "      <td>Allstate reaches agreement to sell Northbrook ...</td>\n",
       "      <td>{'warc-identified-content-language': 'eng', 'c...</td>\n",
       "      <td>{'identification': {'label': 'en', 'prob': 0.9...</td>\n",
       "    </tr>\n",
       "  </tbody>\n",
       "</table>\n",
       "<p>137121 rows × 3 columns</p>\n",
       "</div>"
      ],
      "text/plain": [
       "                                                  content  \\\n",
       "0       Botany 2013 - Phylogenetic relationships in Br...   \n",
       "1       HOW EXACTLY TO MEET SHEMALES Meeting shemales ...   \n",
       "2       Message (778) 294-7737Call (778) 294-7737Get d...   \n",
       "3       Aarambh India FX is a premier name in the real...   \n",
       "4       First described over 100 years ago, B. megater...   \n",
       "...                                                   ...   \n",
       "137116  In order to take full advantage of the feature...   \n",
       "137117  Cookies are used for measurement, ads and opti...   \n",
       "137118  Pediatric dentists practice cosmetic dentistry...   \n",
       "137119  Local and national studies demonstrate the nee...   \n",
       "137120  Allstate reaches agreement to sell Northbrook ...   \n",
       "\n",
       "                                             warc_headers  \\\n",
       "0       {'content-length': '3090', 'warc-record-id': '...   \n",
       "1       {'warc-refers-to': '<urn:uuid:0244a561-2fe4-40...   \n",
       "2       {'content-length': '1498', 'warc-block-digest'...   \n",
       "3       {'content-length': '1397', 'warc-type': 'conve...   \n",
       "4       {'warc-block-digest': 'sha1:GOX4ZR3A4AO56LTX2X...   \n",
       "...                                                   ...   \n",
       "137116  {'warc-target-uri': 'https://www.chevytalk.org...   \n",
       "137117  {'warc-target-uri': 'https://www.cheyenne.org/...   \n",
       "137118  {'content-type': 'text/plain', 'content-length...   \n",
       "137119  {'warc-target-uri': 'https://www.chicagosfoodb...   \n",
       "137120  {'warc-identified-content-language': 'eng', 'c...   \n",
       "\n",
       "                                                 metadata  \n",
       "0       {'identification': {'label': 'en', 'prob': 0.6...  \n",
       "1       {'identification': {'label': 'en', 'prob': 0.7...  \n",
       "2       {'identification': {'label': 'en', 'prob': 0.6...  \n",
       "3       {'identification': {'label': 'en', 'prob': 0.9...  \n",
       "4       {'identification': {'label': 'en', 'prob': 0.6...  \n",
       "...                                                   ...  \n",
       "137116  {'identification': {'label': 'en', 'prob': 0.9...  \n",
       "137117  {'identification': {'label': 'en', 'prob': 0.9...  \n",
       "137118  {'identification': {'label': 'en', 'prob': 0.9...  \n",
       "137119  {'identification': {'label': 'en', 'prob': 0.8...  \n",
       "137120  {'identification': {'label': 'en', 'prob': 0.9...  \n",
       "\n",
       "[137121 rows x 3 columns]"
      ]
     },
     "execution_count": 11,
     "metadata": {},
     "output_type": "execute_result"
    }
   ],
   "source": [
    "df_en = pd.read_json(path_oscar_1gb_eng, lines=True)\n",
    "df_en"
   ]
  },
  {
   "cell_type": "code",
   "execution_count": 12,
   "metadata": {},
   "outputs": [
    {
     "name": "stderr",
     "output_type": "stream",
     "text": [
      "[nltk_data] Downloading package wordnet to\n",
      "[nltk_data]     C:\\Users\\timja\\AppData\\Roaming\\nltk_data...\n",
      "[nltk_data]   Package wordnet is already up-to-date!\n",
      "[nltk_data] Downloading package omw-1.4 to\n",
      "[nltk_data]     C:\\Users\\timja\\AppData\\Roaming\\nltk_data...\n",
      "[nltk_data]   Package omw-1.4 is already up-to-date!\n"
     ]
    },
    {
     "data": {
      "text/html": [
       "<div>\n",
       "<style scoped>\n",
       "    .dataframe tbody tr th:only-of-type {\n",
       "        vertical-align: middle;\n",
       "    }\n",
       "\n",
       "    .dataframe tbody tr th {\n",
       "        vertical-align: top;\n",
       "    }\n",
       "\n",
       "    .dataframe thead th {\n",
       "        text-align: right;\n",
       "    }\n",
       "</style>\n",
       "<table border=\"1\" class=\"dataframe\">\n",
       "  <thead>\n",
       "    <tr style=\"text-align: right;\">\n",
       "      <th></th>\n",
       "      <th>content</th>\n",
       "    </tr>\n",
       "  </thead>\n",
       "  <tbody>\n",
       "    <tr>\n",
       "      <th>0</th>\n",
       "      <td>Botany 2013 - Phylogenetic relationship in Bra...</td>\n",
       "    </tr>\n",
       "    <tr>\n",
       "      <th>1</th>\n",
       "      <td>HOW EXACTLY TO MEET SHEMALES Meeting shemales ...</td>\n",
       "    </tr>\n",
       "    <tr>\n",
       "      <th>2</th>\n",
       "      <td>Message ( 778 ) 294-7737Call ( 778 ) 294-7737G...</td>\n",
       "    </tr>\n",
       "    <tr>\n",
       "      <th>3</th>\n",
       "      <td>Aarambh India FX is a premier name in the real...</td>\n",
       "    </tr>\n",
       "    <tr>\n",
       "      <th>4</th>\n",
       "      <td>First described over 100 year ago , B. megater...</td>\n",
       "    </tr>\n",
       "    <tr>\n",
       "      <th>...</th>\n",
       "      <td>...</td>\n",
       "    </tr>\n",
       "    <tr>\n",
       "      <th>137116</th>\n",
       "      <td>In order to take full advantage of the feature...</td>\n",
       "    </tr>\n",
       "    <tr>\n",
       "      <th>137117</th>\n",
       "      <td>Cookies are used for measurement , ad and opti...</td>\n",
       "    </tr>\n",
       "    <tr>\n",
       "      <th>137118</th>\n",
       "      <td>Pediatric dentist practice cosmetic dentistry ...</td>\n",
       "    </tr>\n",
       "    <tr>\n",
       "      <th>137119</th>\n",
       "      <td>Local and national study demonstrate the need ...</td>\n",
       "    </tr>\n",
       "    <tr>\n",
       "      <th>137120</th>\n",
       "      <td>Allstate reach agreement to sell Northbrook ca...</td>\n",
       "    </tr>\n",
       "  </tbody>\n",
       "</table>\n",
       "<p>137121 rows × 1 columns</p>\n",
       "</div>"
      ],
      "text/plain": [
       "                                                  content\n",
       "0       Botany 2013 - Phylogenetic relationship in Bra...\n",
       "1       HOW EXACTLY TO MEET SHEMALES Meeting shemales ...\n",
       "2       Message ( 778 ) 294-7737Call ( 778 ) 294-7737G...\n",
       "3       Aarambh India FX is a premier name in the real...\n",
       "4       First described over 100 year ago , B. megater...\n",
       "...                                                   ...\n",
       "137116  In order to take full advantage of the feature...\n",
       "137117  Cookies are used for measurement , ad and opti...\n",
       "137118  Pediatric dentist practice cosmetic dentistry ...\n",
       "137119  Local and national study demonstrate the need ...\n",
       "137120  Allstate reach agreement to sell Northbrook ca...\n",
       "\n",
       "[137121 rows x 1 columns]"
      ]
     },
     "execution_count": 12,
     "metadata": {},
     "output_type": "execute_result"
    }
   ],
   "source": [
    "df_en.drop(columns=\"warc_headers\", inplace=True)\n",
    "df_en.drop(columns=\"metadata\", inplace=True)\n",
    "# pre processing \n",
    "from nltk.stem import WordNetLemmatizer\n",
    "nltk.download('wordnet')\n",
    "nltk.download('omw-1.4')\n",
    "\n",
    "lemmatizer = WordNetLemmatizer()\n",
    "\n",
    "df_en['content'] = df_en['content'].apply(lambda x: ' '.join([lemmatizer.lemmatize(word) for word in word_tokenize(x)]))\n",
    "df_en"
   ]
  },
  {
   "cell_type": "code",
   "execution_count": 13,
   "metadata": {},
   "outputs": [
    {
     "name": "stdout",
     "output_type": "stream",
     "text": [
      "--- The predicting took: 44.2567195892334 seconds ---\n"
     ]
    }
   ],
   "source": [
    "# predicting \n",
    "test_list = []\n",
    "for index, row in df_en.iterrows():\n",
    "    test_list.append(row['content'])\n",
    "test_list = [w.replace('\\n', '') for w in test_list]\n",
    "\n",
    "start_time = time.time()\n",
    "\n",
    "# Use the predict function \n",
    "pred = model.predict(test_list)\n",
    "\n",
    "# measure time \n",
    "end_time = time.time()\n",
    "measured_time = end_time - start_time\n",
    "print(\"--- The predicting took: %s seconds ---\" % (measured_time))\n"
   ]
  },
  {
   "cell_type": "code",
   "execution_count": 14,
   "metadata": {},
   "outputs": [
    {
     "data": {
      "text/html": [
       "<div>\n",
       "<style scoped>\n",
       "    .dataframe tbody tr th:only-of-type {\n",
       "        vertical-align: middle;\n",
       "    }\n",
       "\n",
       "    .dataframe tbody tr th {\n",
       "        vertical-align: top;\n",
       "    }\n",
       "\n",
       "    .dataframe thead th {\n",
       "        text-align: right;\n",
       "    }\n",
       "</style>\n",
       "<table border=\"1\" class=\"dataframe\">\n",
       "  <thead>\n",
       "    <tr style=\"text-align: right;\">\n",
       "      <th></th>\n",
       "      <th>Label</th>\n",
       "    </tr>\n",
       "  </thead>\n",
       "  <tbody>\n",
       "    <tr>\n",
       "      <th>0</th>\n",
       "      <td>__label__0</td>\n",
       "    </tr>\n",
       "    <tr>\n",
       "      <th>1</th>\n",
       "      <td>__label__1</td>\n",
       "    </tr>\n",
       "    <tr>\n",
       "      <th>2</th>\n",
       "      <td>__label__0</td>\n",
       "    </tr>\n",
       "    <tr>\n",
       "      <th>3</th>\n",
       "      <td>__label__1</td>\n",
       "    </tr>\n",
       "    <tr>\n",
       "      <th>4</th>\n",
       "      <td>__label__0</td>\n",
       "    </tr>\n",
       "    <tr>\n",
       "      <th>...</th>\n",
       "      <td>...</td>\n",
       "    </tr>\n",
       "    <tr>\n",
       "      <th>137116</th>\n",
       "      <td>__label__1</td>\n",
       "    </tr>\n",
       "    <tr>\n",
       "      <th>137117</th>\n",
       "      <td>__label__1</td>\n",
       "    </tr>\n",
       "    <tr>\n",
       "      <th>137118</th>\n",
       "      <td>__label__1</td>\n",
       "    </tr>\n",
       "    <tr>\n",
       "      <th>137119</th>\n",
       "      <td>__label__1</td>\n",
       "    </tr>\n",
       "    <tr>\n",
       "      <th>137120</th>\n",
       "      <td>__label__1</td>\n",
       "    </tr>\n",
       "  </tbody>\n",
       "</table>\n",
       "<p>137121 rows × 1 columns</p>\n",
       "</div>"
      ],
      "text/plain": [
       "             Label\n",
       "0       __label__0\n",
       "1       __label__1\n",
       "2       __label__0\n",
       "3       __label__1\n",
       "4       __label__0\n",
       "...            ...\n",
       "137116  __label__1\n",
       "137117  __label__1\n",
       "137118  __label__1\n",
       "137119  __label__1\n",
       "137120  __label__1\n",
       "\n",
       "[137121 rows x 1 columns]"
      ]
     },
     "execution_count": 14,
     "metadata": {},
     "output_type": "execute_result"
    }
   ],
   "source": [
    "prediction = pd.DataFrame(pred[0], columns=['Label'])\n",
    "prediction"
   ]
  },
  {
   "cell_type": "code",
   "execution_count": 15,
   "metadata": {},
   "outputs": [
    {
     "data": {
      "text/html": [
       "<div>\n",
       "<style scoped>\n",
       "    .dataframe tbody tr th:only-of-type {\n",
       "        vertical-align: middle;\n",
       "    }\n",
       "\n",
       "    .dataframe tbody tr th {\n",
       "        vertical-align: top;\n",
       "    }\n",
       "\n",
       "    .dataframe thead th {\n",
       "        text-align: right;\n",
       "    }\n",
       "</style>\n",
       "<table border=\"1\" class=\"dataframe\">\n",
       "  <thead>\n",
       "    <tr style=\"text-align: right;\">\n",
       "      <th></th>\n",
       "      <th>content</th>\n",
       "      <th>Label</th>\n",
       "    </tr>\n",
       "  </thead>\n",
       "  <tbody>\n",
       "    <tr>\n",
       "      <th>0</th>\n",
       "      <td>Botany 2013 - Phylogenetic relationship in Bra...</td>\n",
       "      <td>__label__0</td>\n",
       "    </tr>\n",
       "    <tr>\n",
       "      <th>1</th>\n",
       "      <td>HOW EXACTLY TO MEET SHEMALES Meeting shemales ...</td>\n",
       "      <td>__label__1</td>\n",
       "    </tr>\n",
       "    <tr>\n",
       "      <th>2</th>\n",
       "      <td>Message ( 778 ) 294-7737Call ( 778 ) 294-7737G...</td>\n",
       "      <td>__label__0</td>\n",
       "    </tr>\n",
       "    <tr>\n",
       "      <th>3</th>\n",
       "      <td>Aarambh India FX is a premier name in the real...</td>\n",
       "      <td>__label__1</td>\n",
       "    </tr>\n",
       "    <tr>\n",
       "      <th>4</th>\n",
       "      <td>First described over 100 year ago , B. megater...</td>\n",
       "      <td>__label__0</td>\n",
       "    </tr>\n",
       "    <tr>\n",
       "      <th>...</th>\n",
       "      <td>...</td>\n",
       "      <td>...</td>\n",
       "    </tr>\n",
       "    <tr>\n",
       "      <th>137116</th>\n",
       "      <td>In order to take full advantage of the feature...</td>\n",
       "      <td>__label__1</td>\n",
       "    </tr>\n",
       "    <tr>\n",
       "      <th>137117</th>\n",
       "      <td>Cookies are used for measurement , ad and opti...</td>\n",
       "      <td>__label__1</td>\n",
       "    </tr>\n",
       "    <tr>\n",
       "      <th>137118</th>\n",
       "      <td>Pediatric dentist practice cosmetic dentistry ...</td>\n",
       "      <td>__label__1</td>\n",
       "    </tr>\n",
       "    <tr>\n",
       "      <th>137119</th>\n",
       "      <td>Local and national study demonstrate the need ...</td>\n",
       "      <td>__label__1</td>\n",
       "    </tr>\n",
       "    <tr>\n",
       "      <th>137120</th>\n",
       "      <td>Allstate reach agreement to sell Northbrook ca...</td>\n",
       "      <td>__label__1</td>\n",
       "    </tr>\n",
       "  </tbody>\n",
       "</table>\n",
       "<p>137121 rows × 2 columns</p>\n",
       "</div>"
      ],
      "text/plain": [
       "                                                  content       Label\n",
       "0       Botany 2013 - Phylogenetic relationship in Bra...  __label__0\n",
       "1       HOW EXACTLY TO MEET SHEMALES Meeting shemales ...  __label__1\n",
       "2       Message ( 778 ) 294-7737Call ( 778 ) 294-7737G...  __label__0\n",
       "3       Aarambh India FX is a premier name in the real...  __label__1\n",
       "4       First described over 100 year ago , B. megater...  __label__0\n",
       "...                                                   ...         ...\n",
       "137116  In order to take full advantage of the feature...  __label__1\n",
       "137117  Cookies are used for measurement , ad and opti...  __label__1\n",
       "137118  Pediatric dentist practice cosmetic dentistry ...  __label__1\n",
       "137119  Local and national study demonstrate the need ...  __label__1\n",
       "137120  Allstate reach agreement to sell Northbrook ca...  __label__1\n",
       "\n",
       "[137121 rows x 2 columns]"
      ]
     },
     "execution_count": 15,
     "metadata": {},
     "output_type": "execute_result"
    }
   ],
   "source": [
    "concat = pd.concat([df_en, prediction], axis=1)\n",
    "concat"
   ]
  },
  {
   "cell_type": "code",
   "execution_count": 16,
   "metadata": {},
   "outputs": [
    {
     "name": "stderr",
     "output_type": "stream",
     "text": [
      "No artists with labels found to put in legend.  Note that artists whose label start with an underscore are ignored when legend() is called with no argument.\n"
     ]
    },
    {
     "name": "stdout",
     "output_type": "stream",
     "text": [
      "__label__1    0.654014\n",
      "__label__0    0.345986\n",
      "Name: Label, dtype: float64\n"
     ]
    },
    {
     "data": {
      "image/png": "[encoded data removed]",
      "text/plain": [
       "<Figure size 432x288 with 1 Axes>"
      ]
     },
     "metadata": {
      "needs_background": "light"
     },
     "output_type": "display_data"
    }
   ],
   "source": [
    "sns.barplot( x='index',y='Label', hue='index', \n",
    "            data=pd.DataFrame(concat['Label'].value_counts()).reset_index(), \n",
    "            palette=\"PRGn\")\n",
    "print(concat.Label.value_counts()/len(concat))"
   ]
  },
  {
   "cell_type": "code",
   "execution_count": null,
   "metadata": {},
   "outputs": [],
   "source": []
  }
 ],
 "metadata": {
  "colab": {
   "name": "fast_text_hate_speech_and_cyberbullying.ipynb",
   "provenance": []
  },
  "kernelspec": {
   "display_name": "Python 3",
   "language": "python",
   "name": "python3"
  },
  "language_info": {
   "codemirror_mode": {
    "name": "ipython",
    "version": 3
   },
   "file_extension": ".py",
   "mimetype": "text/x-python",
   "name": "python",
   "nbconvert_exporter": "python",
   "pygments_lexer": "ipython3",
   "version": "3.8.8"
  }
 },
 "nbformat": 4,
 "nbformat_minor": 1
}

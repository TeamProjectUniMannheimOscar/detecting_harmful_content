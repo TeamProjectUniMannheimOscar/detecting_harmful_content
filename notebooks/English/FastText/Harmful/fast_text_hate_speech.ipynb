{
 "cells": [
  {
   "cell_type": "markdown",
   "metadata": {
    "id": "yXCk_7VHtiZA"
   },
   "source": [
    "# Set up"
   ]
  },
  {
   "cell_type": "markdown",
   "metadata": {
    "id": "OO6_d3Ultq4x"
   },
   "source": [
    "## Package Loading"
   ]
  },
  {
   "cell_type": "code",
   "execution_count": 1,
   "metadata": {
    "colab": {
     "base_uri": "https://localhost:8080/"
    },
    "id": "Yoxwdo6UtmQs",
    "outputId": "c14c170c-47a7-4754-8dc7-864d990e7ad7"
   },
   "outputs": [
    {
     "name": "stdout",
     "output_type": "stream",
     "text": [
      "Requirement already satisfied: fasttext in c:\\users\\timja\\anaconda32\\lib\\site-packages (0.9.2)\n",
      "Requirement already satisfied: pybind11>=2.2 in c:\\users\\timja\\anaconda32\\lib\\site-packages (from fasttext) (2.9.2)\n",
      "Requirement already satisfied: numpy in c:\\users\\timja\\anaconda32\\lib\\site-packages (from fasttext) (1.20.1)\n",
      "Requirement already satisfied: setuptools>=0.7.0 in c:\\users\\timja\\anaconda32\\lib\\site-packages (from fasttext) (63.1.0)\n",
      "\n",
      "[notice] A new release of pip available: 22.1.2 -> 22.2.2\n",
      "[notice] To update, run: python.exe -m pip install --upgrade pip\n"
     ]
    }
   ],
   "source": [
    "import numpy as np \n",
    "import pandas as pd \n",
    "!pip install fasttext\n",
    "import fasttext\n",
    "import bz2\n",
    "import csv\n",
    "from sklearn.metrics import roc_auc_score, f1_score\n",
    "from sklearn.model_selection import train_test_split\n",
    "import time\n",
    "import seaborn as sns"
   ]
  },
  {
   "cell_type": "markdown",
   "metadata": {
    "id": "SxAWWWFXuEvd"
   },
   "source": [
    "## Set up paths"
   ]
  },
  {
   "cell_type": "code",
   "execution_count": 2,
   "metadata": {
    "id": "PAmnBOwxuHmS"
   },
   "outputs": [],
   "source": [
    "path_data = '../../../../data/external/Harmful/train_tweet.csv'\n",
    "path_train = 'train_text.txt'\n",
    "path_test = 'test_text.txt'\n",
    "path_valid = 'valid_text.txt'"
   ]
  },
  {
   "cell_type": "markdown",
   "metadata": {
    "id": "hLuVlcpZz88y"
   },
   "source": [
    "## Set up functions"
   ]
  },
  {
   "cell_type": "code",
   "execution_count": 3,
   "metadata": {
    "id": "ks4SIl7gz_Ly"
   },
   "outputs": [],
   "source": [
    "def convert_labels(label):\n",
    "  label = int(label)\n",
    "  if label == 1:\n",
    "    return '__label__1'\n",
    "  else:\n",
    "    return '__label__0'"
   ]
  },
  {
   "cell_type": "markdown",
   "metadata": {
    "id": "lRsP-vLlxXcV"
   },
   "source": [
    "#  Train Test split and Data Preparation"
   ]
  },
  {
   "cell_type": "code",
   "execution_count": 4,
   "metadata": {
    "colab": {
     "base_uri": "https://localhost:8080/"
    },
    "id": "_GBkfqdtxbmp",
    "outputId": "0fc51c29-8b7d-40a3-a401-890f425a7f55"
   },
   "outputs": [
    {
     "name": "stdout",
     "output_type": "stream",
     "text": [
      "   id       label                                               text\n",
      "0   1  __label__0   @user when a father is dysfunctional and is s...\n",
      "1   2  __label__0  @user @user thanks for #lyft credit i can't us...\n",
      "2   3  __label__0                                bihday your majesty\n",
      "3   4  __label__0  #model   i love u take with u all the time in ...\n",
      "4   5  __label__0             factsguide: society now    #motivation\n"
     ]
    }
   ],
   "source": [
    "df = pd.read_csv(path_data)\n",
    "df['text'] = df['tweet']\n",
    "df.drop(columns=['tweet'], inplace = True)\n",
    "\n",
    "df['label'] = df['label'].apply(convert_labels)\n",
    "print(df.head())\n",
    "\n",
    "train, test = train_test_split(df, test_size=0.2, random_state = 453, stratify=df['label'])\n",
    "test, valid = train_test_split(test, test_size=0.5 , random_state = 453, stratify= test['label'])"
   ]
  },
  {
   "cell_type": "markdown",
   "metadata": {
    "id": "ilXjc79O1lD0"
   },
   "source": [
    "# Transformation to txt"
   ]
  },
  {
   "cell_type": "code",
   "execution_count": 5,
   "metadata": {
    "id": "iJoeqznI1pYp"
   },
   "outputs": [],
   "source": [
    "df.drop(columns=['id'], inplace = True)\n",
    "train.to_csv(path_train, index=False, sep=' ', header=False, quoting=csv.QUOTE_NONE, quotechar=\"\", escapechar=\" \")\n",
    "valid.to_csv(path_valid, index=False, sep=' ', header=False, quoting=csv.QUOTE_NONE, quotechar=\"\", escapechar=\" \")\n",
    "test_labels = []\n",
    "test_list = []\n",
    "for index, row in test.iterrows():\n",
    "    test_list.append(row['text'])\n",
    "    test_labels.append(row['label'])"
   ]
  },
  {
   "cell_type": "markdown",
   "metadata": {
    "id": "Plx6C6wH2Tcj"
   },
   "source": [
    "# Modeling"
   ]
  },
  {
   "cell_type": "code",
   "execution_count": 6,
   "metadata": {
    "colab": {
     "base_uri": "https://localhost:8080/"
    },
    "id": "OBSca5m02VHz",
    "outputId": "fa25fc9b-2388-46b4-e5da-8cc3ac43c169"
   },
   "outputs": [
    {
     "name": "stdout",
     "output_type": "stream",
     "text": [
      "['__label__0', '__label__1'] are the labels or targets the model is predicting\n"
     ]
    }
   ],
   "source": [
    "model = fasttext.train_supervised(path_train, label_prefix='__label__', thread=4, epoch = 10)\n",
    "#model = fasttext.train_supervised(input=path_train, autotuneValidationFile=path_valid, autotuneDuration=600)\n",
    "print(model.labels, 'are the labels or targets the model is predicting')"
   ]
  },
  {
   "cell_type": "markdown",
   "metadata": {
    "id": "yYODOnfp9ru2"
   },
   "source": [
    "# Prediction"
   ]
  },
  {
   "cell_type": "code",
   "execution_count": 7,
   "metadata": {
    "colab": {
     "base_uri": "https://localhost:8080/"
    },
    "id": "I8VMGzYo93jH",
    "outputId": "627833c6-5005-43ce-a2b6-0dcc17e540a7"
   },
   "outputs": [
    {
     "name": "stdout",
     "output_type": "stream",
     "text": [
      "['__label__0'] is the predicted label\n"
     ]
    }
   ],
   "source": [
    "test_list = [w.replace('\\n', '') for w in test_list]\n",
    "\n",
    "# Use the predict function \n",
    "pred = model.predict(test_list)\n",
    "\n",
    "# check the first record outputs\n",
    "print(pred[0][0], 'is the predicted label')"
   ]
  },
  {
   "cell_type": "code",
   "execution_count": 8,
   "metadata": {
    "colab": {
     "base_uri": "https://localhost:8080/"
    },
    "id": "muxReMDr-WuI",
    "outputId": "57c905cc-bd31-4d49-96c5-215fb7b77d09"
   },
   "outputs": [
    {
     "name": "stdout",
     "output_type": "stream",
     "text": [
      "0.7672292587963854\n",
      "0.82430389489019\n"
     ]
    }
   ],
   "source": [
    "labels = [0 if x.split(' ')[0] == '__label__0' else 1 for x in test_labels]\n",
    "pred_labels = [0 if x == ['__label__0'] else 1 for x in pred[0]]\n",
    "\n",
    "# run the accuracy measure. \n",
    "print(roc_auc_score(labels, pred_labels))\n",
    "print(f1_score(labels, pred_labels, average='macro'))"
   ]
  },
  {
   "cell_type": "code",
   "execution_count": null,
   "metadata": {},
   "outputs": [],
   "source": []
  }
 ],
 "metadata": {
  "colab": {
   "name": "fast_text_hate_speech_and_cyberbullying.ipynb",
   "provenance": []
  },
  "kernelspec": {
   "display_name": "Python 3",
   "language": "python",
   "name": "python3"
  },
  "language_info": {
   "codemirror_mode": {
    "name": "ipython",
    "version": 3
   },
   "file_extension": ".py",
   "mimetype": "text/x-python",
   "name": "python",
   "nbconvert_exporter": "python",
   "pygments_lexer": "ipython3",
   "version": "3.8.8"
  }
 },
 "nbformat": 4,
 "nbformat_minor": 1
}

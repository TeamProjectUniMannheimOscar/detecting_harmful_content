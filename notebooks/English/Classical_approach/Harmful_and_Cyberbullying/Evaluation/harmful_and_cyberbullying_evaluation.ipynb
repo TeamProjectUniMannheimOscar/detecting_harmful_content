{
 "cells": [
  {
   "cell_type": "markdown",
   "metadata": {
    "id": "pdIoGVy0dLFJ"
   },
   "source": [
    "# Set up"
   ]
  },
  {
   "cell_type": "markdown",
   "metadata": {
    "id": "dAbpqgiYZQTw"
   },
   "source": [
    "## Package Loading"
   ]
  },
  {
   "cell_type": "code",
   "execution_count": 1,
   "metadata": {
    "colab": {
     "base_uri": "https://localhost:8080/"
    },
    "id": "pkuSpTlmZZ17",
    "outputId": "0194e3ab-3b37-44b4-a324-a673b47e2255"
   },
   "outputs": [
    {
     "name": "stderr",
     "output_type": "stream",
     "text": [
      "[nltk_data] Downloading package punkt to\n",
      "[nltk_data]     C:\\Users\\13122\\AppData\\Roaming\\nltk_data...\n",
      "[nltk_data]   Package punkt is already up-to-date!\n",
      "[nltk_data] Downloading package stopwords to\n",
      "[nltk_data]     C:\\Users\\13122\\AppData\\Roaming\\nltk_data...\n",
      "[nltk_data]   Package stopwords is already up-to-date!\n"
     ]
    }
   ],
   "source": [
    "import pandas as pd\n",
    "import numpy as np\n",
    "import itertools\n",
    "#!pip install emoji\n",
    "#!pip install imblearn\n",
    "import emoji\n",
    "import re\n",
    "#!pip install nltk\n",
    "import nltk\n",
    "nltk.download('punkt')\n",
    "nltk.download('stopwords')\n",
    "from nltk.corpus import stopwords \n",
    "from nltk.tokenize import word_tokenize \n",
    "from sklearn.utils.multiclass import unique_labels\n",
    "from sklearn.feature_extraction.text import TfidfVectorizer, CountVectorizer\n",
    "from imblearn.pipeline import Pipeline \n",
    "from imblearn.over_sampling import RandomOverSampler, ADASYN, SMOTE\n",
    "from imblearn.under_sampling import RandomUnderSampler, NearMiss\n",
    "from sklearn.pipeline import make_pipeline\n",
    "from sklearn.model_selection import train_test_split, StratifiedKFold, cross_val_predict, GridSearchCV\n",
    "from sklearn.svm import LinearSVC\n",
    "from sklearn.linear_model import SGDClassifier\n",
    "from sklearn.ensemble import ExtraTreesClassifier, RandomForestClassifier\n",
    "from sklearn.tree import DecisionTreeClassifier\n",
    "from sklearn.linear_model import LogisticRegression\n",
    "from sklearn.metrics import classification_report, accuracy_score, confusion_matrix, f1_score, make_scorer\n",
    "import matplotlib.pyplot as plt\n",
    "import time\n",
    "import joblib\n",
    "\n",
    "#from google.colab import drive\n",
    "#drive.mount('/content/drive')"
   ]
  },
  {
   "cell_type": "markdown",
   "metadata": {
    "id": "bhhHbBWheQb-"
   },
   "source": [
    "## Set Up paths"
   ]
  },
  {
   "cell_type": "code",
   "execution_count": 2,
   "metadata": {
    "id": "frFeRDORe2DQ"
   },
   "outputs": [],
   "source": [
    "# Parent paths\n",
    "google_path = '/content/drive/My Drive/'\n",
    "local_path = 'D:/TP/'\n",
    "parent_path = local_path\n",
    "\n",
    "#Specific paths\n",
    "path_train = parent_path+\"data/external/Harmful_and_Cyberbullying/data.csv\" \n",
    "#path_test = parent_path+\"data/external/Harmful/test_tweet.csv\" \n",
    "path_preprocessed = parent_path+\"data/processed/Harmful_and_Cyberbullying/preprocessed_data_final.csv\" \n",
    "\n",
    "path_hyperparameters_sgd = parent_path+\"models/English/Classical_approach/Harmful_and_Cyberbullying/Hyperparameters/sgd.csv\"\n",
    "path_hyperparameters_svm = parent_path+\"models/English/Classical_approach/Harmful_and_Cyberbullying/Hyperparameters/svm.csv\"\n",
    "path_hyperparameters_et = parent_path+\"models/English/Classical_approach/Harmful_and_Cyberbullying/Hyperparameters/et.csv\"\n",
    "path_hyperparameters_rf = parent_path+\"models/English/Classical_approach/Harmful_and_Cyberbullying/Hyperparameters/rf.csv\"\n",
    "path_hyperparameters_nb = parent_path+\"models/English/Classical_approach/Harmful_and_Cyberbullying/Hyperparameters/nb.csv\"\n",
    "path_hyperparameters_knn = parent_path+\"models/English/Classical_approach/Harmful_and_Cyberbullying/Hyperparameters/knn.csv\"\n",
    "path_hyperparameters_lr = parent_path+\"models/English/Classical_approach/Harmful_and_Cyberbullying/Hyperparameters/lr.csv\"\n",
    "path_hyperparameters_dt = parent_path+\"models/English/Classical_approach/Harmful_and_Cyberbullying/Hyperparameters/dt.csv\"\n",
    "\n",
    "path_best_parameters_sgd = parent_path+\"models/English/Classical_approach/Harmful_and_Cyberbullying/Hyperparameters/best_parameters/sgd.pkl\"\n",
    "path_best_parameters_svm = parent_path+\"models/English/Classical_approach/Harmful_and_Cyberbullying/Hyperparameters/best_parameters/svm.pkl\"\n",
    "path_best_parameters_et = parent_path+\"models/English/Classical_approach/Harmful_and_Cyberbullying/Hyperparameters/best_parameters/et.pkl\"\n",
    "path_best_parameters_rf = parent_path+\"models/English/Classical_approach/Harmful_and_Cyberbullying/Hyperparameters/best_parameters/rf.pkl\"\n",
    "path_best_parameters_nb = parent_path+\"models/English/Classical_approach/Harmful_and_Cyberbullying/Hyperparameters/best_parameters/nb.pkl\"\n",
    "path_best_parameters_knn = parent_path+\"models/English/Classical_approach/Harmful_and_Cyberbullying/Hyperparameters/best_parameters/knn.pkl\"\n",
    "path_best_parameters_lr = parent_path+\"models/English/Classical_approach/Harmful_and_Cyberbullying/Hyperparameters/best_parameters/lr.pkl\"\n",
    "path_best_parameters_dt = parent_path+\"models/English/Classical_approach/Harmful_and_Cyberbullying/Hyperparameters/best_parameters/dt.pkl\""
   ]
  },
  {
   "cell_type": "markdown",
   "metadata": {},
   "source": [
    "# Set Up Functions"
   ]
  },
  {
   "cell_type": "code",
   "execution_count": 3,
   "metadata": {},
   "outputs": [],
   "source": [
    "def plot_confusion_matrix(cm, classes,\n",
    "                          normalize=False,\n",
    "                          title='Confusion matrix',\n",
    "                          cmap=plt.cm.Blues):\n",
    "    \"\"\"\n",
    "    This function prints and plots the confusion matrix.\n",
    "    Normalization can be applied by setting `normalize=True`.\n",
    "    \"\"\"\n",
    "    if normalize:\n",
    "        cm = cm.astype('float') / cm.sum(axis=1)[:, np.newaxis]\n",
    "\n",
    "    plt.imshow(cm, interpolation='nearest', cmap=cmap)\n",
    "    plt.title(title)\n",
    "    plt.colorbar()\n",
    "    tick_marks = np.arange(len(classes))\n",
    "    plt.xticks(tick_marks, classes, rotation=45)\n",
    "    plt.yticks(tick_marks, classes)\n",
    "\n",
    "    fmt = '.2f' if normalize else 'd'\n",
    "    thresh = cm.max() / 2.\n",
    "    for i, j in itertools.product(range(cm.shape[0]), range(cm.shape[1])):\n",
    "        plt.text(j, i, format(cm[i, j], fmt),\n",
    "                 horizontalalignment=\"center\",\n",
    "                 color=\"white\" if cm[i, j] > thresh else \"black\")\n",
    "\n",
    "    plt.ylabel('True label')\n",
    "    plt.xlabel('Predicted label')\n",
    "    plt.tight_layout()"
   ]
  },
  {
   "cell_type": "markdown",
   "metadata": {
    "id": "j51km29XVw17"
   },
   "source": [
    "# Balance Dataset"
   ]
  },
  {
   "cell_type": "code",
   "execution_count": 4,
   "metadata": {
    "id": "YkrT1MgvV1to"
   },
   "outputs": [],
   "source": [
    "# loading preprocessd data\n",
    "df = pd.read_csv(path_preprocessed)\n",
    "df = df[df['text'].apply(lambda x: isinstance(x, str))] # Temporal solution"
   ]
  },
  {
   "cell_type": "code",
   "execution_count": 5,
   "metadata": {
    "colab": {
     "base_uri": "https://localhost:8080/",
     "height": 279
    },
    "id": "JOvUmRnzV31z",
    "outputId": "3426761b-9adc-4bb8-a7d9-8964a1ad2610"
   },
   "outputs": [
    {
     "data": {
      "text/plain": [
       "<AxesSubplot:>"
      ]
     },
     "execution_count": 5,
     "metadata": {},
     "output_type": "execute_result"
    },
    {
     "data": {
      "image/png": "[encoded data removed]",
      "text/plain": [
       "<Figure size 432x288 with 1 Axes>"
      ]
     },
     "metadata": {
      "needs_background": "light"
     },
     "output_type": "display_data"
    }
   ],
   "source": [
    "df['label'].value_counts().plot.bar(color = 'pink', figsize = (6, 4))"
   ]
  },
  {
   "cell_type": "markdown",
   "metadata": {
    "id": "916Toca8YQtG"
   },
   "source": [
    "## Train, Validation, Test Split"
   ]
  },
  {
   "cell_type": "code",
   "execution_count": 6,
   "metadata": {
    "colab": {
     "base_uri": "https://localhost:8080/",
     "height": 278
    },
    "id": "Z39Z5-FjV8x7",
    "outputId": "3166cce9-bd6e-43a4-caa5-1d8e3ffa85e7",
    "scrolled": true
   },
   "outputs": [
    {
     "name": "stdout",
     "output_type": "stream",
     "text": [
      "(71686,)\n",
      "(7966,)\n",
      "(7965,)\n"
     ]
    },
    {
     "data": {
      "text/plain": [
       "0        Wow typical . “ Colored people ” ? ? Wow ... d...\n",
       "1                I class cause foggy outside . # dangerous\n",
       "2        # angel # archangel high help live # spiritual...\n",
       "3                      @ aayyyBAYBAY grabbed cheek . # WTF\n",
       "4        happy year ! # lovinglife # bestdecisionever #...\n",
       "                               ...                        \n",
       "71681               @ LizQuilty I heard . But I eye open .\n",
       "71682                      friend playing work ð # rhcp\n",
       "71683     # friday ! # eso later evening ! # fridayfeeling\n",
       "71684    I anti-Semitic Breaking Bad & gt ; & gt ; Bett...\n",
       "71685    father ! # smile # lifeisgood # live # life # ...\n",
       "Name: text, Length: 71686, dtype: object"
      ]
     },
     "metadata": {},
     "output_type": "display_data"
    }
   ],
   "source": [
    "# split\n",
    "x_train, x_test = train_test_split(df, test_size=0.2, random_state = 453, stratify=df['label'])\n",
    "x_test, x_valid = train_test_split(x_test, test_size=0.5 , random_state = 453, stratify= x_test['label'])\n",
    "\n",
    "y_train = x_train['label']\n",
    "x_train = x_train['text']\n",
    "#del x_train['label']\n",
    "\n",
    "y_test = x_test['label']\n",
    "x_test = x_test['text']\n",
    "#del x_test['label']\n",
    "\n",
    "y_valid = x_valid['label']\n",
    "x_valid = x_valid['text']\n",
    "#del x_valid['label']\n",
    "\n",
    "x_train= x_train.append(x_valid, ignore_index=True)\n",
    "y_train= y_train.append(y_valid, ignore_index=True)\n",
    "print(y_train.shape)\n",
    "print(y_valid.shape)\n",
    "print(y_test.shape)\n",
    "display(x_train)"
   ]
  },
  {
   "cell_type": "markdown",
   "metadata": {
    "id": "-c_g4TzPQt8_"
   },
   "source": [
    "# Evaluate models in a Pipeline"
   ]
  },
  {
   "cell_type": "markdown",
   "metadata": {
    "id": "hTCfxyjHohj8"
   },
   "source": [
    "## Evaluation function"
   ]
  },
  {
   "cell_type": "code",
   "execution_count": 108,
   "metadata": {},
   "outputs": [],
   "source": [
    "def model_evaluation (estimator, path_best_parameters):\n",
    "    best_para = joblib.load(path_best_parameters)\n",
    "    vectorizer = TfidfVectorizer()\n",
    "    pipeline = Pipeline([ ('vectorizer', vectorizer), ('estimator', estimator) ])\n",
    "    pipeline.set_params(**best_para)\n",
    "    print(pipeline)\n",
    "    pipeline.fit(x_train, y_train)\n",
    "    start_time = time.time()\n",
    "    prediction = pipeline.predict(x_test)\n",
    "    print(\"--- %s seconds ---\" % (time.time() - start_time))\n",
    "    cm = confusion_matrix(y_test, prediction)\n",
    "    plot_confusion_matrix(cm, classes = unique_labels(y_test), title = \"NB Classifier on Test Set\")\n",
    "    print(classification_report(y_test, prediction))"
   ]
  },
  {
   "cell_type": "markdown",
   "metadata": {},
   "source": [
    "## Naïve Bayes"
   ]
  },
  {
   "cell_type": "code",
   "execution_count": 109,
   "metadata": {},
   "outputs": [
    {
     "name": "stdout",
     "output_type": "stream",
     "text": [
      "Pipeline(steps=[('vectorizer', TfidfVectorizer(max_df=0.25, norm='l1')),\n",
      "                ('estimator', MultinomialNB(alpha=1))])\n",
      "--- 0.10272407531738281 seconds ---\n",
      "              precision    recall  f1-score   support\n",
      "\n",
      "           0       0.96      0.73      0.83      3766\n",
      "           1       0.80      0.97      0.88      4199\n",
      "\n",
      "    accuracy                           0.86      7965\n",
      "   macro avg       0.88      0.85      0.85      7965\n",
      "weighted avg       0.88      0.86      0.86      7965\n",
      "\n"
     ]
    },
    {
     "data": {
      "image/png": "[encoded data removed]",
      "text/plain": [
       "<Figure size 432x288 with 2 Axes>"
      ]
     },
     "metadata": {
      "needs_background": "light"
     },
     "output_type": "display_data"
    }
   ],
   "source": [
    "estimator = MultinomialNB()\n",
    "model_evaluation(estimator, path_best_parameters_nb)"
   ]
  },
  {
   "cell_type": "markdown",
   "metadata": {},
   "source": [
    "# Random Forest"
   ]
  },
  {
   "cell_type": "code",
   "execution_count": 113,
   "metadata": {},
   "outputs": [
    {
     "name": "stdout",
     "output_type": "stream",
     "text": [
      "Pipeline(steps=[('vectorizer', TfidfVectorizer(max_df=0.25)),\n",
      "                ('estimator',\n",
      "                 RandomForestClassifier(n_estimators=500, random_state=42))])\n",
      "--- 5.807015419006348 seconds ---\n",
      "              precision    recall  f1-score   support\n",
      "\n",
      "           0       0.87      0.87      0.87      3766\n",
      "           1       0.88      0.89      0.89      4199\n",
      "\n",
      "    accuracy                           0.88      7965\n",
      "   macro avg       0.88      0.88      0.88      7965\n",
      "weighted avg       0.88      0.88      0.88      7965\n",
      "\n"
     ]
    },
    {
     "data": {
      "image/png": "[encoded data removed]",
      "text/plain": [
       "<Figure size 432x288 with 2 Axes>"
      ]
     },
     "metadata": {
      "needs_background": "light"
     },
     "output_type": "display_data"
    }
   ],
   "source": [
    "# Optimize parameters for Random Forest\n",
    "estimator = RandomForestClassifier(random_state=42)\n",
    "model_evaluation(estimator, path_best_parameters_rf)"
   ]
  },
  {
   "cell_type": "markdown",
   "metadata": {},
   "source": [
    "# Logistic Regression"
   ]
  },
  {
   "cell_type": "code",
   "execution_count": 110,
   "metadata": {},
   "outputs": [
    {
     "name": "stdout",
     "output_type": "stream",
     "text": [
      "Pipeline(steps=[('vectorizer', TfidfVectorizer(max_df=0.5, norm=None)),\n",
      "                ('estimator', LogisticRegression(C=0.01, solver='saga'))])\n"
     ]
    },
    {
     "name": "stderr",
     "output_type": "stream",
     "text": [
      "D:\\software\\empty\\lib\\site-packages\\sklearn\\linear_model\\_sag.py:350: ConvergenceWarning: The max_iter was reached which means the coef_ did not converge\n",
      "  warnings.warn(\n"
     ]
    },
    {
     "name": "stdout",
     "output_type": "stream",
     "text": [
      "--- 0.09383893013000488 seconds ---\n",
      "              precision    recall  f1-score   support\n",
      "\n",
      "           0       0.89      0.87      0.88      3766\n",
      "           1       0.89      0.90      0.89      4199\n",
      "\n",
      "    accuracy                           0.89      7965\n",
      "   macro avg       0.89      0.89      0.89      7965\n",
      "weighted avg       0.89      0.89      0.89      7965\n",
      "\n"
     ]
    },
    {
     "data": {
      "image/png": "[encoded data removed]",
      "text/plain": [
       "<Figure size 432x288 with 2 Axes>"
      ]
     },
     "metadata": {
      "needs_background": "light"
     },
     "output_type": "display_data"
    }
   ],
   "source": [
    "# Evaluate the pipeline on the test set \n",
    "estimator = LogisticRegression()\n",
    "model_evaluation(estimator, path_best_parameters_lr)\n"
   ]
  },
  {
   "cell_type": "markdown",
   "metadata": {},
   "source": [
    "# SGD"
   ]
  },
  {
   "cell_type": "code",
   "execution_count": 111,
   "metadata": {},
   "outputs": [
    {
     "name": "stdout",
     "output_type": "stream",
     "text": [
      "Pipeline(steps=[('vectorizer', TfidfVectorizer(max_df=0.25, norm=None)),\n",
      "                ('estimator',\n",
      "                 SGDClassifier(alpha=0.01, max_iter=5000, random_state=42,\n",
      "                               tol=0.01))])\n",
      "--- 0.09414124488830566 seconds ---\n",
      "              precision    recall  f1-score   support\n",
      "\n",
      "           0       0.88      0.90      0.89      3766\n",
      "           1       0.91      0.89      0.90      4199\n",
      "\n",
      "    accuracy                           0.90      7965\n",
      "   macro avg       0.90      0.90      0.90      7965\n",
      "weighted avg       0.90      0.90      0.90      7965\n",
      "\n"
     ]
    },
    {
     "data": {
      "image/png": "[encoded data removed]",
      "text/plain": [
       "<Figure size 432x288 with 2 Axes>"
      ]
     },
     "metadata": {
      "needs_background": "light"
     },
     "output_type": "display_data"
    }
   ],
   "source": [
    "# Evaluate the pipeline on the test set \n",
    "estimator = SGDClassifier(max_iter=5000, random_state=42)\n",
    "model_evaluation(estimator, path_best_parameters_sgd)"
   ]
  },
  {
   "cell_type": "markdown",
   "metadata": {
    "id": "GjcsWovnRMvl"
   },
   "source": [
    "## SVM"
   ]
  },
  {
   "cell_type": "code",
   "execution_count": 112,
   "metadata": {},
   "outputs": [
    {
     "name": "stdout",
     "output_type": "stream",
     "text": [
      "Pipeline(steps=[('vectorizer', TfidfVectorizer(max_df=0.15, smooth_idf=False)),\n",
      "                ('estimator',\n",
      "                 LinearSVC(C=1, loss='hinge', max_iter=5000, random_state=42,\n",
      "                           tol=1))])\n",
      "--- 0.11137676239013672 seconds ---\n",
      "              precision    recall  f1-score   support\n",
      "\n",
      "           0       0.90      0.88      0.89      3766\n",
      "           1       0.89      0.91      0.90      4199\n",
      "\n",
      "    accuracy                           0.89      7965\n",
      "   macro avg       0.89      0.89      0.89      7965\n",
      "weighted avg       0.89      0.89      0.89      7965\n",
      "\n"
     ]
    },
    {
     "data": {
      "image/png": "[encoded data removed]",
      "text/plain": [
       "<Figure size 432x288 with 2 Axes>"
      ]
     },
     "metadata": {
      "needs_background": "light"
     },
     "output_type": "display_data"
    }
   ],
   "source": [
    "# Evaluate the pipeline on the test set \n",
    "estimator = LinearSVC(max_iter=5000, random_state=42, dual = True)\n",
    "model_evaluation(estimator, path_best_parameters_svm)\n"
   ]
  },
  {
   "cell_type": "code",
   "execution_count": null,
   "metadata": {},
   "outputs": [],
   "source": []
  }
 ],
 "metadata": {
  "colab": {
   "collapsed_sections": [
    "2psw4oRk5UQu",
    "V5PDua9Y6-KF",
    "XAvccEqX8n4R",
    "pocsiti49v2l"
   ],
   "name": "hate_speech_english.ipynb",
   "provenance": [],
   "toc_visible": true
  },
  "kernelspec": {
   "display_name": "Python 3 (ipykernel)",
   "language": "python",
   "name": "python3"
  },
  "language_info": {
   "codemirror_mode": {
    "name": "ipython",
    "version": 3
   },
   "file_extension": ".py",
   "mimetype": "text/x-python",
   "name": "python",
   "nbconvert_exporter": "python",
   "pygments_lexer": "ipython3",
   "version": "3.9.7"
  }
 },
 "nbformat": 4,
 "nbformat_minor": 1
}

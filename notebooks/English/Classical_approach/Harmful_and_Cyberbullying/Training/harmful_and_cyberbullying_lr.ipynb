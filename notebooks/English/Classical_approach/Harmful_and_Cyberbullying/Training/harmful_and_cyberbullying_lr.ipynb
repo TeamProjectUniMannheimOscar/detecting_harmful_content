{
 "cells": [
  {
   "cell_type": "markdown",
   "metadata": {
    "id": "pdIoGVy0dLFJ"
   },
   "source": [
    "# Set up"
   ]
  },
  {
   "cell_type": "markdown",
   "metadata": {
    "id": "dAbpqgiYZQTw"
   },
   "source": [
    "## Package Loading"
   ]
  },
  {
   "cell_type": "code",
   "execution_count": 1,
   "metadata": {
    "colab": {
     "base_uri": "https://localhost:8080/"
    },
    "id": "pkuSpTlmZZ17",
    "outputId": "0194e3ab-3b37-44b4-a324-a673b47e2255"
   },
   "outputs": [
    {
     "name": "stderr",
     "output_type": "stream",
     "text": [
      "[nltk_data] Downloading package punkt to\n",
      "[nltk_data]     /Users/victoriazevallos/nltk_data...\n",
      "[nltk_data]   Package punkt is already up-to-date!\n",
      "[nltk_data] Downloading package stopwords to\n",
      "[nltk_data]     /Users/victoriazevallos/nltk_data...\n",
      "[nltk_data]   Package stopwords is already up-to-date!\n"
     ]
    }
   ],
   "source": [
    "import pandas as pd\n",
    "import numpy as np\n",
    "import itertools\n",
    "#!pip install emoji\n",
    "#!pip install imblearn\n",
    "import emoji\n",
    "import re\n",
    "#!pip install nltk\n",
    "import nltk\n",
    "nltk.download('punkt')\n",
    "nltk.download('stopwords')\n",
    "from nltk.corpus import stopwords \n",
    "from nltk.tokenize import word_tokenize \n",
    "from sklearn.utils.multiclass import unique_labels\n",
    "from sklearn.feature_extraction.text import TfidfVectorizer, CountVectorizer\n",
    "from imblearn.pipeline import Pipeline \n",
    "from imblearn.over_sampling import RandomOverSampler, ADASYN, SMOTE\n",
    "from imblearn.under_sampling import RandomUnderSampler, NearMiss\n",
    "from sklearn.pipeline import make_pipeline\n",
    "from sklearn.model_selection import train_test_split, StratifiedKFold, cross_val_predict, GridSearchCV\n",
    "from sklearn.svm import LinearSVC\n",
    "from sklearn.linear_model import SGDClassifier\n",
    "from sklearn.ensemble import ExtraTreesClassifier, RandomForestClassifier\n",
    "from sklearn.tree import DecisionTreeClassifier\n",
    "from sklearn.linear_model import LogisticRegression\n",
    "from sklearn.metrics import classification_report, accuracy_score, confusion_matrix, f1_score, make_scorer\n",
    "import matplotlib.pyplot as plt\n",
    "import time\n",
    "import joblib\n",
    "\n",
    "#from google.colab import drive\n",
    "#drive.mount('/content/drive')"
   ]
  },
  {
   "cell_type": "markdown",
   "metadata": {
    "id": "bhhHbBWheQb-"
   },
   "source": [
    "## Set Up paths"
   ]
  },
  {
   "cell_type": "code",
   "execution_count": 2,
   "metadata": {
    "id": "frFeRDORe2DQ"
   },
   "outputs": [],
   "source": [
    "# Parent paths\n",
    "google_path = '/content/drive/My Drive/'\n",
    "local_path = '/Users/victoriazevallos/Desktop/Exercises & Records MSDS/FSS 2022/Projects/Group Project/Oscar_Project/detecting_harmful_content/'\n",
    "parent_path = local_path\n",
    "\n",
    "#Specific paths\n",
    "path_train = parent_path+\"data/external/Harmful_and_Cyberbullying/data.csv\" \n",
    "#path_test = parent_path+\"data/external/Harmful/test_tweet.csv\" \n",
    "path_preprocessed = parent_path+\"data/processed/Harmful_and_Cyberbullying/preprocessed_data_final.csv\" \n",
    "\n",
    "path_hyperparameters_sgd = parent_path+\"models/English/Classical_approach/Harmful_and_Cyberbullying/Hyperparameters/sgd.csv\"\n",
    "path_hyperparameters_svm = parent_path+\"models/English/Classical_approach/Harmful_and_Cyberbullying/Hyperparameters/svm.csv\"\n",
    "path_hyperparameters_et = parent_path+\"models/English/Classical_approach/Harmful_and_Cyberbullying/Hyperparameters/et.csv\"\n",
    "path_hyperparameters_rf = parent_path+\"models/English/Classical_approach/Harmful_and_Cyberbullying/Hyperparameters/rf.csv\"\n",
    "path_hyperparameters_nb = parent_path+\"models/English/Classical_approach/Harmful_and_Cyberbullying/Hyperparameters/nb.csv\"\n",
    "path_hyperparameters_knn = parent_path+\"models/English/Classical_approach/Harmful_and_Cyberbullying/Hyperparameters/knn.csv\"\n",
    "path_hyperparameters_lr = parent_path+\"models/English/Classical_approach/Harmful_and_Cyberbullying/Hyperparameters/lr.csv\"\n",
    "path_hyperparameters_dt = parent_path+\"models/English/Classical_approach/Harmful_and_Cyberbullying/Hyperparameters/dt.csv\"\n",
    "\n",
    "path_best_parameters_sgd = parent_path+\"models/English/Classical_approach/Harmful_and_Cyberbullying/Hyperparameters/best_parameters/sgd.pkl\"\n",
    "path_best_parameters_svm = parent_path+\"models/English/Classical_approach/Harmful_and_Cyberbullying/Hyperparameters/best_parameters/svm.pkl\"\n",
    "path_best_parameters_et = parent_path+\"models/English/Classical_approach/Harmful_and_Cyberbullying/Hyperparameters/best_parameters/et.pkl\"\n",
    "path_best_parameters_rf = parent_path+\"models/English/Classical_approach/Harmful_and_Cyberbullying/Hyperparameters/best_parameters/rf.pkl\"\n",
    "path_best_parameters_nb = parent_path+\"models/English/Classical_approach/Harmful_and_Cyberbullying/Hyperparameters/best_parameters/nb.pkl\"\n",
    "path_best_parameters_knn = parent_path+\"models/English/Classical_approach/Harmful_and_Cyberbullying/Hyperparameters/best_parameters/knn.pkl\"\n",
    "path_best_parameters_lr = parent_path+\"models/English/Classical_approach/Harmful_and_Cyberbullying/Hyperparameters/best_parameters/lr.pkl\"\n",
    "path_best_parameters_dt = parent_path+\"models/English/Classical_approach/Harmful_and_Cyberbullying/Hyperparameters/best_parameters/dt.pkl\""
   ]
  },
  {
   "cell_type": "markdown",
   "metadata": {
    "id": "j51km29XVw17"
   },
   "source": [
    "# Balance Dataset"
   ]
  },
  {
   "cell_type": "code",
   "execution_count": 3,
   "metadata": {
    "id": "YkrT1MgvV1to"
   },
   "outputs": [],
   "source": [
    "# loading preprocessd data\n",
    "df = pd.read_csv(path_preprocessed)\n",
    "df = df[df['text'].apply(lambda x: isinstance(x, str))] # Temporal solution"
   ]
  },
  {
   "cell_type": "code",
   "execution_count": 4,
   "metadata": {
    "colab": {
     "base_uri": "https://localhost:8080/",
     "height": 279
    },
    "id": "JOvUmRnzV31z",
    "outputId": "3426761b-9adc-4bb8-a7d9-8964a1ad2610"
   },
   "outputs": [
    {
     "data": {
      "text/plain": [
       "<AxesSubplot:>"
      ]
     },
     "execution_count": 4,
     "metadata": {},
     "output_type": "execute_result"
    },
    {
     "data": {
      "image/png": "[encoded data removed]",
      "text/plain": [
       "<Figure size 432x288 with 1 Axes>"
      ]
     },
     "metadata": {
      "needs_background": "light"
     },
     "output_type": "display_data"
    }
   ],
   "source": [
    "df['label'].value_counts().plot.bar(color = 'pink', figsize = (6, 4))"
   ]
  },
  {
   "cell_type": "markdown",
   "metadata": {
    "id": "916Toca8YQtG"
   },
   "source": [
    "## Train, Validation, Test Split"
   ]
  },
  {
   "cell_type": "code",
   "execution_count": 5,
   "metadata": {
    "colab": {
     "base_uri": "https://localhost:8080/",
     "height": 278
    },
    "id": "Z39Z5-FjV8x7",
    "outputId": "3166cce9-bd6e-43a4-caa5-1d8e3ffa85e7",
    "scrolled": true
   },
   "outputs": [
    {
     "name": "stdout",
     "output_type": "stream",
     "text": [
      "(71686,)\n",
      "(7966,)\n",
      "(7965,)\n"
     ]
    },
    {
     "data": {
      "text/plain": [
       "0        Wow typical . “ Colored people ” ? ? Wow ... d...\n",
       "1                I class cause foggy outside . # dangerous\n",
       "2        # angel # archangel high help live # spiritual...\n",
       "3                      @ aayyyBAYBAY grabbed cheek . # WTF\n",
       "4        happy year ! # lovinglife # bestdecisionever #...\n",
       "                               ...                        \n",
       "71681               @ LizQuilty I heard . But I eye open .\n",
       "71682                      friend playing work ð # rhcp\n",
       "71683     # friday ! # eso later evening ! # fridayfeeling\n",
       "71684    I anti-Semitic Breaking Bad & gt ; & gt ; Bett...\n",
       "71685    father ! # smile # lifeisgood # live # life # ...\n",
       "Name: text, Length: 71686, dtype: object"
      ]
     },
     "metadata": {},
     "output_type": "display_data"
    }
   ],
   "source": [
    "# split\n",
    "x_train, x_test = train_test_split(df, test_size=0.2, random_state = 453, stratify=df['label'])\n",
    "x_test, x_valid = train_test_split(x_test, test_size=0.5 , random_state = 453, stratify= x_test['label'])\n",
    "\n",
    "y_train = x_train['label']\n",
    "x_train = x_train['text']\n",
    "#del x_train['label']\n",
    "\n",
    "y_test = x_test['label']\n",
    "x_test = x_test['text']\n",
    "#del x_test['label']\n",
    "\n",
    "y_valid = x_valid['label']\n",
    "x_valid = x_valid['text']\n",
    "#del x_valid['label']\n",
    "\n",
    "x_train= x_train.append(x_valid, ignore_index=True)\n",
    "y_train= y_train.append(y_valid, ignore_index=True)\n",
    "print(y_train.shape)\n",
    "print(y_valid.shape)\n",
    "print(y_test.shape)\n",
    "display(x_train)"
   ]
  },
  {
   "cell_type": "markdown",
   "metadata": {
    "id": "-c_g4TzPQt8_"
   },
   "source": [
    "# Training Models in a Pipeline"
   ]
  },
  {
   "cell_type": "markdown",
   "metadata": {
    "id": "hTCfxyjHohj8"
   },
   "source": [
    "## Pipeline Set Up"
   ]
  },
  {
   "cell_type": "code",
   "execution_count": 6,
   "metadata": {
    "id": "da4hsNzPog0r"
   },
   "outputs": [],
   "source": [
    "# define transforms\n",
    "vectorizer = TfidfVectorizer()\n",
    "sampling = RandomUnderSampler(random_state=453)\n",
    "\n",
    "# define the scoring function\n",
    "f1 = make_scorer(f1_score)\n",
    "\n",
    "# set up cross validation configuration\n",
    "cv = StratifiedKFold(n_splits=8, shuffle=True, random_state=42)\n"
   ]
  },
  {
   "cell_type": "markdown",
   "metadata": {
    "id": "GjcsWovnRMvl"
   },
   "source": [
    "## Logistic Regression"
   ]
  },
  {
   "cell_type": "code",
   "execution_count": 7,
   "metadata": {},
   "outputs": [
    {
     "name": "stdout",
     "output_type": "stream",
     "text": [
      "Pipeline(steps=[('vectorizer', TfidfVectorizer()),\n",
      "                ('balancing', RandomUnderSampler(random_state=453)),\n",
      "                ('estimator', LogisticRegression())])\n",
      "Fitting 8 folds for each of 1680 candidates, totalling 13440 fits\n"
     ]
    },
    {
     "name": "stderr",
     "output_type": "stream",
     "text": [
      "/Users/victoriazevallos/anaconda3/envs/snake8/lib/python3.8/site-packages/sklearn/model_selection/_validation.py:372: FitFailedWarning: \n",
      "1344 fits failed out of a total of 13440.\n",
      "The score on these train-test partitions for these parameters will be set to nan.\n",
      "If these failures are not expected, you can try to debug them by setting error_score='raise'.\n",
      "\n",
      "Below are more details about the failures:\n",
      "--------------------------------------------------------------------------------\n",
      "1344 fits failed with the following error:\n",
      "Traceback (most recent call last):\n",
      "  File \"/Users/victoriazevallos/anaconda3/envs/snake8/lib/python3.8/site-packages/sklearn/model_selection/_validation.py\", line 680, in _fit_and_score\n",
      "    estimator.fit(X_train, y_train, **fit_params)\n",
      "  File \"/Users/victoriazevallos/anaconda3/envs/snake8/lib/python3.8/site-packages/imblearn/pipeline.py\", line 266, in fit\n",
      "    self._final_estimator.fit(Xt, yt, **fit_params_last_step)\n",
      "  File \"/Users/victoriazevallos/anaconda3/envs/snake8/lib/python3.8/site-packages/sklearn/linear_model/_logistic.py\", line 1461, in fit\n",
      "    solver = _check_solver(self.solver, self.penalty, self.dual)\n",
      "  File \"/Users/victoriazevallos/anaconda3/envs/snake8/lib/python3.8/site-packages/sklearn/linear_model/_logistic.py\", line 464, in _check_solver\n",
      "    raise ValueError(\"penalty='none' is not supported for the liblinear solver\")\n",
      "ValueError: penalty='none' is not supported for the liblinear solver\n",
      "\n",
      "  warnings.warn(some_fits_failed_message, FitFailedWarning)\n",
      "/Users/victoriazevallos/anaconda3/envs/snake8/lib/python3.8/site-packages/sklearn/model_selection/_search.py:969: UserWarning: One or more of the test scores are non-finite: [0.88577811 0.88593605 0.8808214  ... 0.87692582 0.89159732 0.89141969]\n",
      "  warnings.warn(\n"
     ]
    },
    {
     "name": "stdout",
     "output_type": "stream",
     "text": [
      "--- 46264.99457001686 seconds ---\n",
      "Logistic Regression Classifier: 89.20811146725228% F1-score for class 'hate-speech' with parameters {'estimator__C': 0.01, 'estimator__penalty': 'l2', 'estimator__solver': 'saga', 'vectorizer__max_df': 0.5, 'vectorizer__norm': None, 'vectorizer__smooth_idf': True}\n"
     ]
    },
    {
     "name": "stderr",
     "output_type": "stream",
     "text": [
      "/Users/victoriazevallos/anaconda3/envs/snake8/lib/python3.8/site-packages/sklearn/linear_model/_sag.py:352: ConvergenceWarning: The max_iter was reached which means the coef_ did not converge\n",
      "  warnings.warn(\n"
     ]
    },
    {
     "data": {
      "text/plain": [
       "['/Users/victoriazevallos/Desktop/Exercises & Records MSDS/FSS 2022/Projects/Group Project/Oscar_Project/detecting_harmful_content/models/English/Classical_approach/Harmful_and_Cyberbullying/Hyperparameters/best_parameters/lr.pkl']"
      ]
     },
     "execution_count": 7,
     "metadata": {},
     "output_type": "execute_result"
    }
   ],
   "source": [
    "# Optimize parameters for Logistic Regression\n",
    "estimator = LogisticRegression()\n",
    "\n",
    "# Define grid of posible hyperparamters values \n",
    "parameters = {\n",
    "    'vectorizer__max_df': [0.25, 0.5, 0.75, 1.0],\n",
    "    'vectorizer__smooth_idf': (True, False),\n",
    "    'vectorizer__norm': ('l1', 'l2', None),\n",
    "    'estimator__penalty': [ 'l2', 'none'],\n",
    "    'estimator__solver': ['newton-cg', 'lbfgs', 'liblinear', 'sag', 'saga'],\n",
    "    'estimator__C': [100, 10, 1.0, 0.1, 0.01, 0.001, 0.0001]\n",
    "}\n",
    "\n",
    "# Create a pipeline\n",
    "pipeline = Pipeline([ ('vectorizer', vectorizer), ('balancing', sampling), ('estimator', estimator) ])\n",
    "print(pipeline)\n",
    "\n",
    "# Hyperparameter optimization with Grid Search\n",
    "start_time = time.time()\n",
    "grid_search_estimator = GridSearchCV(pipeline, parameters, scoring=f1, cv=cv, return_train_score=False, n_jobs=-1, verbose=2)\n",
    "grid_search_estimator.fit(x_train, y_train)\n",
    "\n",
    "print(\"--- %s seconds ---\" % (time.time() - start_time))\n",
    "print(\"Logistic Regression Classifier: {}% F1-score for class 'hate-speech' with parameters {}\".format(grid_search_estimator.best_score_ * 100, grid_search_estimator.best_params_))\n",
    "\n",
    "# Save hyperparameter optmization results\n",
    "df_hyper = pd.DataFrame(grid_search_estimator.cv_results_)\n",
    "df_hyper.to_csv(path_hyperparameters_lr, index=False)\n",
    "\n",
    "# Save best hyperparameters values\n",
    "joblib.dump(grid_search_estimator.best_params_, path_best_parameters_lr, compress = 1) # Only best parameters\n"
   ]
  },
  {
   "cell_type": "code",
   "execution_count": null,
   "metadata": {},
   "outputs": [],
   "source": []
  }
 ],
 "metadata": {
  "colab": {
   "collapsed_sections": [
    "2psw4oRk5UQu",
    "V5PDua9Y6-KF",
    "XAvccEqX8n4R",
    "pocsiti49v2l"
   ],
   "name": "hate_speech_english.ipynb",
   "provenance": [],
   "toc_visible": true
  },
  "kernelspec": {
   "display_name": "Python 3",
   "language": "python",
   "name": "python3"
  },
  "language_info": {
   "codemirror_mode": {
    "name": "ipython",
    "version": 3
   },
   "file_extension": ".py",
   "mimetype": "text/x-python",
   "name": "python",
   "nbconvert_exporter": "python",
   "pygments_lexer": "ipython3",
   "version": "3.8.5"
  }
 },
 "nbformat": 4,
 "nbformat_minor": 1
}

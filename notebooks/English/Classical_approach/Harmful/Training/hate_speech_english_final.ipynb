{
 "cells": [
  {
   "cell_type": "markdown",
   "metadata": {
    "id": "pdIoGVy0dLFJ"
   },
   "source": [
    "# Set up"
   ]
  },
  {
   "cell_type": "markdown",
   "metadata": {
    "id": "dAbpqgiYZQTw"
   },
   "source": [
    "## Package Loading"
   ]
  },
  {
   "cell_type": "code",
   "execution_count": 1,
   "metadata": {
    "colab": {
     "base_uri": "https://localhost:8080/"
    },
    "id": "pkuSpTlmZZ17",
    "outputId": "0194e3ab-3b37-44b4-a324-a673b47e2255"
   },
   "outputs": [
    {
     "name": "stdout",
     "output_type": "stream",
     "text": [
      "[nltk_data] Downloading package punkt to\n",
      "[nltk_data]     /home/v.zevallosm/nltk_data...\n",
      "[nltk_data]   Package punkt is already up-to-date!\n",
      "[nltk_data] Downloading package stopwords to\n",
      "[nltk_data]     /home/v.zevallosm/nltk_data...\n",
      "[nltk_data]   Package stopwords is already up-to-date!\n"
     ]
    }
   ],
   "source": [
    "import pandas as pd\n",
    "import numpy as np\n",
    "import itertools\n",
    "#!pip install emoji\n",
    "#!pip install imblearn\n",
    "import emoji\n",
    "import re\n",
    "#!pip install nltk\n",
    "import nltk\n",
    "nltk.download('punkt')\n",
    "nltk.download('stopwords')\n",
    "\n",
    "from nltk.corpus import stopwords \n",
    "from nltk.tokenize import word_tokenize \n",
    "from sklearn.utils.multiclass import unique_labels\n",
    "from sklearn.feature_extraction.text import TfidfVectorizer, CountVectorizer\n",
    "from imblearn.pipeline import Pipeline \n",
    "from imblearn.over_sampling import RandomOverSampler, ADASYN, SMOTE\n",
    "from imblearn.under_sampling import RandomUnderSampler, NearMiss\n",
    "from sklearn.pipeline import make_pipeline\n",
    "from sklearn.model_selection import train_test_split, StratifiedKFold, cross_val_predict, GridSearchCV\n",
    "from sklearn.svm import LinearSVC\n",
    "from sklearn.linear_model import SGDClassifier\n",
    "from sklearn.ensemble import ExtraTreesClassifier, RandomForestClassifier\n",
    "from sklearn.tree import DecisionTreeClassifier\n",
    "from sklearn.linear_model import LogisticRegression\n",
    "from sklearn.naive_bayes import MultinomialNB\n",
    "from sklearn.metrics import classification_report, accuracy_score, confusion_matrix, f1_score, make_scorer\n",
    "import matplotlib.pyplot as plt\n",
    "import time\n",
    "import joblib\n",
    "\n",
    "#from google.colab import drive\n",
    "#drive.mount('/content/drive')"
   ]
  },
  {
   "cell_type": "markdown",
   "metadata": {
    "id": "bhhHbBWheQb-"
   },
   "source": [
    "## Set Up paths"
   ]
  },
  {
   "cell_type": "code",
   "execution_count": 2,
   "metadata": {
    "id": "frFeRDORe2DQ"
   },
   "outputs": [],
   "source": [
    "# Parent paths\n",
    "google_path = '/content/drive/My Drive/'\n",
    "local_path = '/home/v.zevallosm/detecting_harmful_content/'\n",
    "parent_path = local_path\n",
    "\n",
    "#Specific paths\n",
    "path_train = parent_path+\"data/external/Harmful/train_tweet.csv\" \n",
    "path_test = parent_path+\"data/external/Harmful/test_tweet.csv\" \n",
    "path_preprocessed = parent_path+\"data/processed/Harmful/train_tweet_preprocessed_final.csv\" \n",
    "\n",
    "path_hyperparameters_sgd = parent_path+\"models/English/Classical_approach/Harmful/Hyperparameters_Final/sgd.csv\"\n",
    "path_hyperparameters_svm = parent_path+\"models/English/Classical_approach/Harmful/Hyperparameters_Final/svm.csv\"\n",
    "path_hyperparameters_et = parent_path+\"models/English/Classical_approach/Harmful/Hyperparameters_Final/et.csv\"\n",
    "path_hyperparameters_rf = parent_path+\"models/English/Classical_approach/Harmful/Hyperparameters_Final/rf.csv\"\n",
    "path_hyperparameters_nb = parent_path+\"models/English/Classical_approach/Harmful/Hyperparameters_Final/nb.csv\"\n",
    "path_hyperparameters_knn = parent_path+\"models/English/Classical_approach/Harmful/Hyperparameters_Final/knn.csv\"\n",
    "path_hyperparameters_lr = parent_path+\"models/English/Classical_approach/Harmful/Hyperparameters_Final/lr.csv\"\n",
    "path_hyperparameters_dt = parent_path+\"models/English/Classical_approach/Harmful/Hyperparameters_Final/dt.csv\"\n",
    "\n",
    "path_best_parameters_sgd = parent_path+\"models/English/Classical_approach/Harmful/Hyperparameters_Final/best_parameters/sgd.pkl\"\n",
    "path_best_parameters_svm = parent_path+\"models/English/Classical_approach/Harmful/Hyperparameters_Final/best_parameters/svm.pkl\"\n",
    "path_best_parameters_et = parent_path+\"models/English/Classical_approach/Harmful/Hyperparameters_Final/best_parameters/et.pkl\"\n",
    "path_best_parameters_rf = parent_path+\"models/English/Classical_approach/Harmful/Hyperparameters_Final/best_parameters/rf.pkl\"\n",
    "path_best_parameters_nb = parent_path+\"models/English/Classical_approach/Harmful/Hyperparameters_Final/best_parameters/nb.pkl\"\n",
    "path_best_parameters_knn = parent_path+\"models/English/Classical_approach/Harmful/Hyperparameters_Final/best_parameters/knn.pkl\"\n",
    "path_best_parameters_lr = parent_path+\"models/English/Classical_approach/Harmful/Hyperparameters_Final/best_parameters/lr.pkl\"\n",
    "path_best_parameters_dt = parent_path+\"models/English/Classical_approach/Harmful/Hyperparameters_Final/best_parameters/dt.pkl\"\n"
   ]
  },
  {
   "cell_type": "markdown",
   "metadata": {},
   "source": [
    "## Set Up Functions"
   ]
  },
  {
   "cell_type": "code",
   "execution_count": 3,
   "metadata": {},
   "outputs": [],
   "source": [
    "def plot_confusion_matrix(cm, classes,\n",
    "                          normalize=False,\n",
    "                          title='Confusion matrix',\n",
    "                          cmap=plt.cm.Blues):\n",
    "    \"\"\"\n",
    "    This function prints and plots the confusion matrix.\n",
    "    Normalization can be applied by setting `normalize=True`.\n",
    "    \"\"\"\n",
    "    if normalize:\n",
    "        cm = cm.astype('float') / cm.sum(axis=1)[:, np.newaxis]\n",
    "\n",
    "    plt.imshow(cm, interpolation='nearest', cmap=cmap)\n",
    "    plt.title(title)\n",
    "    plt.colorbar()\n",
    "    tick_marks = np.arange(len(classes))\n",
    "    plt.xticks(tick_marks, classes, rotation=45)\n",
    "    plt.yticks(tick_marks, classes)\n",
    "\n",
    "    fmt = '.2f' if normalize else 'd'\n",
    "    thresh = cm.max() / 2.\n",
    "    for i, j in itertools.product(range(cm.shape[0]), range(cm.shape[1])):\n",
    "        plt.text(j, i, format(cm[i, j], fmt),\n",
    "                 horizontalalignment=\"center\",\n",
    "                 color=\"white\" if cm[i, j] > thresh else \"black\")\n",
    "\n",
    "    plt.ylabel('True label')\n",
    "    plt.xlabel('Predicted label')\n",
    "    plt.tight_layout()"
   ]
  },
  {
   "cell_type": "markdown",
   "metadata": {
    "id": "j51km29XVw17"
   },
   "source": [
    "# Balance Dataset"
   ]
  },
  {
   "cell_type": "code",
   "execution_count": 4,
   "metadata": {
    "id": "YkrT1MgvV1to"
   },
   "outputs": [],
   "source": [
    "# loading preprocessd data\n",
    "df = pd.read_csv(path_preprocessed)\n",
    "df = df[df['text'].apply(lambda x: isinstance(x, str))] # Temporal solution"
   ]
  },
  {
   "cell_type": "code",
   "execution_count": 5,
   "metadata": {
    "colab": {
     "base_uri": "https://localhost:8080/",
     "height": 279
    },
    "id": "JOvUmRnzV31z",
    "outputId": "3426761b-9adc-4bb8-a7d9-8964a1ad2610"
   },
   "outputs": [
    {
     "data": {
      "text/plain": [
       "<AxesSubplot:>"
      ]
     },
     "execution_count": 5,
     "metadata": {},
     "output_type": "execute_result"
    },
    {
     "data": {
      "image/png": "[encoded data removed]",
      "text/plain": [
       "<Figure size 432x288 with 1 Axes>"
      ]
     },
     "metadata": {
      "needs_background": "light"
     },
     "output_type": "display_data"
    }
   ],
   "source": [
    "df['label'].value_counts().plot.bar(color = 'pink', figsize = (6, 4))"
   ]
  },
  {
   "cell_type": "markdown",
   "metadata": {
    "id": "916Toca8YQtG"
   },
   "source": [
    "## Train, Validation, Test Split"
   ]
  },
  {
   "cell_type": "code",
   "execution_count": 6,
   "metadata": {
    "colab": {
     "base_uri": "https://localhost:8080/",
     "height": 278
    },
    "id": "Z39Z5-FjV8x7",
    "outputId": "3166cce9-bd6e-43a4-caa5-1d8e3ffa85e7",
    "scrolled": true
   },
   "outputs": [
    {
     "name": "stdout",
     "output_type": "stream",
     "text": [
      "(28763,)\n",
      "(3196,)\n",
      "(3196,)\n"
     ]
    },
    {
     "data": {
      "text/plain": [
       "0        @ user idea like ? muslim ban ? wall ? harassi...\n",
       "1        pickin crow playing tn fitness spa , june 15th...\n",
       "2        # eid sm poetry sm # masla_e_bewafa # jaun eli...\n",
       "3               having nice time ðâï¸ð # lovelife\n",
       "4              thankful creativity . # thankful # positive\n",
       "5        amazing # tunnelview # yosemite # np # fall # ...\n",
       "6        love watching cristiano ronaldo fan blame perf...\n",
       "7        box , know excited # whatsinthebox # waitingfo...\n",
       "8        holiday 2 day âï¸ð¹ð¨âð:copyright:â...\n",
       "9        stop unfiltered feeling ! ! ! # puase-puaseð...\n",
       "10       magical sugary spiderwebiness snapped elena â...\n",
       "11                                       omg ð¨ sad ð\n",
       "12       nice photo rebecca , capture mood , nature fai...\n",
       "13       summer best worst month life . okay guess . # ...\n",
       "14                      @ user bit heabreak ! # reflective\n",
       "15         @ user father day legend enjoy ur special day .\n",
       "16                  chick get fucked c thomas howell naked\n",
       "17       big bro town # wannsee # funtime # sister # br...\n",
       "18       airfare deal : southwest airline $ 49 & amp ; ...\n",
       "19       ( bankai fam ) skank - huntsman ft. raf almigh...\n",
       "20       oh yeah ! summer book finally arrived ! : d # ...\n",
       "21       happy - texas & amp ; m university library # m...\n",
       "22       â # pougal global trade balance climbed prev...\n",
       "23       # fabulousthursday # theshard today - # superd...\n",
       "24           @ user literally social life working man ....\n",
       "25           @ user @ user happen soon ! # fangirlproblems\n",
       "26       @ user u charge 35 % yur product outside usa ?...\n",
       "27       @ user looking forward seeing @ user @ user to...\n",
       "28                             idk woman think man hea hea\n",
       "29       @ user @ user jel ! ! night town long . like y...\n",
       "                               ...                        \n",
       "28733       happy working want . # quote # streetsmawealth\n",
       "28734                                              world ?\n",
       "28735    # radionomy # tunein # nowplaying # neil young...\n",
       "28736    think , # indian required recognition immigrat...\n",
       "28737    # bbqðâ # 20160611 # ktyd # bbq # inciden...\n",
       "28738           stunning . # i_am # positive # affirmation\n",
       "28739    sh * tty day , make ð # soccerfan copaameri...\n",
       "28740           @ user @ user eligible uk ð¢ # wanttowin\n",
       "28741    ð # love # instagood # photooftheday top.ta...\n",
       "28742    @ user # fail - literally make fool million am...\n",
       "28743    poo , vintage thing peep . # family # pougal #...\n",
       "28744    celebratory afternoon hour # marriott hq . # g...\n",
       "28745                     @ user camel toe moose knuckle .\n",
       "28746    @ user nearly time . sleep # aims2016 best luc...\n",
       "28747           day black want black anymore @ user @ user\n",
       "28748    giving away preorder bean # nerdcampmi present...\n",
       "28749    friend bachata dancing realize pro . # lol # w...\n",
       "28750            happy father day dad ! # fathersday # dad\n",
       "28751       sand amazing way child happy . # kid # southpo\n",
       "28752    whats happening ... pls tag people .. ó¾´ó¾´...\n",
       "28753    bihday goody ! ! # guccibamboo # maccosmetics ...\n",
       "28754    woke terrorist attack orlando bombing airpo .....\n",
       "28755    @ user cant wait studio ! day away getting sta...\n",
       "28756    noooo want know episode ððð # htgawm ...\n",
       "28757    nicesunnyblondy - na : # slut # xxx # young # ...\n",
       "28758    @ user @ user @ user nice 2c susanna smiling 2...\n",
       "28759    # sikh # temple vandalised # calgary , # wso c...\n",
       "28760    @ user md @ user speaking year driverless tech...\n",
       "28761             @ user smiling # dog make ! # dogfriends\n",
       "28762    bc sounding like sure thing : ) 2 1/2 month le...\n",
       "Name: text, Length: 28763, dtype: object"
      ]
     },
     "metadata": {},
     "output_type": "display_data"
    }
   ],
   "source": [
    "# split\n",
    "x_train, x_test = train_test_split(df, test_size=0.2, random_state = 453, stratify=df['label'])\n",
    "x_test, x_valid = train_test_split(x_test, test_size=0.5 , random_state = 453, stratify= x_test['label'])\n",
    "\n",
    "y_train = x_train['label']\n",
    "x_train = x_train['text']\n",
    "#del x_train['label']\n",
    "\n",
    "y_test = x_test['label']\n",
    "x_test = x_test['text']\n",
    "#del x_test['label']\n",
    "\n",
    "y_valid = x_valid['label']\n",
    "x_valid = x_valid['text']\n",
    "#del x_valid['label']\n",
    "\n",
    "x_train= x_train.append(x_valid, ignore_index=True)\n",
    "y_train= y_train.append(y_valid, ignore_index=True)\n",
    "\n",
    "print(y_train.shape)\n",
    "print(y_valid.shape)\n",
    "print(y_test.shape)\n",
    "display(x_train)"
   ]
  },
  {
   "cell_type": "markdown",
   "metadata": {
    "id": "-c_g4TzPQt8_"
   },
   "source": [
    "# Training Models in a Pipeline"
   ]
  },
  {
   "cell_type": "markdown",
   "metadata": {
    "id": "hTCfxyjHohj8"
   },
   "source": [
    "## Pipeline Set Up"
   ]
  },
  {
   "cell_type": "code",
   "execution_count": 7,
   "metadata": {
    "id": "da4hsNzPog0r"
   },
   "outputs": [],
   "source": [
    "# define transforms\n",
    "vectorizer = TfidfVectorizer()\n",
    "sampling = RandomUnderSampler(random_state=453)\n",
    "\n",
    "# define the scoring function\n",
    "f1 = make_scorer(f1_score)\n",
    "\n",
    "# set up cross validation configuration\n",
    "cv = StratifiedKFold(n_splits=8, shuffle=True, random_state=42)\n"
   ]
  },
  {
   "cell_type": "markdown",
   "metadata": {
    "id": "GjcsWovnRMvl"
   },
   "source": [
    "## Naïve Bayes"
   ]
  },
  {
   "cell_type": "code",
   "execution_count": 8,
   "metadata": {
    "colab": {
     "base_uri": "https://localhost:8080/"
    },
    "id": "kJvXgDr9qutk",
    "outputId": "716ab364-9797-4bc8-ce37-dcc70168b6c1"
   },
   "outputs": [
    {
     "name": "stdout",
     "output_type": "stream",
     "text": [
      "Pipeline(steps=[('vectorizer', TfidfVectorizer()),\n",
      "                ('balancing', RandomUnderSampler(random_state=453)),\n",
      "                ('estimator', MultinomialNB())])\n",
      "Fitting 8 folds for each of 144 candidates, totalling 1152 fits\n",
      "--- 32.21951508522034 seconds ---\n",
      "Multinomial NBClassifier: 46.62464138159774% F1-score for class 'hate-speech' with parameters {'estimator__alpha': 0.1, 'vectorizer__max_df': 0.25, 'vectorizer__norm': 'l1', 'vectorizer__smooth_idf': True}\n"
     ]
    },
    {
     "data": {
      "text/plain": [
       "['/home/v.zevallosm/detecting_harmful_content/models/English/Classical_approach/Harmful/Hyperparameters/best_parameters/nb.pkl']"
      ]
     },
     "execution_count": 8,
     "metadata": {},
     "output_type": "execute_result"
    }
   ],
   "source": [
    "# Optimize parameters for NB Classifier\n",
    "estimator = MultinomialNB()\n",
    "\n",
    "# Define grid of posible hyperparamters values \n",
    "parameters = {\n",
    "    'vectorizer__max_df': [0.25, 0.5, 0.75, 1.0],\n",
    "    'vectorizer__smooth_idf': (True, False),\n",
    "    'vectorizer__norm': ('l1', 'l2', None),\n",
    "    'estimator__alpha': [ 0.0001, 0.001, 0.01, 0.1, 1, 10],\n",
    "}\n",
    "\n",
    "# Create a pipeline\n",
    "pipeline = Pipeline([ ('vectorizer', vectorizer), ('balancing', sampling), ('estimator', estimator) ])\n",
    "print(pipeline)\n",
    "\n",
    "# Hyperparameter optimization with Grid Search\n",
    "start_time = time.time()\n",
    "grid_search_estimator = GridSearchCV(pipeline, parameters, scoring=f1, cv=cv, return_train_score=False, n_jobs=-1, verbose=2)\n",
    "grid_search_estimator.fit(x_train, y_train)\n",
    "\n",
    "print(\"--- %s seconds ---\" % (time.time() - start_time))\n",
    "print(\"Multinomial NBClassifier: {}% F1-score for class 'hate-speech' with parameters {}\".format(grid_search_estimator.best_score_ * 100, grid_search_estimator.best_params_))\n",
    "\n",
    "# Save hyperparameter optmization results\n",
    "df_hyper = pd.DataFrame(grid_search_estimator.cv_results_)\n",
    "df_hyper.to_csv(path_hyperparameters_nb, index=False)\n",
    "\n",
    "# Save best hyperparameters values\n",
    "joblib.dump(grid_search_estimator.best_params_, path_best_parameters_nb, compress = 1) # Only best parameters\n"
   ]
  },
  {
   "cell_type": "code",
   "execution_count": 9,
   "metadata": {
    "colab": {
     "base_uri": "https://localhost:8080/",
     "height": 462
    },
    "id": "GZuCTfkb-TFF",
    "outputId": "89df3f4d-f87a-43ad-a691-6e2838216d80"
   },
   "outputs": [
    {
     "name": "stdout",
     "output_type": "stream",
     "text": [
      "              precision    recall  f1-score   support\n",
      "\n",
      "           0       0.99      0.84      0.91      2972\n",
      "           1       0.30      0.89      0.45       224\n",
      "\n",
      "    accuracy                           0.85      3196\n",
      "   macro avg       0.65      0.87      0.68      3196\n",
      "weighted avg       0.94      0.85      0.88      3196\n",
      "\n"
     ]
    },
    {
     "data": {
      "image/png": "[encoded data removed]",
      "text/plain": [
       "<Figure size 432x288 with 2 Axes>"
      ]
     },
     "metadata": {
      "needs_background": "light"
     },
     "output_type": "display_data"
    }
   ],
   "source": [
    "prediction = grid_search_estimator.predict(x_test)\n",
    "cm = confusion_matrix(y_test, prediction)\n",
    "plot_confusion_matrix(cm, classes = unique_labels(y_test), title = \"NB Classifier on Test Set\")\n",
    "print(classification_report(y_test, prediction))"
   ]
  },
  {
   "cell_type": "markdown",
   "metadata": {
    "id": "t6jXSQ7hRF8Z"
   },
   "source": [
    "## KNN"
   ]
  },
  {
   "cell_type": "code",
   "execution_count": 10,
   "metadata": {
    "colab": {
     "base_uri": "https://localhost:8080/"
    },
    "id": "na2m4xIGw5Hn",
    "outputId": "1538256e-7ac3-4d0c-fd8c-3c7017fc5752"
   },
   "outputs": [
    {
     "name": "stdout",
     "output_type": "stream",
     "text": [
      "Pipeline(steps=[('vectorizer', TfidfVectorizer()),\n",
      "                ('balancing', RandomUnderSampler(random_state=453)),\n",
      "                ('estimator', KNeighborsClassifier())])\n",
      "Fitting 8 folds for each of 960 candidates, totalling 7680 fits\n",
      "--- 647.5202481746674 seconds ---\n",
      "KNN : 47.48648056049859% F1-score for class 'hate-speech' with parameters {'estimator__algorithm': 'auto', 'estimator__n_neighbors': 15, 'estimator__weights': 'distance', 'vectorizer__max_df': 0.25, 'vectorizer__norm': 'l2', 'vectorizer__smooth_idf': True}\n"
     ]
    },
    {
     "data": {
      "text/plain": [
       "['/home/v.zevallosm/detecting_harmful_content/models/English/Classical_approach/Harmful/Hyperparameters/best_parameters/knn.pkl']"
      ]
     },
     "execution_count": 10,
     "metadata": {},
     "output_type": "execute_result"
    }
   ],
   "source": [
    "# Optimize parameters for KNN Classifier\n",
    "from sklearn.neighbors import KNeighborsClassifier\n",
    "estimator = KNeighborsClassifier()\n",
    "\n",
    "# Define grid of posible hyperparamters values \n",
    "parameters = {\n",
    "    'vectorizer__max_df': [0.25, 0.5, 0.75, 1.0],\n",
    "    'vectorizer__smooth_idf': (True, False),\n",
    "    'vectorizer__norm': ('l1', 'l2', None),\n",
    "    'estimator__n_neighbors': [5, 10, 15, 20, 25],\n",
    "    'estimator__weights': ['uniform','distance'],\n",
    "    'estimator__algorithm':['auto', 'ball_tree', 'kd_tree', 'brute'],\n",
    "       }\n",
    "\n",
    "# Create a pipeline\n",
    "pipeline = Pipeline([ ('vectorizer', vectorizer), ('balancing', sampling), ('estimator', estimator) ])\n",
    "print(pipeline)\n",
    "\n",
    "# Hyperparameter optimization with Grid Search\n",
    "start_time = time.time()\n",
    "grid_search_estimator = GridSearchCV(pipeline, parameters, scoring=f1, cv=cv, return_train_score=False, n_jobs=-1, verbose=2)\n",
    "grid_search_estimator.fit(x_train, y_train)\n",
    "\n",
    "print(\"--- %s seconds ---\" % (time.time() - start_time))\n",
    "print(\"KNN : {}% F1-score for class 'hate-speech' with parameters {}\".format(grid_search_estimator.best_score_ * 100, grid_search_estimator.best_params_))\n",
    "\n",
    "# Save hyperparameter optmization results\n",
    "df_hyper = pd.DataFrame(grid_search_estimator.cv_results_)\n",
    "df_hyper.to_csv(path_hyperparameters_knn, index=False)\n",
    "\n",
    "# Save best hyperparameters values\n",
    "joblib.dump(grid_search_estimator.best_params_, path_best_parameters_knn, compress = 1) # Only best parameters\n"
   ]
  },
  {
   "cell_type": "code",
   "execution_count": 11,
   "metadata": {
    "colab": {
     "base_uri": "https://localhost:8080/",
     "height": 462
    },
    "id": "A1od31yPtNaJ",
    "outputId": "a5b78c60-a0ef-48b0-d3ea-ae9986d8bb18"
   },
   "outputs": [
    {
     "name": "stdout",
     "output_type": "stream",
     "text": [
      "              precision    recall  f1-score   support\n",
      "\n",
      "           0       0.99      0.80      0.89      2972\n",
      "           1       0.25      0.88      0.39       224\n",
      "\n",
      "    accuracy                           0.81      3196\n",
      "   macro avg       0.62      0.84      0.64      3196\n",
      "weighted avg       0.94      0.81      0.85      3196\n",
      "\n"
     ]
    },
    {
     "data": {
      "image/png": "[encoded data removed]",
      "text/plain": [
       "<Figure size 432x288 with 2 Axes>"
      ]
     },
     "metadata": {
      "needs_background": "light"
     },
     "output_type": "display_data"
    }
   ],
   "source": [
    "prediction = grid_search_estimator.predict(x_test)\n",
    "cm = confusion_matrix(y_test, prediction)\n",
    "plot_confusion_matrix(cm, classes = unique_labels(y_test), title = \"KNN Classifier on Test Set\")\n",
    "print(classification_report(y_test, prediction))"
   ]
  },
  {
   "cell_type": "markdown",
   "metadata": {
    "id": "HcLlUbW0Rec0"
   },
   "source": [
    "## Random Forest"
   ]
  },
  {
   "cell_type": "code",
   "execution_count": 12,
   "metadata": {
    "colab": {
     "base_uri": "https://localhost:8080/"
    },
    "id": "HBEr2mgPEzg1",
    "outputId": "0787f8a9-6931-4955-cacc-a65d221a27cb"
   },
   "outputs": [
    {
     "name": "stdout",
     "output_type": "stream",
     "text": [
      "Pipeline(steps=[('vectorizer', TfidfVectorizer()),\n",
      "                ('balancing', RandomUnderSampler(random_state=453)),\n",
      "                ('estimator', RandomForestClassifier(random_state=42))])\n",
      "Fitting 8 folds for each of 5184 candidates, totalling 41472 fits\n"
     ]
    },
    {
     "name": "stderr",
     "output_type": "stream",
     "text": [
      "/home/v.zevallosm/.local/lib/python3.6/site-packages/sklearn/model_selection/_search.py:925: UserWarning: One or more of the test scores are non-finite: [0.48044031 0.48209038 0.48231386 ...        nan        nan        nan]\n",
      "  category=UserWarning\n"
     ]
    },
    {
     "name": "stdout",
     "output_type": "stream",
     "text": [
      "--- 2610.2621965408325 seconds ---\n",
      "Random Forest Classifier: 53.664510776382876% F1-score for class 'hate-speech' with parameters {'estimator__criterion': 'gini', 'estimator__max_depth': 25, 'estimator__min_samples_leaf': 2, 'estimator__min_samples_split': 25, 'estimator__n_estimators': 500, 'vectorizer__max_df': 0.25, 'vectorizer__norm': None, 'vectorizer__smooth_idf': True}\n"
     ]
    },
    {
     "data": {
      "text/plain": [
       "['/home/v.zevallosm/detecting_harmful_content/models/English/Classical_approach/Harmful/Hyperparameters/best_parameters/rf.pkl']"
      ]
     },
     "execution_count": 12,
     "metadata": {},
     "output_type": "execute_result"
    }
   ],
   "source": [
    "# Optimize parameters for Random Forest\n",
    "estimator = RandomForestClassifier( random_state=42)\n",
    "\n",
    "# Define grid of posible hyperparamters values \n",
    "parameters = {\n",
    "    'vectorizer__max_df': [0.25, 0.5, 0.75, 1.0],\n",
    "    'vectorizer__smooth_idf': (True, False),\n",
    "    'vectorizer__norm': ('l1', 'l2', None),\n",
    "    'estimator__criterion': ['gini', ' entropy'],\n",
    "    'estimator__n_estimators': [100, 300, 500, 800],\n",
    "    'estimator__max_depth': [5, 15, 25],\n",
    "    'estimator__min_samples_split': [5, 25, 100],\n",
    "    'estimator__min_samples_leaf': [ 2, 5, 10]\n",
    "}\n",
    "\n",
    "# Create a pipeline\n",
    "pipeline = Pipeline([ ('vectorizer', vectorizer), ('balancing', sampling), ('estimator', estimator) ])\n",
    "print(pipeline)\n",
    "\n",
    "# Hyperparameter optimization with Grid Search\n",
    "start_time = time.time()\n",
    "grid_search_estimator = GridSearchCV(pipeline, parameters, scoring=f1, cv=cv, return_train_score=False, n_jobs=-1, verbose=2)\n",
    "grid_search_estimator.fit(x_train, y_train)\n",
    "\n",
    "print(\"--- %s seconds ---\" % (time.time() - start_time))\n",
    "print(\"Random Forest Classifier: {}% F1-score for class 'hate-speech' with parameters {}\".format(grid_search_estimator.best_score_ * 100, grid_search_estimator.best_params_))\n",
    "\n",
    "# Save hyperparameter optmization results\n",
    "df_hyper = pd.DataFrame(grid_search_estimator.cv_results_)\n",
    "df_hyper.to_csv(path_hyperparameters_rf, index=False)\n",
    "\n",
    "# Save best hyperparameters values\n",
    "joblib.dump(grid_search_estimator.best_params_, path_best_parameters_rf, compress = 1) # Only best parameters\n"
   ]
  },
  {
   "cell_type": "code",
   "execution_count": 13,
   "metadata": {
    "id": "Sw2WzIPO5XsR",
    "outputId": "7e61ed60-ad9b-4650-c834-19da017e6cfb"
   },
   "outputs": [
    {
     "name": "stdout",
     "output_type": "stream",
     "text": [
      "              precision    recall  f1-score   support\n",
      "\n",
      "           0       0.97      0.93      0.95      2972\n",
      "           1       0.41      0.68      0.52       224\n",
      "\n",
      "    accuracy                           0.91      3196\n",
      "   macro avg       0.69      0.81      0.73      3196\n",
      "weighted avg       0.94      0.91      0.92      3196\n",
      "\n"
     ]
    },
    {
     "data": {
      "image/png": "[encoded data removed]",
      "text/plain": [
       "<Figure size 432x288 with 2 Axes>"
      ]
     },
     "metadata": {
      "needs_background": "light"
     },
     "output_type": "display_data"
    }
   ],
   "source": [
    "# Evaluate the pipeline on the test set \n",
    "prediction = grid_search_estimator.predict(x_test)\n",
    "cm = confusion_matrix(y_test, prediction)\n",
    "plot_confusion_matrix(cm, classes = unique_labels(y_test), title = \"Random Forest Classifier on Test Set\")\n",
    "print(classification_report(y_test, prediction))\n"
   ]
  },
  {
   "cell_type": "markdown",
   "metadata": {
    "id": "dSnxBCyT6CuD"
   },
   "source": [
    "## Extra Trees"
   ]
  },
  {
   "cell_type": "code",
   "execution_count": 14,
   "metadata": {
    "id": "sKy77dNK6GbU",
    "outputId": "ef7500b1-f108-40fc-a445-ff8d834930c9"
   },
   "outputs": [
    {
     "name": "stdout",
     "output_type": "stream",
     "text": [
      "Pipeline(steps=[('vectorizer', TfidfVectorizer()),\n",
      "                ('balancing', RandomUnderSampler(random_state=453)),\n",
      "                ('estimator', ExtraTreesClassifier(random_state=42))])\n",
      "Fitting 8 folds for each of 5184 candidates, totalling 41472 fits\n"
     ]
    },
    {
     "name": "stderr",
     "output_type": "stream",
     "text": [
      "/home/v.zevallosm/.local/lib/python3.6/site-packages/sklearn/model_selection/_search.py:925: UserWarning: One or more of the test scores are non-finite: [0.48724662 0.48687269 0.49575218 ...        nan        nan        nan]\n",
      "  category=UserWarning\n"
     ]
    },
    {
     "name": "stdout",
     "output_type": "stream",
     "text": [
      "--- 3077.390643596649 seconds ---\n",
      "Extra Trees Classifier: 58.04373393709614% F1-score for class 'hate-speech' with parameters {'estimator__criterion': 'gini', 'estimator__max_depth': 25, 'estimator__min_samples_leaf': 2, 'estimator__min_samples_split': 25, 'estimator__n_estimators': 300, 'vectorizer__max_df': 0.5, 'vectorizer__norm': None, 'vectorizer__smooth_idf': True}\n"
     ]
    },
    {
     "data": {
      "text/plain": [
       "['/home/v.zevallosm/detecting_harmful_content/models/English/Classical_approach/Harmful/Hyperparameters/best_parameters/et.pkl']"
      ]
     },
     "execution_count": 14,
     "metadata": {},
     "output_type": "execute_result"
    }
   ],
   "source": [
    "# Optimize parameters for Extra Trees\n",
    "estimator = ExtraTreesClassifier( random_state=42)\n",
    "\n",
    "# Define grid of posible hyperparamters values \n",
    "parameters = {\n",
    "    'vectorizer__max_df': [0.25, 0.5, 0.75, 1.0],\n",
    "    'vectorizer__smooth_idf': (True, False),\n",
    "    'vectorizer__norm': ('l1', 'l2', None),\n",
    "    'estimator__criterion': ['gini', ' entropy'],\n",
    "    'estimator__n_estimators': [100, 300, 500, 800],\n",
    "    'estimator__max_depth': [5, 15, 25],\n",
    "    'estimator__min_samples_split': [5, 25, 100],\n",
    "    'estimator__min_samples_leaf': [ 2, 5, 10]\n",
    "}\n",
    "\n",
    "# Create a pipeline\n",
    "pipeline = Pipeline([ ('vectorizer', vectorizer), ('balancing', sampling), ('estimator', estimator) ])\n",
    "print(pipeline)\n",
    "\n",
    "# Hyperparameter optimization with Grid Search\n",
    "start_time = time.time()\n",
    "grid_search_estimator = GridSearchCV(pipeline, parameters, scoring=f1, cv=cv, return_train_score=False, n_jobs=-1, verbose=2)\n",
    "grid_search_estimator.fit(x_train, y_train)\n",
    "\n",
    "print(\"--- %s seconds ---\" % (time.time() - start_time))\n",
    "print(\"Extra Trees Classifier: {}% F1-score for class 'hate-speech' with parameters {}\".format(grid_search_estimator.best_score_ * 100, grid_search_estimator.best_params_))\n",
    "\n",
    "# Save hyperparameter optmization results\n",
    "df_hyper = pd.DataFrame(grid_search_estimator.cv_results_)\n",
    "df_hyper.to_csv(path_hyperparameters_et, index=False)\n",
    "\n",
    "# Save best hyperparameters values\n",
    "joblib.dump(grid_search_estimator.best_params_, path_best_parameters_et, compress = 1) # Only best parameters\n"
   ]
  },
  {
   "cell_type": "code",
   "execution_count": 15,
   "metadata": {
    "id": "QtD3HBb_8GzP",
    "outputId": "cc440e03-66a7-4276-add5-e2ccfc30b09f"
   },
   "outputs": [
    {
     "name": "stdout",
     "output_type": "stream",
     "text": [
      "              precision    recall  f1-score   support\n",
      "\n",
      "           0       0.97      0.95      0.96      2972\n",
      "           1       0.47      0.64      0.54       224\n",
      "\n",
      "    accuracy                           0.92      3196\n",
      "   macro avg       0.72      0.79      0.75      3196\n",
      "weighted avg       0.94      0.92      0.93      3196\n",
      "\n"
     ]
    },
    {
     "data": {
      "image/png": "[encoded data removed]",
      "text/plain": [
       "<Figure size 432x288 with 2 Axes>"
      ]
     },
     "metadata": {
      "needs_background": "light"
     },
     "output_type": "display_data"
    }
   ],
   "source": [
    "# Evaluate the pipeline on the test set \n",
    "prediction = grid_search_estimator.predict(x_test)\n",
    "cm = confusion_matrix(y_test, prediction)\n",
    "plot_confusion_matrix(cm, classes = unique_labels(y_test), title = \"Extra Trees Classifier on Test Set\")\n",
    "print(classification_report(y_test, prediction))\n"
   ]
  },
  {
   "cell_type": "markdown",
   "metadata": {
    "id": "9mWJZfk9RIIn"
   },
   "source": [
    "## SGD"
   ]
  },
  {
   "cell_type": "code",
   "execution_count": 16,
   "metadata": {
    "colab": {
     "base_uri": "https://localhost:8080/"
    },
    "id": "xi3H7KfLw4UT",
    "outputId": "45b695b5-c898-4d9e-8b0b-3b649741c4a2"
   },
   "outputs": [
    {
     "name": "stdout",
     "output_type": "stream",
     "text": [
      "Pipeline(steps=[('vectorizer', TfidfVectorizer()),\n",
      "                ('balancing', RandomUnderSampler(random_state=453)),\n",
      "                ('estimator', SGDClassifier(max_iter=5000, random_state=42))])\n",
      "Fitting 8 folds for each of 4608 candidates, totalling 36864 fits\n",
      "--- 960.9412705898285 seconds ---\n",
      "SGDClassifier: 57.91925381671397% F1-score for class 'hate-speech' with parameters {'estimator__alpha': 0.001, 'estimator__loss': 'hinge', 'estimator__tol': 0.01, 'vectorizer__max_df': 0.25, 'vectorizer__norm': 'l2', 'vectorizer__smooth_idf': False}\n"
     ]
    },
    {
     "data": {
      "text/plain": [
       "['/home/v.zevallosm/detecting_harmful_content/models/English/Classical_approach/Harmful/Hyperparameters/best_parameters/sgd.pkl']"
      ]
     },
     "execution_count": 16,
     "metadata": {},
     "output_type": "execute_result"
    }
   ],
   "source": [
    "# Optimize parameters for SGDClassifier\n",
    "estimator = SGDClassifier(max_iter=5000, random_state=42)\n",
    "\n",
    "# Define grid of posible hyperparamters values \n",
    "parameters = {\n",
    "    'vectorizer__max_df': [0.25, 0.5, 0.75, 1.0],\n",
    "    'vectorizer__smooth_idf': (True, False),\n",
    "    'vectorizer__norm': ('l1', 'l2', None),\n",
    "    'estimator__loss': ['hinge','modified_huber','perceptron','squared_hinge'],\n",
    "    'estimator__alpha': [0.000001, 0.00001, 0.0001, 0.001, 0.01, 0.1, 1, 10],\n",
    "    'estimator__tol': [1e-1, 1e-2, 1e-3, 1e-4, 1e-5, 1e-6]\n",
    "}\n",
    "\n",
    "# Create a pipeline\n",
    "pipeline = Pipeline([ ('vectorizer', vectorizer), ('balancing', sampling), ('estimator', estimator) ])\n",
    "print(pipeline)\n",
    "\n",
    "# Hyperparameter optimization with Grid Search\n",
    "start_time = time.time()\n",
    "grid_search_estimator = GridSearchCV(pipeline, parameters, scoring=f1, cv=cv, return_train_score=False, n_jobs=-1, verbose=2)\n",
    "grid_search_estimator.fit(x_train, y_train)\n",
    "\n",
    "print(\"--- %s seconds ---\" % (time.time() - start_time))\n",
    "print(\"SGDClassifier: {}% F1-score for class 'hate-speech' with parameters {}\".format(grid_search_estimator.best_score_ * 100, grid_search_estimator.best_params_))\n",
    "\n",
    "# Save hyperparameter optmization results\n",
    "df_hyper = pd.DataFrame(grid_search_estimator.cv_results_)\n",
    "df_hyper.to_csv(path_hyperparameters_sgd, index=False)\n",
    "\n",
    "# Save best hyperparameters values\n",
    "joblib.dump(grid_search_estimator.best_params_, path_best_parameters_sgd, compress = 1) # Only best parameters\n"
   ]
  },
  {
   "cell_type": "code",
   "execution_count": 17,
   "metadata": {
    "colab": {
     "base_uri": "https://localhost:8080/",
     "height": 450
    },
    "id": "It2CtGS-q_AH",
    "outputId": "f094ea65-6f6d-4786-d6b4-db057196a246"
   },
   "outputs": [
    {
     "name": "stdout",
     "output_type": "stream",
     "text": [
      "              precision    recall  f1-score   support\n",
      "\n",
      "           0       0.98      0.93      0.96      2972\n",
      "           1       0.45      0.72      0.56       224\n",
      "\n",
      "    accuracy                           0.92      3196\n",
      "   macro avg       0.72      0.83      0.76      3196\n",
      "weighted avg       0.94      0.92      0.93      3196\n",
      "\n"
     ]
    },
    {
     "data": {
      "image/png": "[encoded data removed]",
      "text/plain": [
       "<Figure size 432x288 with 2 Axes>"
      ]
     },
     "metadata": {
      "needs_background": "light"
     },
     "output_type": "display_data"
    }
   ],
   "source": [
    "# Evaluate the pipeline on the test set \n",
    "prediction = grid_search_estimator.predict(x_test)\n",
    "cm = confusion_matrix(y_test, prediction)\n",
    "plot_confusion_matrix(cm, classes = unique_labels(y_test), title = \"SGD Classifier on Test Set\")\n",
    "print(classification_report(y_test, prediction))\n"
   ]
  },
  {
   "cell_type": "markdown",
   "metadata": {
    "id": "4nBhqcRZRT4N"
   },
   "source": [
    "## SVM"
   ]
  },
  {
   "cell_type": "code",
   "execution_count": 18,
   "metadata": {
    "colab": {
     "base_uri": "https://localhost:8080/"
    },
    "id": "M43mxmXMQ58M",
    "outputId": "aa628522-2b0e-4046-df3b-bf0d13ce26dd"
   },
   "outputs": [
    {
     "name": "stdout",
     "output_type": "stream",
     "text": [
      "Pipeline(steps=[('vectorizer', TfidfVectorizer()),\n",
      "                ('balancing', RandomUnderSampler(random_state=453)),\n",
      "                ('estimator', LinearSVC(max_iter=5000, random_state=42))])\n",
      "Fitting 8 folds for each of 1680 candidates, totalling 13440 fits\n",
      "--- 489.33466124534607 seconds ---\n",
      "LSVM Classifier: 57.957238124286384% F1-score for class 'hate-speech' with parameters {'estimator__C': 0.1, 'estimator__loss': 'hinge', 'estimator__tol': 0.001, 'vectorizer__max_df': 0.25, 'vectorizer__norm': 'l2', 'vectorizer__smooth_idf': False}\n"
     ]
    },
    {
     "data": {
      "text/plain": [
       "['/home/v.zevallosm/detecting_harmful_content/models/English/Classical_approach/Harmful/Hyperparameters/best_parameters/svm.pkl']"
      ]
     },
     "execution_count": 18,
     "metadata": {},
     "output_type": "execute_result"
    }
   ],
   "source": [
    "# Optimize parameters for LSVM Classifier\n",
    "estimator = LinearSVC(max_iter=5000, random_state=42, dual = True)\n",
    "\n",
    "# Define grid of posible hyperparamters values \n",
    "parameters = {\n",
    "    'vectorizer__max_df': [0.25, 0.5, 0.75, 1.0],\n",
    "    'vectorizer__smooth_idf': (True, False),\n",
    "    'vectorizer__norm': ('l1', 'l2', None),\n",
    "    'estimator__loss': ['hinge', 'squared_hinge'],\n",
    "    'estimator__tol': [1e-2, 1e-3, 1e-4, 1e-5, 1e-6],\n",
    "    'estimator__C': [0.01, 0.1, 1, 10, 100, 1000, 10000],\n",
    "}\n",
    "\n",
    "# Create a pipeline\n",
    "pipeline = Pipeline([ ('vectorizer', vectorizer), ('balancing', sampling), ('estimator', estimator) ])\n",
    "print(pipeline)\n",
    "\n",
    "# Hyperparameter optimization with Grid Search\n",
    "start_time = time.time()\n",
    "grid_search_estimator = GridSearchCV(pipeline, parameters, scoring=f1, cv=cv, return_train_score=False, n_jobs=-1, verbose=2)\n",
    "grid_search_estimator.fit(x_train, y_train)\n",
    "\n",
    "print(\"--- %s seconds ---\" % (time.time() - start_time))\n",
    "print(\"LSVM Classifier: {}% F1-score for class 'hate-speech' with parameters {}\".format(grid_search_estimator.best_score_ * 100, grid_search_estimator.best_params_))\n",
    "\n",
    "# Save hyperparameter optmization results\n",
    "df_hyper = pd.DataFrame(grid_search_estimator.cv_results_)\n",
    "df_hyper.to_csv(path_hyperparameters_svm, index=False)\n",
    "\n",
    "# Save best hyperparameters values\n",
    "joblib.dump(grid_search_estimator.best_params_, path_best_parameters_svm, compress = 1) # Only best parameters\n"
   ]
  },
  {
   "cell_type": "code",
   "execution_count": 19,
   "metadata": {
    "colab": {
     "base_uri": "https://localhost:8080/",
     "height": 450
    },
    "id": "BG02vOFYyNcS",
    "outputId": "0c45c0fe-7510-4871-eddc-d70c81476df2"
   },
   "outputs": [
    {
     "name": "stdout",
     "output_type": "stream",
     "text": [
      "              precision    recall  f1-score   support\n",
      "\n",
      "           0       0.97      0.95      0.96      2972\n",
      "           1       0.51      0.62      0.56       224\n",
      "\n",
      "    accuracy                           0.93      3196\n",
      "   macro avg       0.74      0.79      0.76      3196\n",
      "weighted avg       0.94      0.93      0.93      3196\n",
      "\n"
     ]
    },
    {
     "data": {
      "image/png": "[encoded data removed]",
      "text/plain": [
       "<Figure size 432x288 with 2 Axes>"
      ]
     },
     "metadata": {
      "needs_background": "light"
     },
     "output_type": "display_data"
    }
   ],
   "source": [
    "# Evaluate the pipeline on the test set \n",
    "prediction = grid_search_estimator.predict(x_test)\n",
    "cm = confusion_matrix(y_test, prediction)\n",
    "plot_confusion_matrix(cm, classes = unique_labels(y_test), title = \"Linear SVM Classifier on Test Set\")\n",
    "print(classification_report(y_test, prediction))\n"
   ]
  },
  {
   "cell_type": "markdown",
   "metadata": {
    "id": "wVQbv5Y7R8x5"
   },
   "source": [
    "## Logistic Regression"
   ]
  },
  {
   "cell_type": "code",
   "execution_count": 20,
   "metadata": {
    "colab": {
     "base_uri": "https://localhost:8080/"
    },
    "id": "eftaZJYDR2ON",
    "outputId": "fa5307de-41c4-4f6a-da37-f2c1d938e2e3"
   },
   "outputs": [
    {
     "name": "stdout",
     "output_type": "stream",
     "text": [
      "Pipeline(steps=[('vectorizer', TfidfVectorizer()),\n",
      "                ('balancing', RandomUnderSampler(random_state=453)),\n",
      "                ('estimator', LogisticRegression())])\n",
      "Fitting 8 folds for each of 1200 candidates, totalling 9600 fits\n"
     ]
    },
    {
     "name": "stderr",
     "output_type": "stream",
     "text": [
      "/home/v.zevallosm/.local/lib/python3.6/site-packages/sklearn/model_selection/_search.py:925: UserWarning: One or more of the test scores are non-finite: [0.49425141 0.49602674 0.49540148 ... 0.49242296 0.47095475 0.47240521]\n",
      "  category=UserWarning\n"
     ]
    },
    {
     "name": "stdout",
     "output_type": "stream",
     "text": [
      "--- 360.91219186782837 seconds ---\n",
      "Logistic Regression Classifier: 56.539375764462484% F1-score for class 'hate-speech' with parameters {'estimator__C': 0.01, 'estimator__penalty': 'l2', 'estimator__solver': 'newton-cg', 'vectorizer__max_df': 0.25, 'vectorizer__norm': None, 'vectorizer__smooth_idf': False}\n"
     ]
    },
    {
     "data": {
      "text/plain": [
       "['/home/v.zevallosm/detecting_harmful_content/models/English/Classical_approach/Harmful/Hyperparameters/best_parameters/lr.pkl']"
      ]
     },
     "execution_count": 20,
     "metadata": {},
     "output_type": "execute_result"
    }
   ],
   "source": [
    "# Optimize parameters for Logistic Regression\n",
    "estimator = LogisticRegression()\n",
    "\n",
    "# Define grid of posible hyperparamters values \n",
    "parameters = {\n",
    "    'vectorizer__max_df': [0.25, 0.5, 0.75, 1.0],\n",
    "    'vectorizer__smooth_idf': (True, False),\n",
    "    'vectorizer__norm': ('l1', 'l2', None),\n",
    "    'estimator__penalty': [ 'l2', 'none'],\n",
    "    'estimator__solver': ['newton-cg', 'lbfgs', 'liblinear', 'sag', 'saga'],\n",
    "    'estimator__C': [100, 10, 1.0, 0.1, 0.01]\n",
    "}\n",
    "\n",
    "# Create a pipeline\n",
    "pipeline = Pipeline([ ('vectorizer', vectorizer), ('balancing', sampling), ('estimator', estimator) ])\n",
    "print(pipeline)\n",
    "\n",
    "# Hyperparameter optimization with Grid Search\n",
    "start_time = time.time()\n",
    "grid_search_estimator = GridSearchCV(pipeline, parameters, scoring=f1, cv=cv, return_train_score=False, n_jobs=-1, verbose=2)\n",
    "grid_search_estimator.fit(x_train, y_train)\n",
    "\n",
    "print(\"--- %s seconds ---\" % (time.time() - start_time))\n",
    "print(\"Logistic Regression Classifier: {}% F1-score for class 'hate-speech' with parameters {}\".format(grid_search_estimator.best_score_ * 100, grid_search_estimator.best_params_))\n",
    "\n",
    "# Save hyperparameter optmization results\n",
    "df_hyper = pd.DataFrame(grid_search_estimator.cv_results_)\n",
    "df_hyper.to_csv(path_hyperparameters_lr, index=False)\n",
    "\n",
    "# Save best hyperparameters values\n",
    "joblib.dump(grid_search_estimator.best_params_, path_best_parameters_lr, compress = 1) # Only best parameters"
   ]
  },
  {
   "cell_type": "code",
   "execution_count": 21,
   "metadata": {
    "colab": {
     "base_uri": "https://localhost:8080/",
     "height": 453
    },
    "id": "7f91S78qSVP1",
    "outputId": "654994d2-e542-401e-ce77-e73b42f0d16e"
   },
   "outputs": [
    {
     "name": "stdout",
     "output_type": "stream",
     "text": [
      "              precision    recall  f1-score   support\n",
      "\n",
      "           0       0.98      0.91      0.95      2972\n",
      "           1       0.41      0.80      0.54       224\n",
      "\n",
      "    accuracy                           0.91      3196\n",
      "   macro avg       0.70      0.86      0.75      3196\n",
      "weighted avg       0.94      0.91      0.92      3196\n",
      "\n"
     ]
    },
    {
     "data": {
      "image/png": "[encoded data removed]",
      "text/plain": [
       "<Figure size 432x288 with 2 Axes>"
      ]
     },
     "metadata": {
      "needs_background": "light"
     },
     "output_type": "display_data"
    }
   ],
   "source": [
    "# Evaluate the pipeline on the test set \n",
    "prediction = grid_search_estimator.predict(x_test)\n",
    "cm = confusion_matrix(y_test, prediction)\n",
    "plot_confusion_matrix(cm, classes = unique_labels(y_test), title = \"Logistic Regression Classifier on Test Set\")\n",
    "print(classification_report(y_test, prediction))"
   ]
  },
  {
   "cell_type": "markdown",
   "metadata": {
    "id": "2_9e2hfxSY6I"
   },
   "source": [
    "## Decision Tree"
   ]
  },
  {
   "cell_type": "code",
   "execution_count": 22,
   "metadata": {
    "colab": {
     "base_uri": "https://localhost:8080/"
    },
    "id": "0CmzGgO7Scn5",
    "outputId": "15386ef3-3409-4eac-d6c2-8cfa96251119"
   },
   "outputs": [
    {
     "name": "stdout",
     "output_type": "stream",
     "text": [
      "Pipeline(steps=[('vectorizer', TfidfVectorizer()),\n",
      "                ('balancing', RandomUnderSampler(random_state=453)),\n",
      "                ('estimator', DecisionTreeClassifier(random_state=101))])\n",
      "Fitting 8 folds for each of 972 candidates, totalling 7776 fits\n",
      "--- 214.83138275146484 seconds ---\n",
      "Decision Tree Classifier: 47.05290651420339% F1-score for class 'hate-speech' with parameters {'estimator__max_depth': 25, 'estimator__min_samples_leaf': 10, 'estimator__min_samples_split': 5, 'estimator__splitter': 'best', 'vectorizer__max_df': 0.3, 'vectorizer__norm': 'l1', 'vectorizer__smooth_idf': True}\n"
     ]
    },
    {
     "data": {
      "text/plain": [
       "['/home/v.zevallosm/detecting_harmful_content/models/English/Classical_approach/Harmful/Hyperparameters/best_parameters/dt.pkl']"
      ]
     },
     "execution_count": 22,
     "metadata": {},
     "output_type": "execute_result"
    }
   ],
   "source": [
    "# Optimize parameters for simple Decision Tree\n",
    "estimator = DecisionTreeClassifier(random_state=101)\n",
    "\n",
    "# Define grid of posible hyperparamters values \n",
    "parameters = {\n",
    "    'vectorizer__max_df': [0.3, 0.6, 1.0],\n",
    "    'vectorizer__smooth_idf': (True, False),\n",
    "    'vectorizer__norm': ('l1', 'l2', None),\n",
    "    'estimator__splitter' : ['best', 'random'],\n",
    "    'estimator__max_depth': [5, 15, 25],\n",
    "    'estimator__min_samples_split': [5, 25, 100],\n",
    "    'estimator__min_samples_leaf': [ 2, 5, 10]\n",
    "}\n",
    "\n",
    "# Create a pipeline\n",
    "pipeline = Pipeline([ ('vectorizer', vectorizer), ('balancing', sampling), ('estimator', estimator) ])\n",
    "print(pipeline)\n",
    "\n",
    "# Hyperparameter optimization with Grid Search\n",
    "start_time = time.time()\n",
    "grid_search_estimator = GridSearchCV(pipeline, parameters, scoring=f1, cv=cv, return_train_score=False, n_jobs=-1, verbose=2)\n",
    "grid_search_estimator.fit(x_train, y_train)\n",
    "\n",
    "print(\"--- %s seconds ---\" % (time.time() - start_time))\n",
    "print(\"Decision Tree Classifier: {}% F1-score for class 'hate-speech' with parameters {}\".format(grid_search_estimator.best_score_ * 100, grid_search_estimator.best_params_))\n",
    "\n",
    "# Save hyperparameter optmization results\n",
    "df_hyper = pd.DataFrame(grid_search_estimator.cv_results_)\n",
    "df_hyper.to_csv(path_hyperparameters_dt, index=False)\n",
    "\n",
    "# Save best hyperparameters values\n",
    "joblib.dump(grid_search_estimator.best_params_, path_best_parameters_dt, compress = 1) # Only best parameters"
   ]
  },
  {
   "cell_type": "code",
   "execution_count": 23,
   "metadata": {
    "colab": {
     "base_uri": "https://localhost:8080/",
     "height": 453
    },
    "id": "u8VB1iQKSlFQ",
    "outputId": "c79b7bf0-8313-4d4f-ba6a-40c176c220b8"
   },
   "outputs": [
    {
     "name": "stdout",
     "output_type": "stream",
     "text": [
      "              precision    recall  f1-score   support\n",
      "\n",
      "           0       0.96      0.95      0.96      2972\n",
      "           1       0.45      0.53      0.49       224\n",
      "\n",
      "    accuracy                           0.92      3196\n",
      "   macro avg       0.71      0.74      0.72      3196\n",
      "weighted avg       0.93      0.92      0.92      3196\n",
      "\n"
     ]
    },
    {
     "data": {
      "image/png": "[encoded data removed]",
      "text/plain": [
       "<Figure size 432x288 with 2 Axes>"
      ]
     },
     "metadata": {
      "needs_background": "light"
     },
     "output_type": "display_data"
    }
   ],
   "source": [
    "# Evaluate the pipeline on the test set \n",
    "prediction = grid_search_estimator.predict(x_test)\n",
    "cm = confusion_matrix(y_test, prediction)\n",
    "plot_confusion_matrix(cm, classes = unique_labels(y_test), title = \"Decision Tree Classifier on Test Set\")\n",
    "print(classification_report(y_test, prediction))"
   ]
  }
 ],
 "metadata": {
  "colab": {
   "collapsed_sections": [
    "2psw4oRk5UQu",
    "V5PDua9Y6-KF",
    "XAvccEqX8n4R",
    "pocsiti49v2l"
   ],
   "name": "hate_speech_english.ipynb",
   "provenance": [],
   "toc_visible": true
  },
  "kernelspec": {
   "display_name": "Python 3",
   "language": "python",
   "name": "python3"
  },
  "language_info": {
   "codemirror_mode": {
    "name": "ipython",
    "version": 3
   },
   "file_extension": ".py",
   "mimetype": "text/x-python",
   "name": "python",
   "nbconvert_exporter": "python",
   "pygments_lexer": "ipython3",
   "version": "3.8.5"
  }
 },
 "nbformat": 4,
 "nbformat_minor": 1
}

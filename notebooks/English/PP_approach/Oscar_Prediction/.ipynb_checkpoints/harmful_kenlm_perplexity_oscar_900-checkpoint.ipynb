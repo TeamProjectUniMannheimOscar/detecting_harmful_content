{
 "cells": [
  {
   "cell_type": "markdown",
   "metadata": {
    "id": "08PXSP7y6x4G"
   },
   "source": [
    "# KENLM  Framework"
   ]
  },
  {
   "cell_type": "code",
   "execution_count": 1,
   "metadata": {
    "colab": {
     "base_uri": "https://localhost:8080/"
    },
    "executionInfo": {
     "elapsed": 16050,
     "status": "ok",
     "timestamp": 1657538106679,
     "user": {
      "displayName": "Victoria Zevallos Munguía",
      "userId": "08498841278570872685"
     },
     "user_tz": -120
    },
    "id": "ra3qvz9_7V7S",
    "outputId": "61bc08d3-d707-44c1-a37a-60068f7238c3"
   },
   "outputs": [],
   "source": [
    "import pandas as pd\n",
    "import numpy as np\n",
    "import itertools\n",
    "import matplotlib.pyplot as plt\n",
    "import kenlm\n",
    "import time\n",
    "import joblib\n",
    "from hyperopt import hp\n",
    "from pathlib import Path\n",
    "from typing import List\n",
    "import seaborn as sns\n",
    "import tqdm\n",
    "import warnings\n",
    "from sklearn.metrics import classification_report, accuracy_score, confusion_matrix, accuracy_score, f1_score, precision_score, recall_score\n",
    "from sklearn.utils.multiclass import unique_labels\n",
    "warnings.filterwarnings(\"ignore\")\n",
    "\n",
    "#%matplotlib notebook\n"
   ]
  },
  {
   "cell_type": "markdown",
   "metadata": {
    "id": "lwvFo4p77q4u"
   },
   "source": [
    "# Paths"
   ]
  },
  {
   "cell_type": "code",
   "execution_count": 2,
   "metadata": {
    "executionInfo": {
     "elapsed": 7,
     "status": "ok",
     "timestamp": 1657538110255,
     "user": {
      "displayName": "Victoria Zevallos Munguía",
      "userId": "08498841278570872685"
     },
     "user_tz": -120
    },
    "id": "A-vV9Zt07o9B"
   },
   "outputs": [],
   "source": [
    "# Parent paths\n",
    "google_path = '/content/drive/My Drive/'\n",
    "local_path = '/Users/victoriazevallos/Desktop/Exercises & Records MSDS/FSS 2022/Projects/Group Project/Oscar_Project/detecting_harmful_content/'\n",
    "#local_path = '/home/v.zevallosm/detecting_harmful_content/'\n",
    "parent_path = local_path\n",
    "\n",
    "#Specific paths \n",
    "path_oscar_en_1 = parent_path+\"data/raw/Oscar_data/en_meta/en_meta_part_999.jsonl\"\n",
    "#path_oscar_en_1 = \"en_meta_part_1.jsonl\"\n",
    "\n",
    "\n",
    "PATH_MODEL_BIG = parent_path+'models/English/PP_approach/kenlm_big.binary'\n"
   ]
  },
  {
   "cell_type": "markdown",
   "metadata": {
    "id": "ge51sphb7imQ"
   },
   "source": [
    "# 1. Load Oscar data"
   ]
  },
  {
   "cell_type": "code",
   "execution_count": 3,
   "metadata": {
    "id": "UyZ7qIjC9eo_",
    "scrolled": true
   },
   "outputs": [
    {
     "data": {
      "text/html": [
       "<div>\n",
       "<style scoped>\n",
       "    .dataframe tbody tr th:only-of-type {\n",
       "        vertical-align: middle;\n",
       "    }\n",
       "\n",
       "    .dataframe tbody tr th {\n",
       "        vertical-align: top;\n",
       "    }\n",
       "\n",
       "    .dataframe thead th {\n",
       "        text-align: right;\n",
       "    }\n",
       "</style>\n",
       "<table border=\"1\" class=\"dataframe\">\n",
       "  <thead>\n",
       "    <tr style=\"text-align: right;\">\n",
       "      <th></th>\n",
       "      <th>content</th>\n",
       "      <th>annotation</th>\n",
       "    </tr>\n",
       "  </thead>\n",
       "  <tbody>\n",
       "    <tr>\n",
       "      <th>0</th>\n",
       "      <td>Our Gibson is a beautiful 4BD, 3BTH two-story ...</td>\n",
       "      <td>0</td>\n",
       "    </tr>\n",
       "    <tr>\n",
       "      <th>3</th>\n",
       "      <td>The Walker’s new website is more than a virtua...</td>\n",
       "      <td>0</td>\n",
       "    </tr>\n",
       "    <tr>\n",
       "      <th>4</th>\n",
       "      <td>Small Scale Gold Mining Equipment In Ghana Tan...</td>\n",
       "      <td>0</td>\n",
       "    </tr>\n",
       "    <tr>\n",
       "      <th>5</th>\n",
       "      <td>The West St. Louis County Chamber of Commerce ...</td>\n",
       "      <td>0</td>\n",
       "    </tr>\n",
       "    <tr>\n",
       "      <th>8</th>\n",
       "      <td>It is crucial to take control of your health n...</td>\n",
       "      <td>0</td>\n",
       "    </tr>\n",
       "    <tr>\n",
       "      <th>...</th>\n",
       "      <td>...</td>\n",
       "      <td>...</td>\n",
       "    </tr>\n",
       "    <tr>\n",
       "      <th>136272</th>\n",
       "      <td>There is an ongoing controversy about whether ...</td>\n",
       "      <td>0</td>\n",
       "    </tr>\n",
       "    <tr>\n",
       "      <th>136273</th>\n",
       "      <td>I talk a lot about relationships. As an enneag...</td>\n",
       "      <td>0</td>\n",
       "    </tr>\n",
       "    <tr>\n",
       "      <th>136274</th>\n",
       "      <td>I talk a lot about relationships. As an enneag...</td>\n",
       "      <td>0</td>\n",
       "    </tr>\n",
       "    <tr>\n",
       "      <th>136275</th>\n",
       "      <td>These conversations with a girl getting into p...</td>\n",
       "      <td>0</td>\n",
       "    </tr>\n",
       "    <tr>\n",
       "      <th>136276</th>\n",
       "      <td>I got my first winter cold this week - which i...</td>\n",
       "      <td>0</td>\n",
       "    </tr>\n",
       "  </tbody>\n",
       "</table>\n",
       "<p>118794 rows × 2 columns</p>\n",
       "</div>"
      ],
      "text/plain": [
       "                                                  content  annotation\n",
       "0       Our Gibson is a beautiful 4BD, 3BTH two-story ...           0\n",
       "3       The Walker’s new website is more than a virtua...           0\n",
       "4       Small Scale Gold Mining Equipment In Ghana Tan...           0\n",
       "5       The West St. Louis County Chamber of Commerce ...           0\n",
       "8       It is crucial to take control of your health n...           0\n",
       "...                                                   ...         ...\n",
       "136272  There is an ongoing controversy about whether ...           0\n",
       "136273  I talk a lot about relationships. As an enneag...           0\n",
       "136274  I talk a lot about relationships. As an enneag...           0\n",
       "136275  These conversations with a girl getting into p...           0\n",
       "136276  I got my first winter cold this week - which i...           0\n",
       "\n",
       "[118794 rows x 2 columns]"
      ]
     },
     "execution_count": 3,
     "metadata": {},
     "output_type": "execute_result"
    }
   ],
   "source": [
    "df_en = pd.read_json(path_oscar_en_1, lines=True)\n",
    "df_en = pd.concat([df_en, df_en[\"warc_headers\"].apply(pd.Series)], axis=1)\n",
    "df_en = pd.concat([df_en, df_en[\"metadata\"].apply(pd.Series)], axis=1)\n",
    "df_en = df_en[['content','annotation']]\n",
    "df_en.dropna(inplace=True)\n",
    "df_en['annotation'] = [x[0] for x in df_en['annotation']]\n",
    "df_en['annotation'] = np.where(df_en['annotation'].str.contains('adult'), 1, 0)\n",
    "df_en"
   ]
  },
  {
   "cell_type": "markdown",
   "metadata": {
    "id": "wFa9JTzDD2KP"
   },
   "source": [
    "# 2. Predict Label"
   ]
  },
  {
   "cell_type": "markdown",
   "metadata": {
    "id": "QDNUE-uPl1GN"
   },
   "source": [
    "## Kenlm_big"
   ]
  },
  {
   "cell_type": "code",
   "execution_count": 4,
   "metadata": {},
   "outputs": [],
   "source": [
    "def pp(log_score, length):\n",
    "    return 10.0 ** (-log_score / length)"
   ]
  },
  {
   "cell_type": "code",
   "execution_count": 5,
   "metadata": {},
   "outputs": [],
   "source": [
    "def get_pp (df, model):\n",
    "    ls_pp = []\n",
    "    for i, text in enumerate(df['content']):\n",
    "        log_score = model.score(text, bos = True, eos = True)\n",
    "        n = len(text.split())\n",
    "\n",
    "        if n==0:\n",
    "            ls_pp.append(0)\n",
    "        else:\n",
    "            ls_pp.append(pp(log_score, n))\n",
    "    df['pp_score'] = ls_pp\n",
    "    return (df)"
   ]
  },
  {
   "cell_type": "code",
   "execution_count": 6,
   "metadata": {},
   "outputs": [],
   "source": [
    "def prediction(thresholds, df, model):\n",
    "    \n",
    "    # Calculate perplexity score\n",
    "    start_time = time.time()\n",
    "    df = get_pp (df, model)\n",
    "    print(\"Perplexity score estimation takes: %s seconds\" %round(time.time() - start_time, 2))\n",
    "    \n",
    "    # Prediction\n",
    "    plt.figure(figsize=(18,4))\n",
    "    for i, thre in enumerate(thresholds):\n",
    "        df['pred_%s'%thre] = np.where(df['pp_score'] >= thre, 0, 1)\n",
    "        \n",
    "        plt.subplot(1,3,i+1)\n",
    "        sns.barplot( x='index',y='pred_%s'%thre, hue='index', \n",
    "                    data=pd.DataFrame(df['pred_%s'%thre].value_counts()).reset_index(), \n",
    "                    palette=\"PRGn\")\n",
    "        plt.xlabel('labels')\n",
    "        plt.ylabel('n_observations')\n",
    "        print('--------- perplexity threshold = %s -----------'%thre)\n",
    "        print(df['pred_%s'%thre].value_counts()/len(df))\n",
    "        \n",
    " \n",
    "    return (df)\n"
   ]
  },
  {
   "cell_type": "code",
   "execution_count": 7,
   "metadata": {},
   "outputs": [],
   "source": [
    "model_kenlm_big = kenlm.Model(PATH_MODEL_BIG)"
   ]
  },
  {
   "cell_type": "code",
   "execution_count": 8,
   "metadata": {},
   "outputs": [
    {
     "name": "stdout",
     "output_type": "stream",
     "text": [
      "Perplexity score estimation takes: 35.75 seconds\n",
      "--------- perplexity threshold = 4.22 -----------\n",
      "0    0.99532\n",
      "1    0.00468\n",
      "Name: pred_4.22, dtype: float64\n",
      "--------- perplexity threshold = 5.31 -----------\n",
      "0    0.992289\n",
      "1    0.007711\n",
      "Name: pred_5.31, dtype: float64\n",
      "--------- perplexity threshold = 13.51 -----------\n",
      "0    0.989696\n",
      "1    0.010304\n",
      "Name: pred_13.51, dtype: float64\n"
     ]
    },
    {
     "data": {
      "image/png": "[encoded data removed]",
      "text/plain": [
       "<Figure size 1296x288 with 3 Axes>"
      ]
     },
     "metadata": {
      "needs_background": "light"
     },
     "output_type": "display_data"
    }
   ],
   "source": [
    "df_pred = prediction([4.22, 5.31, 13.51], df_en, model_kenlm_big)"
   ]
  },
  {
   "cell_type": "code",
   "execution_count": 9,
   "metadata": {},
   "outputs": [
    {
     "data": {
      "text/html": [
       "<div>\n",
       "<style scoped>\n",
       "    .dataframe tbody tr th:only-of-type {\n",
       "        vertical-align: middle;\n",
       "    }\n",
       "\n",
       "    .dataframe tbody tr th {\n",
       "        vertical-align: top;\n",
       "    }\n",
       "\n",
       "    .dataframe thead th {\n",
       "        text-align: right;\n",
       "    }\n",
       "</style>\n",
       "<table border=\"1\" class=\"dataframe\">\n",
       "  <thead>\n",
       "    <tr style=\"text-align: right;\">\n",
       "      <th></th>\n",
       "      <th>content</th>\n",
       "      <th>annotation</th>\n",
       "      <th>pp_score</th>\n",
       "      <th>pred_4.22</th>\n",
       "      <th>pred_5.31</th>\n",
       "      <th>pred_13.51</th>\n",
       "    </tr>\n",
       "  </thead>\n",
       "  <tbody>\n",
       "    <tr>\n",
       "      <th>0</th>\n",
       "      <td>Our Gibson is a beautiful 4BD, 3BTH two-story ...</td>\n",
       "      <td>0</td>\n",
       "      <td>2060.752288</td>\n",
       "      <td>0</td>\n",
       "      <td>0</td>\n",
       "      <td>0</td>\n",
       "    </tr>\n",
       "    <tr>\n",
       "      <th>3</th>\n",
       "      <td>The Walker’s new website is more than a virtua...</td>\n",
       "      <td>0</td>\n",
       "      <td>1209.035467</td>\n",
       "      <td>0</td>\n",
       "      <td>0</td>\n",
       "      <td>0</td>\n",
       "    </tr>\n",
       "    <tr>\n",
       "      <th>4</th>\n",
       "      <td>Small Scale Gold Mining Equipment In Ghana Tan...</td>\n",
       "      <td>0</td>\n",
       "      <td>2277.064888</td>\n",
       "      <td>0</td>\n",
       "      <td>0</td>\n",
       "      <td>0</td>\n",
       "    </tr>\n",
       "    <tr>\n",
       "      <th>5</th>\n",
       "      <td>The West St. Louis County Chamber of Commerce ...</td>\n",
       "      <td>0</td>\n",
       "      <td>3049.680946</td>\n",
       "      <td>0</td>\n",
       "      <td>0</td>\n",
       "      <td>0</td>\n",
       "    </tr>\n",
       "    <tr>\n",
       "      <th>8</th>\n",
       "      <td>It is crucial to take control of your health n...</td>\n",
       "      <td>0</td>\n",
       "      <td>1961.704699</td>\n",
       "      <td>0</td>\n",
       "      <td>0</td>\n",
       "      <td>0</td>\n",
       "    </tr>\n",
       "    <tr>\n",
       "      <th>...</th>\n",
       "      <td>...</td>\n",
       "      <td>...</td>\n",
       "      <td>...</td>\n",
       "      <td>...</td>\n",
       "      <td>...</td>\n",
       "      <td>...</td>\n",
       "    </tr>\n",
       "    <tr>\n",
       "      <th>136272</th>\n",
       "      <td>There is an ongoing controversy about whether ...</td>\n",
       "      <td>0</td>\n",
       "      <td>4212.359422</td>\n",
       "      <td>0</td>\n",
       "      <td>0</td>\n",
       "      <td>0</td>\n",
       "    </tr>\n",
       "    <tr>\n",
       "      <th>136273</th>\n",
       "      <td>I talk a lot about relationships. As an enneag...</td>\n",
       "      <td>0</td>\n",
       "      <td>924.176040</td>\n",
       "      <td>0</td>\n",
       "      <td>0</td>\n",
       "      <td>0</td>\n",
       "    </tr>\n",
       "    <tr>\n",
       "      <th>136274</th>\n",
       "      <td>I talk a lot about relationships. As an enneag...</td>\n",
       "      <td>0</td>\n",
       "      <td>924.176040</td>\n",
       "      <td>0</td>\n",
       "      <td>0</td>\n",
       "      <td>0</td>\n",
       "    </tr>\n",
       "    <tr>\n",
       "      <th>136275</th>\n",
       "      <td>These conversations with a girl getting into p...</td>\n",
       "      <td>0</td>\n",
       "      <td>3350.430884</td>\n",
       "      <td>0</td>\n",
       "      <td>0</td>\n",
       "      <td>0</td>\n",
       "    </tr>\n",
       "    <tr>\n",
       "      <th>136276</th>\n",
       "      <td>I got my first winter cold this week - which i...</td>\n",
       "      <td>0</td>\n",
       "      <td>6058.526166</td>\n",
       "      <td>0</td>\n",
       "      <td>0</td>\n",
       "      <td>0</td>\n",
       "    </tr>\n",
       "  </tbody>\n",
       "</table>\n",
       "<p>118794 rows × 6 columns</p>\n",
       "</div>"
      ],
      "text/plain": [
       "                                                  content  annotation  \\\n",
       "0       Our Gibson is a beautiful 4BD, 3BTH two-story ...           0   \n",
       "3       The Walker’s new website is more than a virtua...           0   \n",
       "4       Small Scale Gold Mining Equipment In Ghana Tan...           0   \n",
       "5       The West St. Louis County Chamber of Commerce ...           0   \n",
       "8       It is crucial to take control of your health n...           0   \n",
       "...                                                   ...         ...   \n",
       "136272  There is an ongoing controversy about whether ...           0   \n",
       "136273  I talk a lot about relationships. As an enneag...           0   \n",
       "136274  I talk a lot about relationships. As an enneag...           0   \n",
       "136275  These conversations with a girl getting into p...           0   \n",
       "136276  I got my first winter cold this week - which i...           0   \n",
       "\n",
       "           pp_score  pred_4.22  pred_5.31  pred_13.51  \n",
       "0       2060.752288          0          0           0  \n",
       "3       1209.035467          0          0           0  \n",
       "4       2277.064888          0          0           0  \n",
       "5       3049.680946          0          0           0  \n",
       "8       1961.704699          0          0           0  \n",
       "...             ...        ...        ...         ...  \n",
       "136272  4212.359422          0          0           0  \n",
       "136273   924.176040          0          0           0  \n",
       "136274   924.176040          0          0           0  \n",
       "136275  3350.430884          0          0           0  \n",
       "136276  6058.526166          0          0           0  \n",
       "\n",
       "[118794 rows x 6 columns]"
      ]
     },
     "execution_count": 9,
     "metadata": {},
     "output_type": "execute_result"
    }
   ],
   "source": [
    "df_pred"
   ]
  },
  {
   "cell_type": "code",
   "execution_count": 10,
   "metadata": {},
   "outputs": [
    {
     "data": {
      "text/html": [
       "<div>\n",
       "<style scoped>\n",
       "    .dataframe tbody tr th:only-of-type {\n",
       "        vertical-align: middle;\n",
       "    }\n",
       "\n",
       "    .dataframe tbody tr th {\n",
       "        vertical-align: top;\n",
       "    }\n",
       "\n",
       "    .dataframe thead th {\n",
       "        text-align: right;\n",
       "    }\n",
       "</style>\n",
       "<table border=\"1\" class=\"dataframe\">\n",
       "  <thead>\n",
       "    <tr style=\"text-align: right;\">\n",
       "      <th></th>\n",
       "      <th>content</th>\n",
       "      <th>annotation</th>\n",
       "      <th>pp_score</th>\n",
       "      <th>pred_4.22</th>\n",
       "      <th>pred_5.31</th>\n",
       "      <th>pred_13.51</th>\n",
       "    </tr>\n",
       "  </thead>\n",
       "  <tbody>\n",
       "    <tr>\n",
       "      <th>104</th>\n",
       "      <td>Enter the username or e-mail you used in your ...</td>\n",
       "      <td>0</td>\n",
       "      <td>4.047420</td>\n",
       "      <td>1</td>\n",
       "      <td>1</td>\n",
       "      <td>1</td>\n",
       "    </tr>\n",
       "    <tr>\n",
       "      <th>218</th>\n",
       "      <td>If this is your first visit, be sure to check ...</td>\n",
       "      <td>0</td>\n",
       "      <td>1.602587</td>\n",
       "      <td>1</td>\n",
       "      <td>1</td>\n",
       "      <td>1</td>\n",
       "    </tr>\n",
       "    <tr>\n",
       "      <th>323</th>\n",
       "      <td>If this is your first visit, be sure to check ...</td>\n",
       "      <td>0</td>\n",
       "      <td>1.602587</td>\n",
       "      <td>1</td>\n",
       "      <td>1</td>\n",
       "      <td>1</td>\n",
       "    </tr>\n",
       "    <tr>\n",
       "      <th>341</th>\n",
       "      <td>Enter the username or e-mail you used in your ...</td>\n",
       "      <td>0</td>\n",
       "      <td>4.047420</td>\n",
       "      <td>1</td>\n",
       "      <td>1</td>\n",
       "      <td>1</td>\n",
       "    </tr>\n",
       "    <tr>\n",
       "      <th>467</th>\n",
       "      <td>You are either not logged in or do not have pe...</td>\n",
       "      <td>0</td>\n",
       "      <td>5.486886</td>\n",
       "      <td>0</td>\n",
       "      <td>0</td>\n",
       "      <td>1</td>\n",
       "    </tr>\n",
       "    <tr>\n",
       "      <th>...</th>\n",
       "      <td>...</td>\n",
       "      <td>...</td>\n",
       "      <td>...</td>\n",
       "      <td>...</td>\n",
       "      <td>...</td>\n",
       "      <td>...</td>\n",
       "    </tr>\n",
       "    <tr>\n",
       "      <th>135995</th>\n",
       "      <td>We use cookies on this site to deliver essenti...</td>\n",
       "      <td>0</td>\n",
       "      <td>6.772189</td>\n",
       "      <td>0</td>\n",
       "      <td>0</td>\n",
       "      <td>1</td>\n",
       "    </tr>\n",
       "    <tr>\n",
       "      <th>136092</th>\n",
       "      <td>Diese Website nutzt Cookies, um bestmögliche F...</td>\n",
       "      <td>0</td>\n",
       "      <td>6.052400</td>\n",
       "      <td>0</td>\n",
       "      <td>0</td>\n",
       "      <td>1</td>\n",
       "    </tr>\n",
       "    <tr>\n",
       "      <th>136160</th>\n",
       "      <td>We use cookies on our website to give you the ...</td>\n",
       "      <td>0</td>\n",
       "      <td>9.791036</td>\n",
       "      <td>0</td>\n",
       "      <td>0</td>\n",
       "      <td>1</td>\n",
       "    </tr>\n",
       "    <tr>\n",
       "      <th>136161</th>\n",
       "      <td>We use cookies on our website to give you the ...</td>\n",
       "      <td>0</td>\n",
       "      <td>9.791036</td>\n",
       "      <td>0</td>\n",
       "      <td>0</td>\n",
       "      <td>1</td>\n",
       "    </tr>\n",
       "    <tr>\n",
       "      <th>136246</th>\n",
       "      <td>Privacy &amp; Cookies: This site uses cookies. By ...</td>\n",
       "      <td>0</td>\n",
       "      <td>5.215265</td>\n",
       "      <td>0</td>\n",
       "      <td>1</td>\n",
       "      <td>1</td>\n",
       "    </tr>\n",
       "  </tbody>\n",
       "</table>\n",
       "<p>1224 rows × 6 columns</p>\n",
       "</div>"
      ],
      "text/plain": [
       "                                                  content  annotation  \\\n",
       "104     Enter the username or e-mail you used in your ...           0   \n",
       "218     If this is your first visit, be sure to check ...           0   \n",
       "323     If this is your first visit, be sure to check ...           0   \n",
       "341     Enter the username or e-mail you used in your ...           0   \n",
       "467     You are either not logged in or do not have pe...           0   \n",
       "...                                                   ...         ...   \n",
       "135995  We use cookies on this site to deliver essenti...           0   \n",
       "136092  Diese Website nutzt Cookies, um bestmögliche F...           0   \n",
       "136160  We use cookies on our website to give you the ...           0   \n",
       "136161  We use cookies on our website to give you the ...           0   \n",
       "136246  Privacy & Cookies: This site uses cookies. By ...           0   \n",
       "\n",
       "        pp_score  pred_4.22  pred_5.31  pred_13.51  \n",
       "104     4.047420          1          1           1  \n",
       "218     1.602587          1          1           1  \n",
       "323     1.602587          1          1           1  \n",
       "341     4.047420          1          1           1  \n",
       "467     5.486886          0          0           1  \n",
       "...          ...        ...        ...         ...  \n",
       "135995  6.772189          0          0           1  \n",
       "136092  6.052400          0          0           1  \n",
       "136160  9.791036          0          0           1  \n",
       "136161  9.791036          0          0           1  \n",
       "136246  5.215265          0          1           1  \n",
       "\n",
       "[1224 rows x 6 columns]"
      ]
     },
     "execution_count": 10,
     "metadata": {},
     "output_type": "execute_result"
    }
   ],
   "source": [
    "df_pred[df_pred['pred_13.51']==1]"
   ]
  },
  {
   "cell_type": "code",
   "execution_count": 12,
   "metadata": {},
   "outputs": [
    {
     "data": {
      "text/plain": [
       "'If this is your first visit, be sure to check out the FAQ by clicking the link above. You may have to register before you can post: click the register link above to proceed. To start viewing messages, select the forum that you want to visit from the selection below.'"
      ]
     },
     "execution_count": 12,
     "metadata": {},
     "output_type": "execute_result"
    }
   ],
   "source": [
    "df_pred.loc[218]['content']"
   ]
  },
  {
   "cell_type": "code",
   "execution_count": null,
   "metadata": {},
   "outputs": [],
   "source": [
    "df_pred.loc[136523]['content']"
   ]
  },
  {
   "cell_type": "code",
   "execution_count": null,
   "metadata": {},
   "outputs": [],
   "source": []
  },
  {
   "cell_type": "markdown",
   "metadata": {
    "id": "wFa9JTzDD2KP"
   },
   "source": [
    "# 2. Results Analysis"
   ]
  },
  {
   "cell_type": "code",
   "execution_count": 13,
   "metadata": {},
   "outputs": [],
   "source": [
    "def plot_confusion_matrix(cm, classes,\n",
    "                          normalize=False,\n",
    "                          title='Confusion matrix',\n",
    "                          cmap=plt.cm.Blues):\n",
    "    \"\"\"\n",
    "    This function prints and plots the confusion matrix.\n",
    "    Normalization can be applied by setting `normalize=True`.\n",
    "    \"\"\"\n",
    "    if normalize:\n",
    "        cm = cm.astype('float') / cm.sum(axis=1)[:, np.newaxis]\n",
    "\n",
    "    plt.imshow(cm, interpolation='nearest', cmap=cmap)\n",
    "    plt.title(title)\n",
    "    plt.colorbar()\n",
    "    tick_marks = np.arange(len(classes))\n",
    "    plt.xticks(tick_marks, classes, rotation=45)\n",
    "    plt.yticks(tick_marks, classes)\n",
    "\n",
    "    fmt = '.2f' if normalize else 'd'\n",
    "    thresh = cm.max() / 2.\n",
    "    for i, j in itertools.product(range(cm.shape[0]), range(cm.shape[1])):\n",
    "        plt.text(j, i, format(cm[i, j], fmt),\n",
    "                 horizontalalignment=\"center\",\n",
    "                 color=\"white\" if cm[i, j] > thresh else \"black\")\n",
    "\n",
    "    plt.ylabel('True label')\n",
    "    plt.xlabel('Predicted label')\n",
    "    plt.tight_layout()"
   ]
  },
  {
   "cell_type": "code",
   "execution_count": 14,
   "metadata": {},
   "outputs": [],
   "source": [
    "def evaluation_oscar_pred(thresholds, df):\n",
    "\n",
    "    plt.figure(figsize=(18,4))\n",
    "    for i, thre in enumerate(thresholds):\n",
    "        pred = df_pred['pred_%s'%thre]\n",
    "\n",
    "        print('--------- perplexity threshold = %s -----------'%thre)\n",
    "        print(classification_report(df['annotation'], pred))\n",
    "\n",
    "        plt.subplot(1,3,i+1)\n",
    "        cm = confusion_matrix(df['annotation'], pred)\n",
    "        plot_confusion_matrix(cm, classes = unique_labels(df['annotation']), title = \"Threshold = %s\"%thre)\n",
    "\n",
    "\n",
    "    "
   ]
  },
  {
   "cell_type": "code",
   "execution_count": 15,
   "metadata": {},
   "outputs": [
    {
     "name": "stdout",
     "output_type": "stream",
     "text": [
      "--------- perplexity threshold = 4.22 -----------\n",
      "              precision    recall  f1-score   support\n",
      "\n",
      "           0       1.00      1.00      1.00    118748\n",
      "           1       0.00      0.04      0.01        46\n",
      "\n",
      "    accuracy                           0.99    118794\n",
      "   macro avg       0.50      0.52      0.50    118794\n",
      "weighted avg       1.00      0.99      1.00    118794\n",
      "\n",
      "--------- perplexity threshold = 5.31 -----------\n",
      "              precision    recall  f1-score   support\n",
      "\n",
      "           0       1.00      0.99      1.00    118748\n",
      "           1       0.00      0.04      0.00        46\n",
      "\n",
      "    accuracy                           0.99    118794\n",
      "   macro avg       0.50      0.52      0.50    118794\n",
      "weighted avg       1.00      0.99      1.00    118794\n",
      "\n",
      "--------- perplexity threshold = 13.51 -----------\n",
      "              precision    recall  f1-score   support\n",
      "\n",
      "           0       1.00      0.99      0.99    118748\n",
      "           1       0.00      0.04      0.00        46\n",
      "\n",
      "    accuracy                           0.99    118794\n",
      "   macro avg       0.50      0.52      0.50    118794\n",
      "weighted avg       1.00      0.99      0.99    118794\n",
      "\n"
     ]
    },
    {
     "data": {
      "image/png": "[encoded data removed]",
      "text/plain": [
       "<Figure size 1296x288 with 6 Axes>"
      ]
     },
     "metadata": {
      "needs_background": "light"
     },
     "output_type": "display_data"
    }
   ],
   "source": [
    "evaluation_oscar_pred([4.22, 5.31, 13.51], df_pred)"
   ]
  },
  {
   "cell_type": "code",
   "execution_count": null,
   "metadata": {},
   "outputs": [],
   "source": []
  }
 ],
 "metadata": {
  "colab": {
   "collapsed_sections": [],
   "name": "hate_speech_flair_twitter_cyberbullying_distilbert_oscar.ipynb",
   "provenance": [
    {
     "file_id": "1g737BHhsefKZVCujbpqdFCKyxCypdQE1",
     "timestamp": 1657535776249
    },
    {
     "file_id": "1lhgMY-ujpbGTYx3X6VJeFwLCk4n4dEDW",
     "timestamp": 1652450085133
    },
    {
     "file_id": "1s5D1Dp0b_4KsF_fHANhXoBisr9W7ITXN",
     "timestamp": 1652032375991
    }
   ]
  },
  "gpuClass": "standard",
  "kernelspec": {
   "display_name": "Python 3",
   "language": "python",
   "name": "python3"
  },
  "language_info": {
   "codemirror_mode": {
    "name": "ipython",
    "version": 3
   },
   "file_extension": ".py",
   "mimetype": "text/x-python",
   "name": "python",
   "nbconvert_exporter": "python",
   "pygments_lexer": "ipython3",
   "version": "3.8.5"
  }
 },
 "nbformat": 4,
 "nbformat_minor": 1
}

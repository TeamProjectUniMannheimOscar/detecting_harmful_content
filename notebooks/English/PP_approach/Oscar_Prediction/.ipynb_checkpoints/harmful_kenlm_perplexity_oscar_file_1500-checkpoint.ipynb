{
 "cells": [
  {
   "cell_type": "markdown",
   "metadata": {
    "id": "08PXSP7y6x4G"
   },
   "source": [
    "# KENLM  Framework"
   ]
  },
  {
   "cell_type": "code",
   "execution_count": 1,
   "metadata": {
    "colab": {
     "base_uri": "https://localhost:8080/"
    },
    "executionInfo": {
     "elapsed": 16050,
     "status": "ok",
     "timestamp": 1657538106679,
     "user": {
      "displayName": "Victoria Zevallos Munguía",
      "userId": "08498841278570872685"
     },
     "user_tz": -120
    },
    "id": "ra3qvz9_7V7S",
    "outputId": "61bc08d3-d707-44c1-a37a-60068f7238c3"
   },
   "outputs": [],
   "source": [
    "import pandas as pd\n",
    "import numpy as np\n",
    "import itertools\n",
    "import matplotlib.pyplot as plt\n",
    "import kenlm\n",
    "import time\n",
    "import joblib\n",
    "from hyperopt import hp\n",
    "from pathlib import Path\n",
    "from typing import List\n",
    "import seaborn as sns\n",
    "import tqdm\n",
    "import warnings\n",
    "from sklearn.metrics import classification_report, accuracy_score, confusion_matrix, accuracy_score, f1_score, precision_score, recall_score\n",
    "from sklearn.utils.multiclass import unique_labels\n",
    "warnings.filterwarnings(\"ignore\")\n",
    "\n",
    "#%matplotlib notebook\n"
   ]
  },
  {
   "cell_type": "markdown",
   "metadata": {
    "id": "lwvFo4p77q4u"
   },
   "source": [
    "# Paths"
   ]
  },
  {
   "cell_type": "code",
   "execution_count": 2,
   "metadata": {
    "executionInfo": {
     "elapsed": 7,
     "status": "ok",
     "timestamp": 1657538110255,
     "user": {
      "displayName": "Victoria Zevallos Munguía",
      "userId": "08498841278570872685"
     },
     "user_tz": -120
    },
    "id": "A-vV9Zt07o9B"
   },
   "outputs": [],
   "source": [
    "# Parent paths\n",
    "google_path = '/content/drive/My Drive/'\n",
    "local_path = '/Users/victoriazevallos/Desktop/Exercises & Records MSDS/FSS 2022/Projects/Group Project/Oscar_Project/detecting_harmful_content/'\n",
    "#local_path = '/home/v.zevallosm/detecting_harmful_content/'\n",
    "parent_path = local_path\n",
    "\n",
    "#Specific paths \n",
    "path_oscar_en_1 = parent_path+\"data/raw/Oscar_data/en_meta/en_meta_part_1500.jsonl\"\n",
    "#path_oscar_en_1 = \"en_meta_part_1.jsonl\"\n",
    "\n",
    "\n",
    "PATH_MODEL_BIG = parent_path+'models/English/PP_approach/kenlm_big.binary'\n"
   ]
  },
  {
   "cell_type": "markdown",
   "metadata": {
    "id": "ge51sphb7imQ"
   },
   "source": [
    "# 1. Load Oscar data"
   ]
  },
  {
   "cell_type": "code",
   "execution_count": 3,
   "metadata": {
    "id": "UyZ7qIjC9eo_",
    "scrolled": true
   },
   "outputs": [
    {
     "data": {
      "text/html": [
       "<div>\n",
       "<style scoped>\n",
       "    .dataframe tbody tr th:only-of-type {\n",
       "        vertical-align: middle;\n",
       "    }\n",
       "\n",
       "    .dataframe tbody tr th {\n",
       "        vertical-align: top;\n",
       "    }\n",
       "\n",
       "    .dataframe thead th {\n",
       "        text-align: right;\n",
       "    }\n",
       "</style>\n",
       "<table border=\"1\" class=\"dataframe\">\n",
       "  <thead>\n",
       "    <tr style=\"text-align: right;\">\n",
       "      <th></th>\n",
       "      <th>content</th>\n",
       "      <th>annotation</th>\n",
       "    </tr>\n",
       "  </thead>\n",
       "  <tbody>\n",
       "    <tr>\n",
       "      <th>0</th>\n",
       "      <td>I was trying to decide on the topic for this m...</td>\n",
       "      <td>0</td>\n",
       "    </tr>\n",
       "    <tr>\n",
       "      <th>1</th>\n",
       "      <td>Newspaper is your news, entertainment, music f...</td>\n",
       "      <td>0</td>\n",
       "    </tr>\n",
       "    <tr>\n",
       "      <th>2</th>\n",
       "      <td>Screen King Mobile is a Bay Area door screen r...</td>\n",
       "      <td>0</td>\n",
       "    </tr>\n",
       "    <tr>\n",
       "      <th>3</th>\n",
       "      <td>Powered by vBulletin® Version 4.2.5 Copyright ...</td>\n",
       "      <td>0</td>\n",
       "    </tr>\n",
       "    <tr>\n",
       "      <th>5</th>\n",
       "      <td>Welcome to Faith Positive Radio with Dr. Joey ...</td>\n",
       "      <td>0</td>\n",
       "    </tr>\n",
       "    <tr>\n",
       "      <th>...</th>\n",
       "      <td>...</td>\n",
       "      <td>...</td>\n",
       "    </tr>\n",
       "    <tr>\n",
       "      <th>136932</th>\n",
       "      <td>A busy week with 3 days away, a really lovely ...</td>\n",
       "      <td>0</td>\n",
       "    </tr>\n",
       "    <tr>\n",
       "      <th>136933</th>\n",
       "      <td>Home / Entertainment / Hilarious! Fans Laugh H...</td>\n",
       "      <td>0</td>\n",
       "    </tr>\n",
       "    <tr>\n",
       "      <th>136934</th>\n",
       "      <td>We use cookies to help provide and enhance our...</td>\n",
       "      <td>0</td>\n",
       "    </tr>\n",
       "    <tr>\n",
       "      <th>136936</th>\n",
       "      <td>Le pera Bare Bones FK-005 Solo Seat. This has ...</td>\n",
       "      <td>0</td>\n",
       "    </tr>\n",
       "    <tr>\n",
       "      <th>136937</th>\n",
       "      <td>Arjun Jayadev is Associate Professor of Econom...</td>\n",
       "      <td>0</td>\n",
       "    </tr>\n",
       "  </tbody>\n",
       "</table>\n",
       "<p>119280 rows × 2 columns</p>\n",
       "</div>"
      ],
      "text/plain": [
       "                                                  content  annotation\n",
       "0       I was trying to decide on the topic for this m...           0\n",
       "1       Newspaper is your news, entertainment, music f...           0\n",
       "2       Screen King Mobile is a Bay Area door screen r...           0\n",
       "3       Powered by vBulletin® Version 4.2.5 Copyright ...           0\n",
       "5       Welcome to Faith Positive Radio with Dr. Joey ...           0\n",
       "...                                                   ...         ...\n",
       "136932  A busy week with 3 days away, a really lovely ...           0\n",
       "136933  Home / Entertainment / Hilarious! Fans Laugh H...           0\n",
       "136934  We use cookies to help provide and enhance our...           0\n",
       "136936  Le pera Bare Bones FK-005 Solo Seat. This has ...           0\n",
       "136937  Arjun Jayadev is Associate Professor of Econom...           0\n",
       "\n",
       "[119280 rows x 2 columns]"
      ]
     },
     "execution_count": 3,
     "metadata": {},
     "output_type": "execute_result"
    }
   ],
   "source": [
    "df_en = pd.read_json(path_oscar_en_1, lines=True)\n",
    "df_en = pd.concat([df_en, df_en[\"warc_headers\"].apply(pd.Series)], axis=1)\n",
    "df_en = pd.concat([df_en, df_en[\"metadata\"].apply(pd.Series)], axis=1)\n",
    "df_en = df_en[['content','annotation']]\n",
    "df_en.dropna(inplace=True)\n",
    "df_en['annotation'] = [x[0] for x in df_en['annotation']]\n",
    "df_en['annotation'] = np.where(df_en['annotation'].str.contains('adult'), 1, 0)\n",
    "df_en"
   ]
  },
  {
   "cell_type": "markdown",
   "metadata": {
    "id": "wFa9JTzDD2KP"
   },
   "source": [
    "# 2. Predict Label"
   ]
  },
  {
   "cell_type": "markdown",
   "metadata": {
    "id": "QDNUE-uPl1GN"
   },
   "source": [
    "## Kenlm_big"
   ]
  },
  {
   "cell_type": "code",
   "execution_count": 4,
   "metadata": {},
   "outputs": [],
   "source": [
    "def pp(log_score, length):\n",
    "    return 10.0 ** (-log_score / length)"
   ]
  },
  {
   "cell_type": "code",
   "execution_count": 5,
   "metadata": {},
   "outputs": [],
   "source": [
    "def get_pp (df, model):\n",
    "    ls_pp = []\n",
    "    for i, text in enumerate(df['content']):\n",
    "        log_score = model.score(text, bos = True, eos = True)\n",
    "        n = len(text.split())\n",
    "\n",
    "        if n==0:\n",
    "            ls_pp.append(0)\n",
    "        else:\n",
    "            ls_pp.append(pp(log_score, n))\n",
    "    df['pp_score'] = ls_pp\n",
    "    return (df)"
   ]
  },
  {
   "cell_type": "code",
   "execution_count": 34,
   "metadata": {},
   "outputs": [],
   "source": [
    "def prediction(thresholds, df, model):\n",
    "    \n",
    "    # Calculate perplexity score\n",
    "    start_time = time.time()\n",
    "    df = get_pp (df, model)\n",
    "    print(\"Perplexity score estimation takes: %s seconds\" %round(time.time() - start_time, 2))\n",
    "    \n",
    "    # Prediction\n",
    "    plt.figure(figsize=(18,4))\n",
    "    for i, thre in enumerate(thresholds):\n",
    "        df['pred_%s'%thre] = np.where(df['pp_score'] >= thre, '_label_0', '_label_1')\n",
    "        \n",
    "        plt.subplot(1,3,i+1)\n",
    "        plt.gca().set_title('Threshold = %s'%thre)\n",
    "        sns.barplot( x='index',y='pred_%s'%thre, hue='index', \n",
    "                    data=pd.DataFrame(df['pred_%s'%thre].value_counts()).reset_index(), \n",
    "                    order=['_label_1', '_label_0'],\n",
    "                    palette=\"PRGn\")\n",
    "        plt.xlabel('labels')\n",
    "        print('--------- perplexity threshold = %s -----------'%thre)\n",
    "        print(df['pred_%s'%thre].value_counts()/len(df))\n",
    "        df['pred_%s'%thre] = np.where(df['pp_score'] >= thre, 0, 1)\n",
    "        \n",
    " \n",
    "    return (df)\n"
   ]
  },
  {
   "cell_type": "code",
   "execution_count": 32,
   "metadata": {},
   "outputs": [],
   "source": [
    "model_kenlm_big = kenlm.Model(PATH_MODEL_BIG)"
   ]
  },
  {
   "cell_type": "code",
   "execution_count": 35,
   "metadata": {},
   "outputs": [
    {
     "name": "stderr",
     "output_type": "stream",
     "text": [
      "No handles with labels found to put in legend.\n"
     ]
    },
    {
     "name": "stdout",
     "output_type": "stream",
     "text": [
      "Perplexity score estimation takes: 43.62 seconds\n",
      "--------- perplexity threshold = 4.22 -----------\n",
      "_label_0    0.995532\n",
      "_label_1    0.004468\n",
      "Name: pred_4.22, dtype: float64\n"
     ]
    },
    {
     "name": "stderr",
     "output_type": "stream",
     "text": [
      "No handles with labels found to put in legend.\n",
      "No handles with labels found to put in legend.\n"
     ]
    },
    {
     "name": "stdout",
     "output_type": "stream",
     "text": [
      "--------- perplexity threshold = 5.31 -----------\n",
      "_label_0    0.992178\n",
      "_label_1    0.007822\n",
      "Name: pred_5.31, dtype: float64\n",
      "--------- perplexity threshold = 13.51 -----------\n",
      "_label_0    0.989697\n",
      "_label_1    0.010303\n",
      "Name: pred_13.51, dtype: float64\n"
     ]
    },
    {
     "data": {
      "image/png": "[encoded data removed]",
      "text/plain": [
       "<Figure size 1296x288 with 3 Axes>"
      ]
     },
     "metadata": {
      "needs_background": "light"
     },
     "output_type": "display_data"
    }
   ],
   "source": [
    "df_pred = prediction([4.22, 5.31, 13.51], df_en, model_kenlm_big)"
   ]
  },
  {
   "cell_type": "code",
   "execution_count": 9,
   "metadata": {},
   "outputs": [
    {
     "data": {
      "text/html": [
       "<div>\n",
       "<style scoped>\n",
       "    .dataframe tbody tr th:only-of-type {\n",
       "        vertical-align: middle;\n",
       "    }\n",
       "\n",
       "    .dataframe tbody tr th {\n",
       "        vertical-align: top;\n",
       "    }\n",
       "\n",
       "    .dataframe thead th {\n",
       "        text-align: right;\n",
       "    }\n",
       "</style>\n",
       "<table border=\"1\" class=\"dataframe\">\n",
       "  <thead>\n",
       "    <tr style=\"text-align: right;\">\n",
       "      <th></th>\n",
       "      <th>content</th>\n",
       "      <th>annotation</th>\n",
       "      <th>pp_score</th>\n",
       "      <th>pred_4.22</th>\n",
       "      <th>pred_5.31</th>\n",
       "      <th>pred_13.51</th>\n",
       "    </tr>\n",
       "  </thead>\n",
       "  <tbody>\n",
       "    <tr>\n",
       "      <th>0</th>\n",
       "      <td>I was trying to decide on the topic for this m...</td>\n",
       "      <td>0</td>\n",
       "      <td>3086.024635</td>\n",
       "      <td>0</td>\n",
       "      <td>0</td>\n",
       "      <td>0</td>\n",
       "    </tr>\n",
       "    <tr>\n",
       "      <th>1</th>\n",
       "      <td>Newspaper is your news, entertainment, music f...</td>\n",
       "      <td>0</td>\n",
       "      <td>737.126067</td>\n",
       "      <td>0</td>\n",
       "      <td>0</td>\n",
       "      <td>0</td>\n",
       "    </tr>\n",
       "    <tr>\n",
       "      <th>2</th>\n",
       "      <td>Screen King Mobile is a Bay Area door screen r...</td>\n",
       "      <td>0</td>\n",
       "      <td>7185.144896</td>\n",
       "      <td>0</td>\n",
       "      <td>0</td>\n",
       "      <td>0</td>\n",
       "    </tr>\n",
       "    <tr>\n",
       "      <th>3</th>\n",
       "      <td>Powered by vBulletin® Version 4.2.5 Copyright ...</td>\n",
       "      <td>0</td>\n",
       "      <td>20657.866532</td>\n",
       "      <td>0</td>\n",
       "      <td>0</td>\n",
       "      <td>0</td>\n",
       "    </tr>\n",
       "    <tr>\n",
       "      <th>5</th>\n",
       "      <td>Welcome to Faith Positive Radio with Dr. Joey ...</td>\n",
       "      <td>0</td>\n",
       "      <td>7709.214090</td>\n",
       "      <td>0</td>\n",
       "      <td>0</td>\n",
       "      <td>0</td>\n",
       "    </tr>\n",
       "    <tr>\n",
       "      <th>...</th>\n",
       "      <td>...</td>\n",
       "      <td>...</td>\n",
       "      <td>...</td>\n",
       "      <td>...</td>\n",
       "      <td>...</td>\n",
       "      <td>...</td>\n",
       "    </tr>\n",
       "    <tr>\n",
       "      <th>136932</th>\n",
       "      <td>A busy week with 3 days away, a really lovely ...</td>\n",
       "      <td>0</td>\n",
       "      <td>874.625617</td>\n",
       "      <td>0</td>\n",
       "      <td>0</td>\n",
       "      <td>0</td>\n",
       "    </tr>\n",
       "    <tr>\n",
       "      <th>136933</th>\n",
       "      <td>Home / Entertainment / Hilarious! Fans Laugh H...</td>\n",
       "      <td>0</td>\n",
       "      <td>8603.256213</td>\n",
       "      <td>0</td>\n",
       "      <td>0</td>\n",
       "      <td>0</td>\n",
       "    </tr>\n",
       "    <tr>\n",
       "      <th>136934</th>\n",
       "      <td>We use cookies to help provide and enhance our...</td>\n",
       "      <td>0</td>\n",
       "      <td>275.001487</td>\n",
       "      <td>0</td>\n",
       "      <td>0</td>\n",
       "      <td>0</td>\n",
       "    </tr>\n",
       "    <tr>\n",
       "      <th>136936</th>\n",
       "      <td>Le pera Bare Bones FK-005 Solo Seat. This has ...</td>\n",
       "      <td>0</td>\n",
       "      <td>8245.714322</td>\n",
       "      <td>0</td>\n",
       "      <td>0</td>\n",
       "      <td>0</td>\n",
       "    </tr>\n",
       "    <tr>\n",
       "      <th>136937</th>\n",
       "      <td>Arjun Jayadev is Associate Professor of Econom...</td>\n",
       "      <td>0</td>\n",
       "      <td>2405.644121</td>\n",
       "      <td>0</td>\n",
       "      <td>0</td>\n",
       "      <td>0</td>\n",
       "    </tr>\n",
       "  </tbody>\n",
       "</table>\n",
       "<p>119280 rows × 6 columns</p>\n",
       "</div>"
      ],
      "text/plain": [
       "                                                  content  annotation  \\\n",
       "0       I was trying to decide on the topic for this m...           0   \n",
       "1       Newspaper is your news, entertainment, music f...           0   \n",
       "2       Screen King Mobile is a Bay Area door screen r...           0   \n",
       "3       Powered by vBulletin® Version 4.2.5 Copyright ...           0   \n",
       "5       Welcome to Faith Positive Radio with Dr. Joey ...           0   \n",
       "...                                                   ...         ...   \n",
       "136932  A busy week with 3 days away, a really lovely ...           0   \n",
       "136933  Home / Entertainment / Hilarious! Fans Laugh H...           0   \n",
       "136934  We use cookies to help provide and enhance our...           0   \n",
       "136936  Le pera Bare Bones FK-005 Solo Seat. This has ...           0   \n",
       "136937  Arjun Jayadev is Associate Professor of Econom...           0   \n",
       "\n",
       "            pp_score  pred_4.22  pred_5.31  pred_13.51  \n",
       "0        3086.024635          0          0           0  \n",
       "1         737.126067          0          0           0  \n",
       "2        7185.144896          0          0           0  \n",
       "3       20657.866532          0          0           0  \n",
       "5        7709.214090          0          0           0  \n",
       "...              ...        ...        ...         ...  \n",
       "136932    874.625617          0          0           0  \n",
       "136933   8603.256213          0          0           0  \n",
       "136934    275.001487          0          0           0  \n",
       "136936   8245.714322          0          0           0  \n",
       "136937   2405.644121          0          0           0  \n",
       "\n",
       "[119280 rows x 6 columns]"
      ]
     },
     "execution_count": 9,
     "metadata": {},
     "output_type": "execute_result"
    }
   ],
   "source": [
    "df_pred"
   ]
  },
  {
   "cell_type": "code",
   "execution_count": 10,
   "metadata": {},
   "outputs": [
    {
     "data": {
      "text/html": [
       "<div>\n",
       "<style scoped>\n",
       "    .dataframe tbody tr th:only-of-type {\n",
       "        vertical-align: middle;\n",
       "    }\n",
       "\n",
       "    .dataframe tbody tr th {\n",
       "        vertical-align: top;\n",
       "    }\n",
       "\n",
       "    .dataframe thead th {\n",
       "        text-align: right;\n",
       "    }\n",
       "</style>\n",
       "<table border=\"1\" class=\"dataframe\">\n",
       "  <thead>\n",
       "    <tr style=\"text-align: right;\">\n",
       "      <th></th>\n",
       "      <th>content</th>\n",
       "      <th>annotation</th>\n",
       "      <th>pp_score</th>\n",
       "      <th>pred_4.22</th>\n",
       "      <th>pred_5.31</th>\n",
       "      <th>pred_13.51</th>\n",
       "    </tr>\n",
       "  </thead>\n",
       "  <tbody>\n",
       "    <tr>\n",
       "      <th>65</th>\n",
       "      <td>We use cookies to make sure you can have the b...</td>\n",
       "      <td>0</td>\n",
       "      <td>12.969343</td>\n",
       "      <td>0</td>\n",
       "      <td>0</td>\n",
       "      <td>1</td>\n",
       "    </tr>\n",
       "    <tr>\n",
       "      <th>82</th>\n",
       "      <td>Deze website maakt gebruik van cookies. Voor e...</td>\n",
       "      <td>0</td>\n",
       "      <td>13.347916</td>\n",
       "      <td>0</td>\n",
       "      <td>0</td>\n",
       "      <td>1</td>\n",
       "    </tr>\n",
       "    <tr>\n",
       "      <th>147</th>\n",
       "      <td>If this is your first visit, be sure to check ...</td>\n",
       "      <td>0</td>\n",
       "      <td>1.602587</td>\n",
       "      <td>1</td>\n",
       "      <td>1</td>\n",
       "      <td>1</td>\n",
       "    </tr>\n",
       "    <tr>\n",
       "      <th>445</th>\n",
       "      <td>Privacy &amp; Cookies: This site uses cookies. By ...</td>\n",
       "      <td>0</td>\n",
       "      <td>5.215265</td>\n",
       "      <td>0</td>\n",
       "      <td>1</td>\n",
       "      <td>1</td>\n",
       "    </tr>\n",
       "    <tr>\n",
       "      <th>463</th>\n",
       "      <td>Privacy &amp; Cookies: This site uses cookies. By ...</td>\n",
       "      <td>0</td>\n",
       "      <td>5.215265</td>\n",
       "      <td>0</td>\n",
       "      <td>1</td>\n",
       "      <td>1</td>\n",
       "    </tr>\n",
       "    <tr>\n",
       "      <th>...</th>\n",
       "      <td>...</td>\n",
       "      <td>...</td>\n",
       "      <td>...</td>\n",
       "      <td>...</td>\n",
       "      <td>...</td>\n",
       "      <td>...</td>\n",
       "    </tr>\n",
       "    <tr>\n",
       "      <th>136401</th>\n",
       "      <td>Privacy &amp; Cookies: This site uses cookies. By ...</td>\n",
       "      <td>0</td>\n",
       "      <td>5.215265</td>\n",
       "      <td>0</td>\n",
       "      <td>1</td>\n",
       "      <td>1</td>\n",
       "    </tr>\n",
       "    <tr>\n",
       "      <th>136454</th>\n",
       "      <td>Privacy &amp; Cookies: This site uses cookies. By ...</td>\n",
       "      <td>0</td>\n",
       "      <td>5.215265</td>\n",
       "      <td>0</td>\n",
       "      <td>1</td>\n",
       "      <td>1</td>\n",
       "    </tr>\n",
       "    <tr>\n",
       "      <th>136517</th>\n",
       "      <td>Privacy &amp; Cookies: This site uses cookies. By ...</td>\n",
       "      <td>0</td>\n",
       "      <td>5.215265</td>\n",
       "      <td>0</td>\n",
       "      <td>1</td>\n",
       "      <td>1</td>\n",
       "    </tr>\n",
       "    <tr>\n",
       "      <th>136523</th>\n",
       "      <td>Enter the username or e-mail you used in your ...</td>\n",
       "      <td>0</td>\n",
       "      <td>4.047420</td>\n",
       "      <td>1</td>\n",
       "      <td>1</td>\n",
       "      <td>1</td>\n",
       "    </tr>\n",
       "    <tr>\n",
       "      <th>136694</th>\n",
       "      <td>Privacy &amp; Cookies: This site uses cookies. By ...</td>\n",
       "      <td>0</td>\n",
       "      <td>5.215265</td>\n",
       "      <td>0</td>\n",
       "      <td>1</td>\n",
       "      <td>1</td>\n",
       "    </tr>\n",
       "  </tbody>\n",
       "</table>\n",
       "<p>1229 rows × 6 columns</p>\n",
       "</div>"
      ],
      "text/plain": [
       "                                                  content  annotation  \\\n",
       "65      We use cookies to make sure you can have the b...           0   \n",
       "82      Deze website maakt gebruik van cookies. Voor e...           0   \n",
       "147     If this is your first visit, be sure to check ...           0   \n",
       "445     Privacy & Cookies: This site uses cookies. By ...           0   \n",
       "463     Privacy & Cookies: This site uses cookies. By ...           0   \n",
       "...                                                   ...         ...   \n",
       "136401  Privacy & Cookies: This site uses cookies. By ...           0   \n",
       "136454  Privacy & Cookies: This site uses cookies. By ...           0   \n",
       "136517  Privacy & Cookies: This site uses cookies. By ...           0   \n",
       "136523  Enter the username or e-mail you used in your ...           0   \n",
       "136694  Privacy & Cookies: This site uses cookies. By ...           0   \n",
       "\n",
       "         pp_score  pred_4.22  pred_5.31  pred_13.51  \n",
       "65      12.969343          0          0           1  \n",
       "82      13.347916          0          0           1  \n",
       "147      1.602587          1          1           1  \n",
       "445      5.215265          0          1           1  \n",
       "463      5.215265          0          1           1  \n",
       "...           ...        ...        ...         ...  \n",
       "136401   5.215265          0          1           1  \n",
       "136454   5.215265          0          1           1  \n",
       "136517   5.215265          0          1           1  \n",
       "136523   4.047420          1          1           1  \n",
       "136694   5.215265          0          1           1  \n",
       "\n",
       "[1229 rows x 6 columns]"
      ]
     },
     "execution_count": 10,
     "metadata": {},
     "output_type": "execute_result"
    }
   ],
   "source": [
    "df_pred[df_pred['pred_13.51']==1]"
   ]
  },
  {
   "cell_type": "code",
   "execution_count": 16,
   "metadata": {},
   "outputs": [
    {
     "data": {
      "text/plain": [
       "'If this is your first visit, be sure to check out the FAQ by clicking the link above. You may have to register before you can post: click the register link above to proceed. To start viewing messages, select the forum that you want to visit from the selection below.'"
      ]
     },
     "execution_count": 16,
     "metadata": {},
     "output_type": "execute_result"
    }
   ],
   "source": [
    "df_pred.loc[147]['content']"
   ]
  },
  {
   "cell_type": "code",
   "execution_count": 17,
   "metadata": {},
   "outputs": [
    {
     "data": {
      "text/plain": [
       "'Enter the username or e-mail you used in your profile. A password reset link will be sent to you by email.'"
      ]
     },
     "execution_count": 17,
     "metadata": {},
     "output_type": "execute_result"
    }
   ],
   "source": [
    "df_pred.loc[136523]['content']"
   ]
  },
  {
   "cell_type": "code",
   "execution_count": null,
   "metadata": {},
   "outputs": [],
   "source": []
  },
  {
   "cell_type": "markdown",
   "metadata": {
    "id": "wFa9JTzDD2KP"
   },
   "source": [
    "# 2. Results Analysis"
   ]
  },
  {
   "cell_type": "code",
   "execution_count": 18,
   "metadata": {},
   "outputs": [],
   "source": [
    "def plot_confusion_matrix(cm, classes,\n",
    "                          normalize=False,\n",
    "                          title='Confusion matrix',\n",
    "                          cmap=plt.cm.Blues):\n",
    "    \"\"\"\n",
    "    This function prints and plots the confusion matrix.\n",
    "    Normalization can be applied by setting `normalize=True`.\n",
    "    \"\"\"\n",
    "    if normalize:\n",
    "        cm = cm.astype('float') / cm.sum(axis=1)[:, np.newaxis]\n",
    "\n",
    "    plt.imshow(cm, interpolation='nearest', cmap=cmap)\n",
    "    plt.title(title)\n",
    "    plt.colorbar()\n",
    "    tick_marks = np.arange(len(classes))\n",
    "    plt.xticks(tick_marks, classes, rotation=45)\n",
    "    plt.yticks(tick_marks, classes)\n",
    "\n",
    "    fmt = '.2f' if normalize else 'd'\n",
    "    thresh = cm.max() / 2.\n",
    "    for i, j in itertools.product(range(cm.shape[0]), range(cm.shape[1])):\n",
    "        plt.text(j, i, format(cm[i, j], fmt),\n",
    "                 horizontalalignment=\"center\",\n",
    "                 color=\"white\" if cm[i, j] > thresh else \"black\")\n",
    "\n",
    "    plt.ylabel('True label')\n",
    "    plt.xlabel('Predicted label')\n",
    "    plt.tight_layout()"
   ]
  },
  {
   "cell_type": "code",
   "execution_count": 19,
   "metadata": {},
   "outputs": [],
   "source": [
    "def evaluation_oscar_pred(thresholds, df):\n",
    "\n",
    "    plt.figure(figsize=(18,4))\n",
    "    for i, thre in enumerate(thresholds):\n",
    "        pred = df_pred['pred_%s'%thre]\n",
    "\n",
    "        print('--------- perplexity threshold = %s -----------'%thre)\n",
    "        print(classification_report(df['annotation'], pred))\n",
    "\n",
    "        plt.subplot(1,3,i+1)\n",
    "        cm = confusion_matrix(df['annotation'], pred)\n",
    "        plot_confusion_matrix(cm, classes = unique_labels(df['annotation']), title = \"Threshold = %s\"%thre)\n",
    "\n",
    "\n",
    "    "
   ]
  },
  {
   "cell_type": "code",
   "execution_count": 20,
   "metadata": {},
   "outputs": [
    {
     "name": "stdout",
     "output_type": "stream",
     "text": [
      "--------- perplexity threshold = 4.22 -----------\n",
      "              precision    recall  f1-score   support\n",
      "\n",
      "           0       1.00      1.00      1.00    119249\n",
      "           1       0.01      0.10      0.01        31\n",
      "\n",
      "    accuracy                           1.00    119280\n",
      "   macro avg       0.50      0.55      0.50    119280\n",
      "weighted avg       1.00      1.00      1.00    119280\n",
      "\n",
      "--------- perplexity threshold = 5.31 -----------\n",
      "              precision    recall  f1-score   support\n",
      "\n",
      "           0       1.00      0.99      1.00    119249\n",
      "           1       0.00      0.13      0.01        31\n",
      "\n",
      "    accuracy                           0.99    119280\n",
      "   macro avg       0.50      0.56      0.50    119280\n",
      "weighted avg       1.00      0.99      1.00    119280\n",
      "\n",
      "--------- perplexity threshold = 13.51 -----------\n",
      "              precision    recall  f1-score   support\n",
      "\n",
      "           0       1.00      0.99      0.99    119249\n",
      "           1       0.00      0.13      0.01        31\n",
      "\n",
      "    accuracy                           0.99    119280\n",
      "   macro avg       0.50      0.56      0.50    119280\n",
      "weighted avg       1.00      0.99      0.99    119280\n",
      "\n"
     ]
    },
    {
     "data": {
      "image/png": "[encoded data removed]",
      "text/plain": [
       "<Figure size 1296x288 with 6 Axes>"
      ]
     },
     "metadata": {
      "needs_background": "light"
     },
     "output_type": "display_data"
    }
   ],
   "source": [
    "evaluation_oscar_pred([4.22, 5.31, 13.51], df_pred)"
   ]
  },
  {
   "cell_type": "code",
   "execution_count": null,
   "metadata": {},
   "outputs": [],
   "source": []
  }
 ],
 "metadata": {
  "colab": {
   "collapsed_sections": [],
   "name": "hate_speech_flair_twitter_cyberbullying_distilbert_oscar.ipynb",
   "provenance": [
    {
     "file_id": "1g737BHhsefKZVCujbpqdFCKyxCypdQE1",
     "timestamp": 1657535776249
    },
    {
     "file_id": "1lhgMY-ujpbGTYx3X6VJeFwLCk4n4dEDW",
     "timestamp": 1652450085133
    },
    {
     "file_id": "1s5D1Dp0b_4KsF_fHANhXoBisr9W7ITXN",
     "timestamp": 1652032375991
    }
   ]
  },
  "gpuClass": "standard",
  "kernelspec": {
   "display_name": "Python 3",
   "language": "python",
   "name": "python3"
  },
  "language_info": {
   "codemirror_mode": {
    "name": "ipython",
    "version": 3
   },
   "file_extension": ".py",
   "mimetype": "text/x-python",
   "name": "python",
   "nbconvert_exporter": "python",
   "pygments_lexer": "ipython3",
   "version": "3.8.5"
  }
 },
 "nbformat": 4,
 "nbformat_minor": 1
}

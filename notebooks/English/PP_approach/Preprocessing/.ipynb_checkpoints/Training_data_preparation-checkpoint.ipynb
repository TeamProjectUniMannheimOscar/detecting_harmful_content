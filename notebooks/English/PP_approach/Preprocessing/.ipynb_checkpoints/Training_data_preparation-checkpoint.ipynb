{
 "cells": [
  {
   "cell_type": "code",
   "execution_count": 1,
   "metadata": {},
   "outputs": [],
   "source": [
    "import pandas as pd\n",
    "import numpy as np"
   ]
  },
  {
   "cell_type": "markdown",
   "metadata": {},
   "source": [
    "## Small sample"
   ]
  },
  {
   "cell_type": "code",
   "execution_count": 2,
   "metadata": {},
   "outputs": [],
   "source": [
    "PATH_TRAIN_J = '../../../../data/raw/Oscar_data/PP/pp_train_adult_2634.json'\n",
    "PATH_TRAIN_T = '../../../../data/raw/Oscar_data/PP/pp_train_adult_2634.txt'"
   ]
  },
  {
   "cell_type": "code",
   "execution_count": 16,
   "metadata": {},
   "outputs": [
    {
     "data": {
      "text/plain": [
       "0       Also known as: Stahl-Justiz, La vengeance de J...\n",
       "1       Description: The film Delirium is about a madm...\n",
       "2       The Chicago Public Library's flagship teen pro...\n",
       "3       This policy explains in detail how “The Realm”...\n",
       "4       The versatile design of Sir Richard's Command ...\n",
       "                              ...                        \n",
       "2629    VAN NUYS, CA | Airerose Entertainment is proud...\n",
       "2630    With this membership, you gain full access to ...\n",
       "2631    Getty\\tTim Boyle #8 of the Green Bay Packers l...\n",
       "2632    You must be at least 18 years old or the age o...\n",
       "2633    Rahm Emanuel: Once an ambitious, calculating p...\n",
       "Name: text, Length: 2634, dtype: object"
      ]
     },
     "execution_count": 16,
     "metadata": {},
     "output_type": "execute_result"
    }
   ],
   "source": [
    "df_train = pd.read_json(PATH_TRAIN_J)\n",
    "df_train[['text']].to_csv (PATH_TRAIN_T, index = False, header=False)\n",
    "df_train[['text']]"
   ]
  },
  {
   "cell_type": "markdown",
   "metadata": {},
   "source": [
    "## Big sample"
   ]
  },
  {
   "cell_type": "code",
   "execution_count": 2,
   "metadata": {},
   "outputs": [],
   "source": [
    "PATH_TRAIN_J = '../../../../data/raw/Oscar_data/PP/pp_train_adult_big.json'\n",
    "PATH_TRAIN_T = '../../../../data/raw/Oscar_data/PP/pp_train_adult_big.txt'"
   ]
  },
  {
   "cell_type": "code",
   "execution_count": 3,
   "metadata": {},
   "outputs": [
    {
     "data": {
      "text/html": [
       "<div>\n",
       "<style scoped>\n",
       "    .dataframe tbody tr th:only-of-type {\n",
       "        vertical-align: middle;\n",
       "    }\n",
       "\n",
       "    .dataframe tbody tr th {\n",
       "        vertical-align: top;\n",
       "    }\n",
       "\n",
       "    .dataframe thead th {\n",
       "        text-align: right;\n",
       "    }\n",
       "</style>\n",
       "<table border=\"1\" class=\"dataframe\">\n",
       "  <thead>\n",
       "    <tr style=\"text-align: right;\">\n",
       "      <th></th>\n",
       "      <th>text</th>\n",
       "    </tr>\n",
       "  </thead>\n",
       "  <tbody>\n",
       "    <tr>\n",
       "      <th>0</th>\n",
       "      <td>Also known as: Stahl-Justiz, La vengeance de J...</td>\n",
       "    </tr>\n",
       "    <tr>\n",
       "      <th>1</th>\n",
       "      <td>Description: The film Delirium is about a madm...</td>\n",
       "    </tr>\n",
       "    <tr>\n",
       "      <th>2</th>\n",
       "      <td>The Chicago Public Library's flagship teen pro...</td>\n",
       "    </tr>\n",
       "    <tr>\n",
       "      <th>3</th>\n",
       "      <td>This policy explains in detail how “The Realm”...</td>\n",
       "    </tr>\n",
       "    <tr>\n",
       "      <th>4</th>\n",
       "      <td>The versatile design of Sir Richard's Command ...</td>\n",
       "    </tr>\n",
       "    <tr>\n",
       "      <th>...</th>\n",
       "      <td>...</td>\n",
       "    </tr>\n",
       "    <tr>\n",
       "      <th>23697</th>\n",
       "      <td>Interracial relationships essay a type of work...</td>\n",
       "    </tr>\n",
       "    <tr>\n",
       "      <th>23698</th>\n",
       "      <td>8th street latinas scientists say that the sun...</td>\n",
       "    </tr>\n",
       "    <tr>\n",
       "      <th>23699</th>\n",
       "      <td>I did pick the word out the tasks for to depar...</td>\n",
       "    </tr>\n",
       "    <tr>\n",
       "      <th>23700</th>\n",
       "      <td>Robert looked at him telling me vulnerable i w...</td>\n",
       "    </tr>\n",
       "    <tr>\n",
       "      <th>23701</th>\n",
       "      <td>This policy explains in detail how “The Realm”...</td>\n",
       "    </tr>\n",
       "  </tbody>\n",
       "</table>\n",
       "<p>23702 rows × 1 columns</p>\n",
       "</div>"
      ],
      "text/plain": [
       "                                                    text\n",
       "0      Also known as: Stahl-Justiz, La vengeance de J...\n",
       "1      Description: The film Delirium is about a madm...\n",
       "2      The Chicago Public Library's flagship teen pro...\n",
       "3      This policy explains in detail how “The Realm”...\n",
       "4      The versatile design of Sir Richard's Command ...\n",
       "...                                                  ...\n",
       "23697  Interracial relationships essay a type of work...\n",
       "23698  8th street latinas scientists say that the sun...\n",
       "23699  I did pick the word out the tasks for to depar...\n",
       "23700  Robert looked at him telling me vulnerable i w...\n",
       "23701  This policy explains in detail how “The Realm”...\n",
       "\n",
       "[23702 rows x 1 columns]"
      ]
     },
     "execution_count": 3,
     "metadata": {},
     "output_type": "execute_result"
    }
   ],
   "source": [
    "df_train = pd.read_json(PATH_TRAIN_J)\n",
    "df_train[['text']].to_csv (PATH_TRAIN_T, index = False, header=False)\n",
    "df_train[['text']]"
   ]
  },
  {
   "cell_type": "code",
   "execution_count": null,
   "metadata": {},
   "outputs": [],
   "source": []
  },
  {
   "cell_type": "code",
   "execution_count": null,
   "metadata": {},
   "outputs": [],
   "source": []
  },
  {
   "cell_type": "code",
   "execution_count": null,
   "metadata": {},
   "outputs": [],
   "source": []
  },
  {
   "cell_type": "code",
   "execution_count": null,
   "metadata": {},
   "outputs": [],
   "source": []
  }
 ],
 "metadata": {
  "kernelspec": {
   "display_name": "Python [conda env:snake8] *",
   "language": "python",
   "name": "conda-env-snake8-py"
  },
  "language_info": {
   "codemirror_mode": {
    "name": "ipython",
    "version": 3
   },
   "file_extension": ".py",
   "mimetype": "text/x-python",
   "name": "python",
   "nbconvert_exporter": "python",
   "pygments_lexer": "ipython3",
   "version": "3.8.5"
  }
 },
 "nbformat": 4,
 "nbformat_minor": 4
}
